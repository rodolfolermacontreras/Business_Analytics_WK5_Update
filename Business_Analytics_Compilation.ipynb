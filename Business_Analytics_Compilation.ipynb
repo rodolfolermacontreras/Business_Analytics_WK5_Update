{
 "cells": [
  {
   "cell_type": "markdown",
   "id": "8c40ac77",
   "metadata": {},
   "source": [
    "# BUSINESS ANALYTICS\n",
    "## STUDY CASE: Lending Club"
   ]
  },
  {
   "cell_type": "code",
   "execution_count": 1,
   "id": "92d393e3",
   "metadata": {},
   "outputs": [],
   "source": [
    "# General utilities\n",
    "import pandas as pd\n",
    "import numpy as np\n",
    "import matplotlib.pyplot as plt\n",
    "import matplotlib.axes as ax\n",
    "import seaborn as sns\n",
    "import datetime\n",
    "import pickle\n",
    "import time\n",
    "import collections\n",
    "import os\n",
    "import warnings\n",
    "from sys import platform\n",
    "\n",
    "# Sklearn utilities\n",
    "from sklearn.model_selection import train_test_split, GridSearchCV\n",
    "from sklearn import preprocessing, linear_model\n",
    "from sklearn.metrics import accuracy_score, classification_report, roc_auc_score, roc_curve, brier_score_loss, mean_squared_error\n",
    "from sklearn.metrics import r2_score, auc, precision_recall_curve, f1_score, confusion_matrix, mean_absolute_error\n",
    "from sklearn.utils import resample\n",
    "from sklearn.preprocessing import MinMaxScaler, StandardScaler\n",
    "from sklearn.cluster import KMeans\n",
    "from sklearn.calibration import calibration_curve\n",
    "\n",
    "# Sklearn classifiers\n",
    "from sklearn.linear_model import LogisticRegression, RidgeClassifier, LassoLars\n",
    "from sklearn.tree import DecisionTreeClassifier, export_graphviz\n",
    "from sklearn.ensemble import RandomForestClassifier, GradientBoostingClassifier, BaggingClassifier, RandomForestRegressor\n",
    "from sklearn.naive_bayes import GaussianNB\n",
    "from sklearn.neural_network import MLPClassifier, MLPRegressor\n",
    "\n",
    "# Other packages\n",
    "from scipy.stats import kendalltau\n",
    "from six import StringIO\n",
    "from IPython.display import Image\n",
    "import pydotplus\n",
    "import gurobipy as gp\n",
    "from gurobipy import GRB\n",
    "\n",
    "# Load debugger, if required\n",
    "pd.options.mode.chained_assignment = None\n",
    "\n",
    "# Suppress all warnings\n",
    "warnings.filterwarnings(\"ignore\")"
   ]
  },
  {
   "cell_type": "markdown",
   "id": "dd37df39",
   "metadata": {},
   "source": [
    "## WK1/Phase1 - Ingestion and Cleaning"
   ]
  },
  {
   "cell_type": "markdown",
   "id": "d6fea01a",
   "metadata": {},
   "source": [
    "### Step 1 - Ingestion"
   ]
  },
  {
   "cell_type": "code",
   "execution_count": 2,
   "id": "8ce907e4",
   "metadata": {},
   "outputs": [],
   "source": [
    "def is_integer(x):\n",
    "    '''\n",
    "    This function returns True if x is an integer, and False otherwise\n",
    "    '''\n",
    "    try:\n",
    "        return (int(x) == float(x))\n",
    "    except:\n",
    "        return False"
   ]
  },
  {
   "cell_type": "code",
   "execution_count": 3,
   "id": "fbce10bf",
   "metadata": {},
   "outputs": [],
   "source": [
    "# Example using Windows\n",
    "dir_data = \"C:\\\\Users\\\\ly266e\\\\Documents\\\\Training\\\\CMU\\\\Master\\\\Fall 2023 Mini 7\\\\Business_Analytics\\\\HW\\\\HW6\\\\Data\""
   ]
  },
  {
   "cell_type": "code",
   "execution_count": 4,
   "id": "ca0ec0e2",
   "metadata": {},
   "outputs": [],
   "source": [
    "from typing import Dict, final\n",
    "def ingest_files(directory: str) -> Dict:\n",
    "    '''\n",
    "    This function will ingest every file in the specified directory\n",
    "    into a pandas dataframe. It will return a dictionary containing\n",
    "    these dataframes, keyed by the file name.\n",
    "    \n",
    "    We assume the directory contains files directly downloaded from\n",
    "    Lending Club, and *only* those files. Thus, we assume the files are zipped\n",
    "    (pd.read_csv can read zipped files) and we assume the first line\n",
    "    in each file needs to be skipped. \n",
    "    \n",
    "    Note that this function will read and ingest more than one file and is\n",
    "    convenient if you want to ingest data for more than one year at a time.\n",
    "    \n",
    "    Note that each file will be read *without* formatting\n",
    "    '''\n",
    "    \n",
    "    # If the directory has no trailing slash, add one\n",
    "    if directory[-1] != \"/\":\n",
    "        directory = directory + \"/\"\n",
    "    \n",
    "    all_files = os.listdir(directory)\n",
    "    output = {}\n",
    "    \n",
    "    print(\"Directory \" + directory + \" has \" + str(len(all_files)) + \" files:\")\n",
    "    for i in all_files:\n",
    "        print(\"    Reading file \" + i)\n",
    "        output[i] = pd.read_csv(directory + i, dtype = str, skiprows = 1)\n",
    "        \n",
    "        # Some of the files have \"summary\" lines that, for example\n",
    "        # read \"Total number of loans number in Policy 1: .....\"\n",
    "        # To remove those lines, find any lines with non-integer IDs\n",
    "        # and remove them\n",
    "        invalid_rows = (output[i].id.apply( lambda x : is_integer(x) == False ))\n",
    "        if invalid_rows.sum() > 0:\n",
    "            print(\"        Found \" + str(invalid_rows.sum()) + \" invalid rows which were removed\")\n",
    "            output[i] = output[i][invalid_rows == False]\n",
    "    \n",
    "    return output"
   ]
  },
  {
   "cell_type": "code",
   "execution_count": 5,
   "id": "d4a02a27",
   "metadata": {},
   "outputs": [
    {
     "name": "stdout",
     "output_type": "stream",
     "text": [
      "Directory C:\\Users\\ly266e\\Documents\\Training\\CMU\\Master\\Fall 2023 Mini 7\\Business_Analytics\\HW\\HW6\\Data/ has 2 files:\n",
      "    Reading file LoanStats3c.csv\n",
      "        Found 4 invalid rows which were removed\n",
      "    Reading file LoanStats3d.csv\n",
      "        Found 5 invalid rows which were removed\n"
     ]
    }
   ],
   "source": [
    "# Ingest the set of files we downloaded \n",
    "files_data = ingest_files(dir_data)"
   ]
  },
  {
   "cell_type": "code",
   "execution_count": 6,
   "id": "23ebd498",
   "metadata": {},
   "outputs": [
    {
     "data": {
      "text/plain": [
       "dict_keys(['LoanStats3c.csv', 'LoanStats3d.csv'])"
      ]
     },
     "execution_count": 6,
     "metadata": {},
     "output_type": "execute_result"
    }
   ],
   "source": [
    "files_data.keys()"
   ]
  },
  {
   "cell_type": "code",
   "execution_count": 7,
   "id": "3a9faea6",
   "metadata": {},
   "outputs": [],
   "source": [
    "data_now = pd.concat(files_data.values()).reset_index(drop = True)\n",
    "columns = list(data_now.columns)"
   ]
  },
  {
   "cell_type": "code",
   "execution_count": 8,
   "id": "34c38f6b",
   "metadata": {},
   "outputs": [
    {
     "name": "stdout",
     "output_type": "stream",
     "text": [
      "The number of columns is: 144\n"
     ]
    }
   ],
   "source": [
    "print(f\"The number of columns is: {len(columns)}\")"
   ]
  },
  {
   "cell_type": "code",
   "execution_count": 9,
   "id": "7a1a1398",
   "metadata": {},
   "outputs": [
    {
     "name": "stdout",
     "output_type": "stream",
     "text": [
      "Starting with 656724 rows\n"
     ]
    }
   ],
   "source": [
    "print(\"Starting with \" + str(len(data_now)) + \" rows\")"
   ]
  },
  {
   "cell_type": "markdown",
   "id": "c49c61e2",
   "metadata": {},
   "source": [
    "### Step 2 - Choose Columns and Prepare Dataset"
   ]
  },
  {
   "cell_type": "code",
   "execution_count": 10,
   "id": "e14413d9",
   "metadata": {},
   "outputs": [],
   "source": [
    "# Identify the columns we'll be keeping from the dataset\n",
    "cols_to_pick = ['id','loan_amnt','funded_amnt','term','int_rate'\n",
    "                ,'grade','emp_length', 'home_ownership',\n",
    "                'annual_inc','verification_status','issue_d',\n",
    "                'loan_status','purpose','dti', 'delinq_2yrs','open_acc','pub_rec',\n",
    "                'revol_bal','revol_util', 'total_pymnt', 'recoveries',\n",
    "                'inq_last_6mths', 'pct_tl_nvr_dlq', 'last_pymnt_d', 'earliest_cr_line']\n",
    "\n",
    "# Identify the type of each of these column\n",
    "float_cols = ['loan_amnt', 'funded_amnt', 'annual_inc',\n",
    "              'dti', 'revol_bal', 'delinq_2yrs', 'open_acc', 'pub_rec',\n",
    "              'total_pymnt', 'recoveries', 'inq_last_6mths']\n",
    "\n",
    "cat_cols = ['term', 'grade', 'emp_length', 'home_ownership',\n",
    "                    'verification_status', 'loan_status', 'purpose']\n",
    "\n",
    "perc_cols = ['int_rate', 'revol_util', 'pct_tl_nvr_dlq']\n",
    "\n",
    "date_cols = ['issue_d', 'last_pymnt_d', 'earliest_cr_line']\n",
    "\n",
    "# Ensure that we have types for every column\n",
    "assert set(cols_to_pick) - set(float_cols) - set(cat_cols) - set(perc_cols) - set(date_cols) == set([\"id\"])"
   ]
  },
  {
   "cell_type": "code",
   "execution_count": 11,
   "id": "eeae8c21",
   "metadata": {},
   "outputs": [],
   "source": [
    "# Keep only the columns of interest\n",
    "final_data = data_now[cols_to_pick].copy()"
   ]
  },
  {
   "cell_type": "markdown",
   "id": "8eae4ea3",
   "metadata": {},
   "source": [
    "#### Typecast the columns"
   ]
  },
  {
   "cell_type": "code",
   "execution_count": 12,
   "id": "46f659f5",
   "metadata": {},
   "outputs": [],
   "source": [
    "for i in float_cols:\n",
    "    final_data[i] = final_data[i].astype(float)"
   ]
  },
  {
   "cell_type": "code",
   "execution_count": 13,
   "id": "e121903b",
   "metadata": {},
   "outputs": [],
   "source": [
    "def clean_perc(x):\n",
    "    if pd.isnull(x):\n",
    "        return np.nan\n",
    "    \n",
    "    # If x is already a float (or int), return it as is\n",
    "    if isinstance(x, (float, int)):\n",
    "        return float(x)\n",
    "    \n",
    "    x = x.rstrip()\n",
    "    if x.endswith('%'):\n",
    "        x = x[:-1]\n",
    "        \n",
    "    if x == '':\n",
    "        return np.nan\n",
    "    else:\n",
    "        return float(x)\n",
    "    \n",
    "for i in perc_cols:\n",
    "    final_data[i] = final_data[i].apply( clean_perc )"
   ]
  },
  {
   "cell_type": "code",
   "execution_count": 14,
   "id": "f1b56c77",
   "metadata": {},
   "outputs": [],
   "source": [
    "def clean_date(x):\n",
    "    if pd.isnull(x):\n",
    "        return None\n",
    "    else:\n",
    "        return datetime.datetime.strptime(x, \"%b-%y\").date()\n",
    "\n",
    "# Assuming final_data is your DataFrame and date_cols contains the date columns\n",
    "for i in date_cols:\n",
    "    final_data[i] = final_data[i].apply(clean_date)"
   ]
  },
  {
   "cell_type": "code",
   "execution_count": 15,
   "id": "8dcf3cf7",
   "metadata": {},
   "outputs": [],
   "source": [
    "for i in cat_cols:\n",
    "    final_data.loc[final_data[i].isnull(), i] = None"
   ]
  },
  {
   "cell_type": "markdown",
   "id": "ab893172",
   "metadata": {},
   "source": [
    "### Step 3 - Handle outliers"
   ]
  },
  {
   "cell_type": "code",
   "execution_count": 16,
   "id": "18fb7751",
   "metadata": {},
   "outputs": [
    {
     "name": "stdout",
     "output_type": "stream",
     "text": [
      "Removed 345 rows\n"
     ]
    }
   ],
   "source": [
    "# There are quite a few outliers, but the two most obvious ones to remove are in annual_inc, revol_bal Remove these.\n",
    "n_rows = len(final_data)\n",
    "final_data = final_data[final_data.annual_inc < 1000000]\n",
    "final_data = final_data[final_data.revol_bal < 400000]\n",
    "final_data = final_data[final_data.dti < 200]\n",
    "print(\"Removed \" + str(n_rows - len(final_data)) + \" rows\")"
   ]
  },
  {
   "cell_type": "code",
   "execution_count": 17,
   "id": "f582eed2",
   "metadata": {},
   "outputs": [
    {
     "name": "stdout",
     "output_type": "stream",
     "text": [
      "Removed 0 rows\n"
     ]
    }
   ],
   "source": [
    "# Remove all loans that are too recent to have been paid off or defaulted\n",
    "n_rows = len(final_data)\n",
    "final_data = final_data[final_data.loan_status.isin(['Fully Paid','Charged Off','Default'])]\n",
    "print(\"Removed \" + str(n_rows - len(final_data)) + \" rows\")"
   ]
  },
  {
   "cell_type": "code",
   "execution_count": 18,
   "id": "aa9a0343",
   "metadata": {},
   "outputs": [
    {
     "name": "stdout",
     "output_type": "stream",
     "text": [
      "Removed 0 rows\n"
     ]
    }
   ],
   "source": [
    "# Only include loans issued since 2009\n",
    "n_rows = len(final_data)\n",
    "final_data = final_data[final_data.issue_d >= datetime.date(2009, 1, 1)]\n",
    "print(\"Removed \" + str(n_rows - len(final_data)) + \" rows\")"
   ]
  },
  {
   "cell_type": "markdown",
   "id": "92cef308",
   "metadata": {},
   "source": [
    "#### Outlier detection and Data Cleaning"
   ]
  },
  {
   "cell_type": "code",
   "execution_count": 19,
   "id": "03703292",
   "metadata": {},
   "outputs": [],
   "source": [
    "def flag_and_limit_outliers(df, cols, z_threshold=3):\n",
    "    from scipy import stats\n",
    "    \n",
    "    \"\"\"\n",
    "    Flag outliers in specified columns using Z-score method and return the upper limit.\n",
    "    \n",
    "    Parameters:\n",
    "        df (DataFrame): Input DataFrame\n",
    "        cols (list): List of columns to check for outliers\n",
    "        z_threshold (float): Z-score threshold for flagging outliers. Defaults to 3.\n",
    "        \n",
    "    Returns:\n",
    "        DataFrame: DataFrame with additional columns to flag outliers\n",
    "        dict: Dictionary with upper limits for each column\n",
    "    \"\"\"\n",
    "    df_outliers = df.copy()\n",
    "    upper_limits = {}\n",
    "    \n",
    "    for col in cols:\n",
    "        col_mean = df_outliers[col].mean()\n",
    "        col_std = df_outliers[col].std()\n",
    "        \n",
    "        # Calculate upper limit for each column\n",
    "        upper_limit = col_mean + (z_threshold * col_std)\n",
    "        upper_limits[col] = upper_limit\n",
    "        \n",
    "        # Flag outliers in DataFrame\n",
    "        df_outliers[f\"{col}_outlier\"] = (df_outliers[col] > upper_limit).astype(int)\n",
    "        \n",
    "    return df_outliers, upper_limits"
   ]
  },
  {
   "cell_type": "code",
   "execution_count": 20,
   "id": "dcef152e",
   "metadata": {},
   "outputs": [],
   "source": [
    "columns_to_check = ['annual_inc', 'inq_last_6mths', 'total_pymnt', 'open_acc']\n",
    "\n",
    "# Flag outliers and get upper limits\n",
    "df_outliers_flagged, upper_limits = flag_and_limit_outliers(final_data, columns_to_check)"
   ]
  },
  {
   "cell_type": "code",
   "execution_count": 21,
   "id": "af7ffde5",
   "metadata": {},
   "outputs": [],
   "source": [
    "outliers_columns = ['annual_inc', 'inq_last_6mths', 'total_pymnt', 'open_acc']\n",
    "upper_limits_filtered = {k: upper_limits[k] for k in outliers_columns if k in upper_limits}"
   ]
  },
  {
   "cell_type": "code",
   "execution_count": 22,
   "id": "68a27494",
   "metadata": {},
   "outputs": [
    {
     "name": "stdout",
     "output_type": "stream",
     "text": [
      "Removed 31975 rows\n"
     ]
    }
   ],
   "source": [
    "# Remove outliers based on upper limits\n",
    "n_rows = len(final_data)\n",
    "for col, upper_limit in upper_limits_filtered.items():\n",
    "    final_data = final_data[final_data[col] <= upper_limit]\n",
    "print(\"Removed \" + str(n_rows - len(final_data)) + \" rows\")"
   ]
  },
  {
   "cell_type": "markdown",
   "id": "984c5111",
   "metadata": {},
   "source": [
    "#### Drop null values"
   ]
  },
  {
   "cell_type": "code",
   "execution_count": 23,
   "id": "fbe8f605",
   "metadata": {},
   "outputs": [
    {
     "name": "stdout",
     "output_type": "stream",
     "text": [
      "Removed 676 rows\n"
     ]
    }
   ],
   "source": [
    "# Deal with null values. We allow categorical variables to be null. OTHER than grade, which is a particularly important categorical.\n",
    "# All non-categorical variables must be non-null, and we drop rows that do not meet this requirement\n",
    "required_cols = set(cols_to_pick) - set(cat_cols) - set([\"id\"])\n",
    "required_cols.add(\"grade\")\n",
    "\n",
    "n_rows = len(final_data)\n",
    "final_data.dropna(subset = required_cols ,inplace=True)\n",
    "print(\"Removed \" + str(n_rows - len(final_data)) + \" rows\")"
   ]
  },
  {
   "cell_type": "code",
   "execution_count": 24,
   "id": "c076ba2b",
   "metadata": {},
   "outputs": [],
   "source": [
    "# Some of the columns selected will not be used directly in the model, but will be used to generate other features.\n",
    "\n",
    "# All categorical columns other than \"loan_status\" will be used as discrete features\n",
    "discrete_features = list(set(cat_cols) - set([\"loan_status\"]))\n",
    "\n",
    "# All numeric columns will be used as continuous features\n",
    "continuous_features = list(float_cols + perc_cols)"
   ]
  },
  {
   "cell_type": "markdown",
   "id": "d459eb9b",
   "metadata": {},
   "source": [
    "## WK2/Phase2 - Diagnostic and Descriptive Analysis"
   ]
  },
  {
   "cell_type": "markdown",
   "id": "7c403384",
   "metadata": {},
   "source": [
    "### Step 4 - Calculate returns for each loan"
   ]
  },
  {
   "cell_type": "code",
   "execution_count": 25,
   "id": "a6fd865d",
   "metadata": {},
   "outputs": [],
   "source": [
    "### Define the names of the four returns we'll be calculating\n",
    "ret_cols = [\"ret_PESS\", \"ret_OPT\", \"ret_INTa\", \"ret_INTb\", \"ret_INTc\"]"
   ]
  },
  {
   "cell_type": "code",
   "execution_count": 26,
   "id": "8cfadbff",
   "metadata": {},
   "outputs": [
    {
     "name": "stdout",
     "output_type": "stream",
     "text": [
      "Removed 1080 rows\n"
     ]
    }
   ],
   "source": [
    "## Remove all rows for loans that were paid back on the days they were issued\n",
    "final_data['loan_length'] = (final_data.last_pymnt_d - final_data.issue_d) / np.timedelta64(1, 'M')\n",
    "n_rows = len(final_data)\n",
    "final_data = final_data[final_data.loan_length != 0]\n",
    "print(\"Removed \" + str(n_rows - len(final_data)) + \" rows\")"
   ]
  },
  {
   "cell_type": "markdown",
   "id": "42f8a7ee",
   "metadata": {},
   "source": [
    "#### Return Method 2 (pessimistic)"
   ]
  },
  {
   "cell_type": "code",
   "execution_count": 27,
   "id": "4154e0bc",
   "metadata": {},
   "outputs": [],
   "source": [
    "# Calculate the return using a simple annualized profit margin\n",
    "# Pessimistic definition (method 2)\n",
    "final_data['term_num'] = final_data.term.str.extract('(\\d+)',expand=False).astype(int)\n",
    "final_data['ret_PESS'] = ( (final_data.total_pymnt - final_data.funded_amnt)\n",
    "                                            / final_data.funded_amnt ) * (12 / final_data['term_num'])"
   ]
  },
  {
   "cell_type": "markdown",
   "id": "c9139ad7",
   "metadata": {},
   "source": [
    "#### Return Method 1 (optimistic)"
   ]
  },
  {
   "cell_type": "code",
   "execution_count": 28,
   "id": "1588234b",
   "metadata": {},
   "outputs": [],
   "source": [
    "# Assuming that if a loan gives a positive return, we can immediately find a similar loan to invest in; \n",
    "#if the loan takes a loss, we use method 2 to compute the return\n",
    "final_data['ret_OPT'] = ( (final_data.total_pymnt - final_data.funded_amnt)\n",
    "                                            / final_data.funded_amnt ) * (12 / final_data['loan_length'])\n",
    "final_data.loc[final_data.ret_OPT < 0,'ret_OPT'] = final_data.ret_PESS[final_data.ret_OPT < 0]"
   ]
  },
  {
   "cell_type": "markdown",
   "id": "175526bc",
   "metadata": {},
   "source": [
    "#### Return Method 3 (re-investment)"
   ]
  },
  {
   "cell_type": "code",
   "execution_count": 29,
   "id": "bdd93728",
   "metadata": {},
   "outputs": [],
   "source": [
    "def ret_method_3(T, i):\n",
    "    '''\n",
    "    Given an investment time horizon (in months) and re-investment\n",
    "    interest rate, calculate the return of each loan\n",
    "    '''\n",
    "\n",
    "    # Assuming that the total amount paid back was paid at equal\n",
    "    # intervals during the duration of the loan, calculate the size of each of these installment\n",
    "    actual_installment = (final_data.total_pymnt - final_data.recoveries) / final_data['loan_length']\n",
    "\n",
    "    # Assuming the amount is immediately re-invested at the prime\n",
    "    # rate, find the total amount of money we'll have by the end of the loan\n",
    "    cash_by_end_of_loan = actual_installment * (1 - pow(1 + i, final_data.loan_length)) / ( 1 - (1 + i) )\n",
    "\n",
    "    cash_by_end_of_loan = cash_by_end_of_loan + final_data.recoveries\n",
    "\n",
    "    # Assuming that cash is then re-invested at the prime rate,\n",
    "    # with monthly re-investment, until T months from the start of the loan\n",
    "    remaining_months = T - final_data['loan_length']\n",
    "    final_return = cash_by_end_of_loan * pow(1 + i, remaining_months)\n",
    "\n",
    "    # Find the percentage return\n",
    "    return( (12/T) * ( ( final_return - final_data['funded_amnt'] ) / final_data['funded_amnt'] ) )\n",
    "\n",
    "final_data['ret_INTa'] = ret_method_3(5*12, 0.001)\n",
    "final_data['ret_INTb'] = ret_method_3(5*12, 0.0025)\n",
    "final_data['ret_INTc'] = ret_method_3(5*12, 0.005)"
   ]
  },
  {
   "cell_type": "markdown",
   "id": "6f205a87",
   "metadata": {},
   "source": [
    "## WK3/Phase3  - Predicting Default Probability"
   ]
  },
  {
   "cell_type": "code",
   "execution_count": 30,
   "id": "a82ae429",
   "metadata": {},
   "outputs": [],
   "source": [
    "# Define a function that, given a CVGridSearch object, finds the percentage difference between the best and worst scores\n",
    "\n",
    "def find_score_variation(cv_model):\n",
    "    all_scores = cv_model.cv_results_['mean_test_score']\n",
    "    return( np.abs((max(all_scores) - min(all_scores))) * 100 / max(all_scores) )\n",
    "\n",
    "    '''\n",
    "    which_min_score = np.argmin(all_scores)\n",
    "    \n",
    "    all_perc_diff = []\n",
    "    \n",
    "    try:\n",
    "        all_perc_diff.append( np.abs(all_scores[which_min_score - 1] - all_scores[which_min_score])*100 / min(all_scores) )\n",
    "    except:\n",
    "        pass\n",
    "    \n",
    "    try:\n",
    "        all_perc_diff.append( np.abs(all_scores[which_min_score + 1] - all_scores[which_min_score])*100 / min(all_scores) )\n",
    "    except:\n",
    "        pass\n",
    "    \n",
    "    return ( np.mean(all_perc_diff) )\n",
    "    '''\n",
    "\n",
    "# Define a function that checks, given a CVGridSearch object, whether the optimal parameters lie on the edge of the search grid\n",
    "def find_opt_params_on_edge(cv_model):\n",
    "    out = False\n",
    "    \n",
    "    for i in cv_model.param_grid:\n",
    "        if cv_model.best_params_[i] in [ cv_model.param_grid[i][0], cv_model.param_grid[i][-1] ]:\n",
    "            out = True\n",
    "            break\n",
    "            \n",
    "    return out"
   ]
  },
  {
   "cell_type": "markdown",
   "id": "dd73db39",
   "metadata": {},
   "source": [
    "### Define a default random seed and an output file"
   ]
  },
  {
   "cell_type": "code",
   "execution_count": 31,
   "id": "1281170f",
   "metadata": {},
   "outputs": [],
   "source": [
    "default_seed = 1\n",
    "output_file = \"output_test1\""
   ]
  },
  {
   "cell_type": "code",
   "execution_count": 32,
   "id": "b464da9e",
   "metadata": {},
   "outputs": [],
   "source": [
    "# Create a function to print a line to our output file\n",
    "def dump_to_output(key, value):\n",
    "    with open(output_file, \"a\") as f:\n",
    "        f.write(\",\".join([str(default_seed), key, str(value)]) + \"\\n\")"
   ]
  },
  {
   "cell_type": "markdown",
   "id": "657dc349",
   "metadata": {},
   "source": [
    "### Load the data and engineer the features"
   ]
  },
  {
   "cell_type": "code",
   "execution_count": 33,
   "id": "b52ae76d",
   "metadata": {},
   "outputs": [],
   "source": [
    "# Create the outcome\n",
    "final_data[\"outcome\"] = final_data.loan_status.isin([\"Charged Off\", \"Default\"])\n",
    "\n",
    "# Create a feature for the length of a person's credit history at the\n",
    "# time the loan is issued\n",
    "final_data['cr_hist'] = (final_data.issue_d - final_data.earliest_cr_line) / np.timedelta64(1, 'M')\n",
    "continuous_features.append('cr_hist')\n",
    "\n",
    "# Randomly assign each row to a training and test set. We do this now because we will be fitting a variety of models on various time periods,\n",
    "# and we would like every period to use the *same* training/test split\n",
    "np.random.seed(default_seed)\n",
    "final_data['train'] = np.random.choice([True, False], size = len(final_data), p = [0.7, 0.3])"
   ]
  },
  {
   "cell_type": "code",
   "execution_count": 34,
   "id": "d2eb8121",
   "metadata": {},
   "outputs": [],
   "source": [
    "data_kmeans = final_data.copy()\n",
    "data_kmeans['loan_status_binary'] = data_kmeans['outcome'].apply(lambda x: 1 if x == True else 0)\n",
    "continuous_features_kmeans = continuous_features.copy()\n",
    "continuous_features_kmeans.append('loan_status_binary')\n",
    "data_kmeans = data_kmeans[['int_rate', 'annual_inc','loan_amnt', 'dti','inq_last_6mths', 'open_acc', 'total_pymnt']]"
   ]
  },
  {
   "cell_type": "code",
   "execution_count": 35,
   "id": "39b3d83b",
   "metadata": {},
   "outputs": [
    {
     "data": {
      "text/html": [
       "<div>\n",
       "<style scoped>\n",
       "    .dataframe tbody tr th:only-of-type {\n",
       "        vertical-align: middle;\n",
       "    }\n",
       "\n",
       "    .dataframe tbody tr th {\n",
       "        vertical-align: top;\n",
       "    }\n",
       "\n",
       "    .dataframe thead th {\n",
       "        text-align: right;\n",
       "    }\n",
       "</style>\n",
       "<table border=\"1\" class=\"dataframe\">\n",
       "  <thead>\n",
       "    <tr style=\"text-align: right;\">\n",
       "      <th></th>\n",
       "      <th>int_rate</th>\n",
       "      <th>annual_inc</th>\n",
       "      <th>loan_amnt</th>\n",
       "      <th>dti</th>\n",
       "      <th>inq_last_6mths</th>\n",
       "      <th>open_acc</th>\n",
       "      <th>total_pymnt</th>\n",
       "    </tr>\n",
       "  </thead>\n",
       "  <tbody>\n",
       "    <tr>\n",
       "      <th>0</th>\n",
       "      <td>-0.126838</td>\n",
       "      <td>0.189313</td>\n",
       "      <td>0.026687</td>\n",
       "      <td>-0.803985</td>\n",
       "      <td>-0.711305</td>\n",
       "      <td>-1.115271</td>\n",
       "      <td>0.115949</td>\n",
       "    </tr>\n",
       "    <tr>\n",
       "      <th>1</th>\n",
       "      <td>-1.380691</td>\n",
       "      <td>-0.371253</td>\n",
       "      <td>-0.529553</td>\n",
       "      <td>-0.461659</td>\n",
       "      <td>1.774399</td>\n",
       "      <td>1.105701</td>\n",
       "      <td>-0.923345</td>\n",
       "    </tr>\n",
       "    <tr>\n",
       "      <th>2</th>\n",
       "      <td>0.168050</td>\n",
       "      <td>-0.595479</td>\n",
       "      <td>-0.862087</td>\n",
       "      <td>1.894352</td>\n",
       "      <td>0.531547</td>\n",
       "      <td>-0.105739</td>\n",
       "      <td>-1.340743</td>\n",
       "    </tr>\n",
       "    <tr>\n",
       "      <th>3</th>\n",
       "      <td>0.976089</td>\n",
       "      <td>1.506641</td>\n",
       "      <td>-0.239341</td>\n",
       "      <td>-1.244626</td>\n",
       "      <td>-0.711305</td>\n",
       "      <td>-0.711458</td>\n",
       "      <td>0.286870</td>\n",
       "    </tr>\n",
       "    <tr>\n",
       "      <th>4</th>\n",
       "      <td>0.616187</td>\n",
       "      <td>-0.208689</td>\n",
       "      <td>0.803608</td>\n",
       "      <td>-0.038785</td>\n",
       "      <td>-0.711305</td>\n",
       "      <td>-0.307645</td>\n",
       "      <td>0.898727</td>\n",
       "    </tr>\n",
       "  </tbody>\n",
       "</table>\n",
       "</div>"
      ],
      "text/plain": [
       "   int_rate  annual_inc  loan_amnt       dti  inq_last_6mths  open_acc  \\\n",
       "0 -0.126838    0.189313   0.026687 -0.803985       -0.711305 -1.115271   \n",
       "1 -1.380691   -0.371253  -0.529553 -0.461659        1.774399  1.105701   \n",
       "2  0.168050   -0.595479  -0.862087  1.894352        0.531547 -0.105739   \n",
       "3  0.976089    1.506641  -0.239341 -1.244626       -0.711305 -0.711458   \n",
       "4  0.616187   -0.208689   0.803608 -0.038785       -0.711305 -0.307645   \n",
       "\n",
       "   total_pymnt  \n",
       "0     0.115949  \n",
       "1    -0.923345  \n",
       "2    -1.340743  \n",
       "3     0.286870  \n",
       "4     0.898727  "
      ]
     },
     "execution_count": 35,
     "metadata": {},
     "output_type": "execute_result"
    }
   ],
   "source": [
    "df_st =  StandardScaler().fit_transform(data_kmeans) # this is an array\n",
    "\n",
    "# see few rows of standardized dataset\n",
    "pd.DataFrame(df_st, columns=data_kmeans.columns).head()"
   ]
  },
  {
   "cell_type": "code",
   "execution_count": 36,
   "id": "c4552d0b",
   "metadata": {},
   "outputs": [
    {
     "data": {
      "text/plain": [
       "Counter({0: 251224, 1: 204116, 2: 167308})"
      ]
     },
     "execution_count": 36,
     "metadata": {},
     "output_type": "execute_result"
    }
   ],
   "source": [
    "K=3\n",
    "kmeans = KMeans(n_clusters=K, random_state=10).fit(df_st)\n",
    "labels = kmeans.labels_\n",
    "collections.Counter(labels) # show the number of occurences of each of the labels"
   ]
  },
  {
   "cell_type": "code",
   "execution_count": 37,
   "id": "cf1ee865",
   "metadata": {},
   "outputs": [
    {
     "data": {
      "image/png": "[encoded data removed]",
      "text/plain": [
       "<Figure size 640x480 with 2 Axes>"
      ]
     },
     "metadata": {},
     "output_type": "display_data"
    }
   ],
   "source": [
    "grade =  final_data.grade.to_numpy() # np_array\n",
    "K=3\n",
    "ltr2num = {'A':0, 'B':1, 'C':2, 'D':3, 'E':4, 'F':5, 'G':6}\n",
    "table = np.zeros([7,K]) # row = letter grade, column = kmeans label\n",
    "for j in range(df_st.shape[0]):\n",
    "    table[ltr2num[grade[j]], labels[j]]+=1 # confusion matrix\n",
    "for i in range(7):\n",
    "    table[i,:] = np.round(table[i,:]*100/table[i,:].sum(), 1)\n",
    "\n",
    "df_temp = pd.DataFrame(table, columns = [0,1,2])\n",
    "# visulaize confusion matrix using heatmap\n",
    "grades = ['A', 'B', 'C', 'D', 'E', 'F', 'G']\n",
    "sns.heatmap(df_temp, annot=True, cmap='RdYlGn',  yticklabels=grades)\n",
    "plt.yticks(rotation=0, ha='right')  # ha is the horizontal alignment\n",
    "plt.show()"
   ]
  },
  {
   "cell_type": "code",
   "execution_count": 38,
   "id": "94ef4b1d",
   "metadata": {},
   "outputs": [],
   "source": [
    "final_data['kmeans'] = labels"
   ]
  },
  {
   "cell_type": "code",
   "execution_count": 39,
   "id": "b75125de",
   "metadata": {},
   "outputs": [],
   "source": [
    "#Categorical\n",
    "discrete_features.remove('grade')"
   ]
  },
  {
   "cell_type": "code",
   "execution_count": 40,
   "id": "3a9bfa7c",
   "metadata": {},
   "outputs": [],
   "source": [
    "#Continuous\n",
    "features_to_remove = ['funded_amnt'] #It cannot be removed until now\n",
    "continuous_features = [feature for feature in continuous_features if feature not in features_to_remove]"
   ]
  },
  {
   "cell_type": "code",
   "execution_count": 41,
   "id": "d0acfbcf",
   "metadata": {},
   "outputs": [],
   "source": [
    "columns_to_remove = ['home_ownership_RENT', 'purpose_credit_card', 'purpose_house', 'home_ownership_OTHER', 'cr_hist', 'verification_status_Verified']"
   ]
  },
  {
   "cell_type": "code",
   "execution_count": 42,
   "id": "39894f2d",
   "metadata": {},
   "outputs": [],
   "source": [
    "# Create a matrix of features and outcomes, with dummies. Record the names of the dummies for later use\n",
    "X_continuous = final_data[continuous_features].values\n",
    "X_discrete = pd.get_dummies(final_data[discrete_features], dummy_na = True, prefix_sep = \"::\", drop_first = True)\n",
    "discrete_features_dummies = X_discrete.columns.tolist()\n",
    "discrete_features_dummies = [feature for feature in discrete_features_dummies if feature not in columns_to_remove]\n",
    "X_discrete = X_discrete.values\n",
    "\n",
    "X = np.concatenate( (X_continuous, X_discrete), axis = 1 )\n",
    "y = final_data.outcome.values\n",
    "\n",
    "train = final_data.train.values"
   ]
  },
  {
   "cell_type": "markdown",
   "id": "4327a06f",
   "metadata": {},
   "source": [
    "### Prepare functions to fit and evaluate models"
   ]
  },
  {
   "cell_type": "code",
   "execution_count": 43,
   "id": "b08279fc",
   "metadata": {},
   "outputs": [],
   "source": [
    "def prepare_data_imb(data_subset = np.array([True]*len(final_data)),\n",
    "                          n_samples_train = 20000,\n",
    "                          n_samples_test = 10000,\n",
    "                          feature_subset = None,\n",
    "                          date_range_train = (final_data.issue_d.min(), final_data.issue_d.max()),\n",
    "                          date_range_test = (final_data.issue_d.min(), final_data.issue_d.max()),\n",
    "                          random_state = default_seed):\n",
    "    \n",
    "    '''\n",
    "    This function prep the data for further analysis, but also takes care of the class imbalance situation\n",
    "    '''\n",
    "    \n",
    "    np.random.seed(random_state)\n",
    "    \n",
    "    filter_train = ( train & (final_data.issue_d >= date_range_train[0]) &\n",
    "                            (final_data.issue_d <= date_range_train[1]) & data_subset ).values\n",
    "    filter_test = ( (train == False) & (final_data.issue_d >= date_range_test[0])\n",
    "                            & (final_data.issue_d <= date_range_test[1]) & data_subset ).values\n",
    "    \n",
    "    filter_train[ np.random.choice( np.where(filter_train)[0], size = filter_train.sum() \n",
    "                                   - n_samples_train, replace = False ) ] = False\n",
    "    filter_test[ np.random.choice( np.where(filter_test)[0], size = filter_test.sum() \n",
    "                                   - n_samples_test, replace = False ) ] = False\n",
    "    \n",
    "    # Get training data and labels\n",
    "    X_temp_train = X[filter_train, :]\n",
    "    y_temp_train = y[filter_train]\n",
    "    \n",
    "    # Separate majority and minority classes\n",
    "    X_majority = X_temp_train[y_temp_train == False]\n",
    "    X_minority = X_temp_train[y_temp_train == True]\n",
    "    y_majority = y_temp_train[y_temp_train == False]\n",
    "    y_minority = y_temp_train[y_temp_train == True]\n",
    "    \n",
    "    # Downsample majority class\n",
    "    X_majority_downsampled = X_majority[:len(X_minority)]\n",
    "    y_majority_downsampled = y_majority[:len(y_minority)]\n",
    "    \n",
    "    # Combine minority class with downsampled majority class\n",
    "    X_train_balanced = np.vstack((X_majority_downsampled, X_minority))\n",
    "    y_train_balanced = np.hstack((y_majority_downsampled, y_minority))\n",
    "    \n",
    "    # Prepare the test set\n",
    "    X_test = X[filter_test, :]\n",
    "    y_test = y[filter_test]\n",
    "    \n",
    "    # Feature selection if specified\n",
    "    if feature_subset != None:\n",
    "        cols = [i for i, j in enumerate(continuous_features + discrete_features_dummies)\n",
    "                                                     if j.split(\"::\")[0] in feature_subset]\n",
    "        X_train_balanced = X_train_balanced[:, cols]\n",
    "        X_test = X_test[:, cols]\n",
    "        \n",
    "    # Scale the variables\n",
    "    scaler = preprocessing.MinMaxScaler()\n",
    "    X_train_balanced = scaler.fit_transform(X_train_balanced)\n",
    "    X_test = scaler.transform(X_test)\n",
    "    \n",
    "    out = {'X_train': X_train_balanced, 'y_train': y_train_balanced, 'train_set': filter_train, \n",
    "           'X_test': X_test, 'y_test': y_test, 'test_set': filter_test}\n",
    "    \n",
    "    return out"
   ]
  },
  {
   "cell_type": "code",
   "execution_count": 44,
   "id": "d853ab6b",
   "metadata": {},
   "outputs": [],
   "source": [
    "def prepare_data_all(data_subset = np.array([True]*len(final_data)),\n",
    "                    n_samples_train = 20000,\n",
    "                    n_samples_test = 10000,\n",
    "                    feature_subset = None,\n",
    "                    date_range_train = (final_data.issue_d.min(), final_data.issue_d.max()),\n",
    "                    date_range_test = (final_data.issue_d.min(), final_data.issue_d.max()),\n",
    "                    random_state = default_seed):\n",
    "    '''\n",
    "    This function will prepare the data for classification or regression.\n",
    "    It expects the following parameters:\n",
    "      - data_subset: a numpy array with as many entries as rows in the\n",
    "                     dataset. Each entry should be True if that rowFdecisipn\n",
    "                     should be used, or False if it should be ignored\n",
    "      - n_samples_train: the total number of samples to be used for training.\n",
    "                         Will trigger an error if this number is larger than\n",
    "                         the number of rows available after all filters have\n",
    "                         been applied\n",
    "      - n_samples_test: as above for testing\n",
    "      - feature_subect: A list containing the names of the features to be\n",
    "                        used in the model. In None, all features in X are\n",
    "                        used\n",
    "      - date_range_train: a tuple containing two dates. All rows with loans\n",
    "                          issued outside of these two dates will be ignored in\n",
    "                          training\n",
    "      - date_range_test: as above for testing\n",
    "      - random_state: the random seed to use when selecting a subset of rows\n",
    "      \n",
    "    Note that this function assumes the data has a \"Train\" column, and will\n",
    "    select all training rows from the rows with \"True\" in that column, and all\n",
    "    the testing rows from those with a \"False\" in that column.\n",
    "    \n",
    "    This function returns a dictionary with the following entries\n",
    "      - X_train: the matrix of training data\n",
    "      - y_train: the array of training labels\n",
    "      - train_set: a Boolean vector with as many entries as rows in the data\n",
    "                  that denotes the rows that were used in the train set\n",
    "      - X_test: the matrix of testing data\n",
    "      - y_test: the array of testing labels\n",
    "      - test_set: a Boolean vector with as many entries as rows in the data\n",
    "                  that denotes the rows that were used in the test set\n",
    "    '''\n",
    "    \n",
    "    np.random.seed(random_state)\n",
    "    \n",
    "    # Filter down the data to the required date range, and downsample\n",
    "    # as required\n",
    "#     print(\"sizes:\", train.shape[0], data.shape[0], data_subset.shape[0])\n",
    "    filter_train = ( train & (final_data.issue_d >= date_range_train[0]) &\n",
    "                            (final_data.issue_d <= date_range_train[1]) & data_subset ).values\n",
    "    filter_test = ( (train == False) & (final_data.issue_d >= date_range_test[0])\n",
    "                            & (final_data.issue_d <= date_range_test[1]) & data_subset ).values\n",
    "    \n",
    "    filter_train[ np.random.choice( np.where(filter_train)[0], size = filter_train.sum() \n",
    "                                   - n_samples_train, replace = False ) ] = False\n",
    "    filter_test[ np.random.choice( np.where(filter_test)[0], size = filter_test.sum() \n",
    "                                   - n_samples_test, replace = False ) ] = False\n",
    "    \n",
    "    # Prepare the training and test set\n",
    "    X_train = X[ filter_train , :]\n",
    "    X_test = X[ filter_test, :]\n",
    "    if feature_subset != None:\n",
    "        cols = [i for i, j in enumerate(continuous_features + discrete_features_dummies)\n",
    "                                                     if j.split(\"::\")[0] in feature_subset]\n",
    "        X_train = X_train[ : , cols ]\n",
    "        X_test = X_test[ : , cols ]\n",
    "        \n",
    "    y_train = y[ filter_train ]\n",
    "    y_test = y[ filter_test ]\n",
    "    \n",
    "    # Scale the variables\n",
    "    scaler = preprocessing.MinMaxScaler()\n",
    "\n",
    "    X_train = scaler.fit_transform(X_train)\n",
    "    X_test = scaler.transform(X_test)\n",
    "    \n",
    "    # return training and testing data\n",
    "    out = {'X_train':X_train, 'y_train':y_train, 'train_set':filter_train, \n",
    "           'X_test':X_test, 'y_test':y_test, 'test_set':filter_test}\n",
    "    \n",
    "    return out"
   ]
  },
  {
   "cell_type": "code",
   "execution_count": 45,
   "id": "becbbbc9",
   "metadata": {},
   "outputs": [],
   "source": [
    "def fit_classification(model, data_dict,\n",
    "                          cv_parameters = {},\n",
    "                          model_name = None,\n",
    "                          random_state = default_seed,\n",
    "                          output_to_file = True,\n",
    "                          print_to_screen = True):\n",
    "    '''\n",
    "    This function will fit a classification model to data and print various evaluation\n",
    "    measures. It expects the following parameters\n",
    "      - model: an sklearn model object\n",
    "      - data_dict: the dictionary containing both training and testing data;\n",
    "                   returned by the prepare_data function\n",
    "      - cv_parameters: a dictionary of parameters that should be optimized\n",
    "                       over using cross-validation. Specifically, each named\n",
    "                       entry in the dictionary should correspond to a parameter,\n",
    "                       and each element should be a list containing the values\n",
    "                       to optimize over\n",
    "      - model_name: the name of the model being fit, for printouts\n",
    "      - random_state: the random seed to use\n",
    "      - output_to_file: if the results will be saved to the output file\n",
    "      - print_to_screen: if the results will be printed on screen\n",
    "    \n",
    "    If the model provided does not have a predict_proba function, we will\n",
    "    simply print accuracy diagnostics and return.\n",
    "    \n",
    "    If the model provided does have a predict_proba function, we first\n",
    "    figure out the optimal threshold that maximizes the accuracy and\n",
    "    print out accuracy diagnostics. We then print an ROC curve, sensitivity/\n",
    "    specificity curve, and calibration curve.\n",
    "    \n",
    "    This function returns a dictionary with the following entries\n",
    "      - model: the best fitted model\n",
    "      - y_pred: predictions for the test set\n",
    "      - y_pred_probs: probability predictions for the test set, if the model\n",
    "                      supports them\n",
    "      - y_pred_score: prediction scores for the test set, if the model does not \n",
    "                      output probabilities.\n",
    "    '''\n",
    "        \n",
    "    np.random.seed(random_state)\n",
    "    \n",
    "    # --------------------------\n",
    "    #   Step 1 - Load the data\n",
    "    # --------------------------\n",
    "    X_train = data_dict['X_train']\n",
    "    y_train = data_dict['y_train']\n",
    "    \n",
    "    X_test = data_dict['X_test']\n",
    "    y_test = data_dict['y_test']\n",
    "    \n",
    "    filter_train = data_dict['train_set']    \n",
    "  \n",
    "    # --------------------------\n",
    "    #   Step 2 - Fit the model\n",
    "    # --------------------------\n",
    "\n",
    "    cv_model = GridSearchCV(model, cv_parameters)\n",
    "    \n",
    "    start_time = time.time()\n",
    "    cv_model.fit(X_train, y_train)\n",
    "    end_time = time.time()\n",
    "    \n",
    "    best_model = cv_model.best_estimator_\n",
    "    \n",
    "    if print_to_screen:\n",
    "\n",
    "        if model_name != None:\n",
    "            print(\"=========================================================\")\n",
    "            print(\"  Model: \" + model_name)\n",
    "            print(\"=========================================================\")\n",
    "\n",
    "        print(\"Fit time: \" + str(round(end_time - start_time, 2)) + \" seconds\")\n",
    "        print(\"Optimal parameters:\")\n",
    "        print(cv_model.best_params_)\n",
    "        print(\"\")\n",
    "    \n",
    "    # -------------------------------\n",
    "    #   Step 3 - Evaluate the model\n",
    "    # -------------------------------\n",
    "    \n",
    "    # If possible, make probability predictions\n",
    "    try:\n",
    "        y_pred_probs = best_model.predict_proba(X_test)[:,1]\n",
    "        fpr, tpr, thresholds = roc_curve(y_test, y_pred_probs)\n",
    "        \n",
    "        probs_predicted = True\n",
    "    except:\n",
    "        probs_predicted = False\n",
    "    \n",
    "    # Make predictions; if we were able to find probabilities, use\n",
    "    # the threshold that maximizes the accuracy in the training set.\n",
    "    # If not, just use the learner's predict function\n",
    "    if probs_predicted:\n",
    "        y_train_pred_probs = best_model.predict_proba(X_train)[:,1]\n",
    "        fpr_train, tpr_train, thresholds_train = roc_curve(y_train, y_train_pred_probs)\n",
    "        \n",
    "        true_pos_train = tpr_train*(y_train.sum())\n",
    "        true_neg_train = (1 - fpr_train) *(1-y_train).sum()\n",
    "        \n",
    "        best_threshold_index = np.argmax(true_pos_train + true_neg_train)\n",
    "        best_threshold = 1 if best_threshold_index == 0 else thresholds_train[ best_threshold_index ]\n",
    "        \n",
    "        if print_to_screen:\n",
    "            print(\"Accuracy-maximizing threshold was: \" + str(best_threshold))\n",
    "        \n",
    "        y_pred = (y_pred_probs > best_threshold)\n",
    "    else:\n",
    "        y_pred = best_model.predict(X_test)\n",
    "    \n",
    "    if print_to_screen:\n",
    "        print(\"Accuracy: \", accuracy_score(y_test, y_pred))\n",
    "        print(classification_report(y_test, y_pred, target_names =['No default', 'Default'], digits = 4))\n",
    "\n",
    "    if print_to_screen:\n",
    "        if probs_predicted:        \n",
    "            plt.figure(figsize = (13, 4.5))\n",
    "            plt.subplot(2, 2, 1)\n",
    "\n",
    "            plt.title(\"ROC Curve (AUC = %0.2f)\"% roc_auc_score(y_test, y_pred_probs))\n",
    "            plt.plot(fpr, tpr, 'b')\n",
    "            plt.plot([0,1],[0,1],'r--')\n",
    "            plt.xlim([0,1]); plt.ylim([0,1])\n",
    "            plt.ylabel('True Positive Rate')\n",
    "            plt.xlabel('False Positive Rate')\n",
    "\n",
    "            plt.subplot(2, 2, 3)\n",
    "\n",
    "            plt.plot(thresholds, tpr, 'b', label = 'Sensitivity')\n",
    "            plt.plot(thresholds, 1 -fpr, 'r', label = 'Specificity')\n",
    "            plt.legend(loc = 'lower right')\n",
    "            plt.xlim([0,1]); plt.ylim([0,1])\n",
    "            plt.xlabel('Threshold')\n",
    "\n",
    "            plt.subplot(2, 2, 2)\n",
    "\n",
    "            fp_0, mpv_0 = calibration_curve(y_test, y_pred_probs, n_bins = 10)\n",
    "            plt.plot([0,1], [0,1], 'k:', label='Perfectly calibrated')\n",
    "            plt.plot(mpv_0, fp_0, 's-')\n",
    "            plt.ylabel('Fraction of Positives')\n",
    "            plt.xlim([0,1]); plt.ylim([0,1])\n",
    "            plt.legend(loc ='upper left')\n",
    "            \n",
    "            plt.subplot(2, 2, 4)\n",
    "            plt.hist(y_pred_probs, range=(0, 1), bins=10, histtype=\"step\", lw=2)\n",
    "            plt.xlim([0,1]); plt.ylim([0,20000])\n",
    "            plt.xlabel('Mean Predicted Probability')\n",
    "            plt.ylabel('Count')\n",
    "            \n",
    "            #plt.tight_layout()\n",
    "            plt.show()\n",
    "        \n",
    "    # Additional Score Check\n",
    "    if probs_predicted:\n",
    "        y_train_score = y_train_pred_probs\n",
    "    else:\n",
    "        y_train_score = best_model.decision_function(X_train)\n",
    "        \n",
    "#     tau, p_value = kendalltau(y_train_score, data.grade[filter_train])\n",
    "#     if print_to_screen:\n",
    "#         print(\"\")\n",
    "#         print(\"Similarity to LC grade ranking: \", tau)\n",
    "    \n",
    "    if probs_predicted:\n",
    "        brier_score = brier_score_loss(y_test, y_pred_probs)\n",
    "        if print_to_screen:\n",
    "            print(\"Brier score:\", brier_score)\n",
    "    \n",
    "    # Return the model predictions, and the\n",
    "    # test set\n",
    "    # -------------------------------------\n",
    "    out = {'model':best_model, 'y_pred_labels':y_pred}\n",
    "    \n",
    "    if probs_predicted:\n",
    "        out.update({'y_pred_probs':y_pred_probs})\n",
    "    else:\n",
    "        y_pred_score = best_model.decision_function(X_test)\n",
    "        out.update({'y_pred_score':y_pred_score})\n",
    "        \n",
    "    # Output results to file\n",
    "    # ----------------------\n",
    "    if probs_predicted and output_to_file:\n",
    "        # Check whether any of the CV parameters are on the edge of\n",
    "        # the search space\n",
    "        opt_params_on_edge = find_opt_params_on_edge(cv_model)\n",
    "        dump_to_output(model_name + \"::search_on_edge\", opt_params_on_edge)\n",
    "        if print_to_screen:\n",
    "            print(\"Were parameters on edge? : \" + str(opt_params_on_edge))\n",
    "        \n",
    "        # Find out how different the scores are for the different values\n",
    "        # tested for by cross-validation. If they're not too different, then\n",
    "        # even if the parameters are off the edge of the search grid, we should\n",
    "        # be ok\n",
    "        score_variation = find_score_variation(cv_model)\n",
    "        dump_to_output(model_name + \"::score_variation\", score_variation)\n",
    "        if print_to_screen:\n",
    "            print(\"Score variations around CV search grid : \" + str(score_variation))\n",
    "        \n",
    "        # Print out all the scores\n",
    "        dump_to_output(model_name + \"::all_cv_scores\", str(cv_model.cv_results_['mean_test_score']))\n",
    "        if print_to_screen:\n",
    "            print( str(cv_model.cv_results_['mean_test_score']) )\n",
    "        \n",
    "        # Dump the AUC to file\n",
    "        dump_to_output(model_name + \"::roc_auc\", roc_auc_score(y_test, y_pred_probs) )\n",
    "        \n",
    "    return out"
   ]
  },
  {
   "cell_type": "code",
   "execution_count": 54,
   "id": "b7fbdc53",
   "metadata": {},
   "outputs": [],
   "source": [
    "def fit_regression(model, data_dict,\n",
    "                      cv_parameters = {},\n",
    "                      separate = False,\n",
    "                      model_name = None,\n",
    "                      random_state = default_seed,\n",
    "                      output_to_file = True,\n",
    "                      print_to_screen = True):\n",
    "    '''\n",
    "    This function will fit a regression model to data and print various evaluation\n",
    "    measures. It expects the following parameters\n",
    "      - model: an sklearn model object\n",
    "      - data_dict: the dictionary containing both training and testing data;\n",
    "                   returned by the prepare_data function\n",
    "      - separate: a Boolean variable indicating whether we fit models for\n",
    "                  defaulted and non-defaulted loans separately\n",
    "      - cv_parameters: a dictionary of parameters that should be optimized\n",
    "                       over using cross-validation. Specifically, each named\n",
    "                       entry in the dictionary should correspond to a parameter,\n",
    "                       and each element should be a list containing the values\n",
    "                       to optimize over\n",
    "      - model_name: the name of the model being fit, for printouts\n",
    "      - random_state: the random seed to use\n",
    "      - output_to_file: if the results will be saved to the output file\n",
    "      - print_to_screen: if the results will be printed on screen\n",
    "\n",
    "    This function returns a dictionary FOR EACH RETURN DEFINITION with the following entries\n",
    "      - model: the best fitted model\n",
    "      - predicted_return: prediction result based on the test set\n",
    "      - predicted_regular_return: prediction result for non-defaulted loans (valid if separate == True)\n",
    "      - predicted_default_return: prediction result for defaulted loans (valid if separate == True)\n",
    "      - r2_scores: the testing r2_score(s) for the best fitted model\n",
    "    '''\n",
    "\n",
    "    np.random.seed(random_state)\n",
    "\n",
    "    # --------------------------\n",
    "    #   Step 1 - Load the data\n",
    "    # --------------------------\n",
    "\n",
    "    col_list = ['ret_PESS', 'ret_OPT', 'ret_INTa', 'ret_INTb', 'ret_INTc']\n",
    "\n",
    "    X_train = data_dict['X_train']\n",
    "    filter_train = data_dict['train_set']\n",
    "\n",
    "    X_test = data_dict['X_test']\n",
    "    filter_test = data_dict['test_set']\n",
    "    out = {}\n",
    "\n",
    "    for ret_col in col_list:\n",
    "\n",
    "        #y_train = data.loc[filter_train, ret_col].as_matrix()\n",
    "        #y_test = data.loc[filter_test, ret_col].as_matrix()\n",
    "        y_train = final_data.loc[filter_train, ret_col].to_numpy()\n",
    "        y_test = final_data.loc[filter_test, ret_col].to_numpy()\n",
    "\n",
    "        # --------------------------\n",
    "        #   Step 2 - Fit the model\n",
    "        # --------------------------\n",
    "\n",
    "        if separate:\n",
    "            outcome_train = final_data.loc[filter_train, 'outcome']\n",
    "            outcome_test = final_data.loc[filter_test, 'outcome']\n",
    "\n",
    "            # Train two separate regressors for defaulted and non-defaulted loans\n",
    "            X_train_0 = X_train[outcome_train == False]\n",
    "            y_train_0 = y_train[outcome_train == False]\n",
    "            X_test_0 = X_test[outcome_test == False]\n",
    "            y_test_0 = y_test[outcome_test == False]\n",
    "\n",
    "            X_train_1 = X_train[outcome_train == True]\n",
    "            y_train_1 = y_train[outcome_train == True]\n",
    "            X_test_1 = X_test[outcome_test == True]\n",
    "            y_test_1 = y_test[outcome_test == True]\n",
    "\n",
    "            cv_model_0 = GridSearchCV(model, cv_parameters, scoring='r2')\n",
    "            cv_model_1 = GridSearchCV(model, cv_parameters, scoring='r2')\n",
    "\n",
    "            start_time = time.time()\n",
    "            cv_model_0.fit(X_train_0, y_train_0)\n",
    "            cv_model_1.fit(X_train_1, y_train_1)\n",
    "            end_time = time.time()\n",
    "\n",
    "            best_model_0 = cv_model_0.best_estimator_\n",
    "            best_model_1 = cv_model_1.best_estimator_\n",
    "\n",
    "            if print_to_screen:\n",
    "\n",
    "                if model_name != None:\n",
    "                    print(\"=========================================================\")\n",
    "                    print(\"  Model: \" + model_name + \"  Return column: \" + ret_col)\n",
    "                    print(\"=========================================================\")\n",
    "\n",
    "                print(\"Fit time: \" + str(round(end_time - start_time, 2)) + \" seconds\")\n",
    "                print(\"Optimal parameters:\")\n",
    "                print(\"model_0:\",cv_model_0.best_params_, \"model_1\",cv_model_1.best_params_)\n",
    "\n",
    "            predicted_regular_return = best_model_0.predict(X_test)\n",
    "            predicted_default_return = best_model_1.predict(X_test)\n",
    "\n",
    "            if print_to_screen:\n",
    "                print(\"\")\n",
    "                print(\"Testing r2 scores:\")\n",
    "            # Here we use different testing set to report the performance\n",
    "            test_scores = {'model_0':r2_score(y_test_0,best_model_0.predict(X_test_0)),\n",
    "                              'model_1':r2_score(y_test_1,best_model_1.predict(X_test_1))}\n",
    "            if print_to_screen:\n",
    "                print(\"model_0:\", test_scores['model_0'])\n",
    "                print(\"model_1:\", test_scores['model_1'])\n",
    "\n",
    "            cv_objects = {'model_0':cv_model_0, 'model_1':cv_model_1}\n",
    "            out[ret_col] = { 'model_0':best_model_0, 'model_1':best_model_1, 'predicted_regular_return':predicted_regular_return,\n",
    "                      'predicted_default_return':predicted_default_return,'r2_scores':test_scores }\n",
    "\n",
    "        else:\n",
    "            cv_model = GridSearchCV(model, cv_parameters, scoring='r2')\n",
    "\n",
    "            start_time = time.time()\n",
    "            cv_model.fit(X_train, y_train)\n",
    "            end_time = time.time()\n",
    "\n",
    "            best_model = cv_model.best_estimator_\n",
    "\n",
    "            if print_to_screen:\n",
    "                if model_name != None:\n",
    "                    print(\"=========================================================\")\n",
    "                    print(\"  Model: \" + model_name + \"  Return column: \" + ret_col)\n",
    "                    print(\"=========================================================\")\n",
    "\n",
    "                print(\"Fit time: \" + str(round(end_time - start_time, 2)) + \" seconds\")\n",
    "                print(\"Optimal parameters:\")\n",
    "                print(cv_model.best_params_)\n",
    "\n",
    "            predicted_return = best_model.predict(X_test)\n",
    "            test_scores = {'model':r2_score(y_test,predicted_return)}\n",
    "            if print_to_screen:\n",
    "                print(\"\")\n",
    "                print(\"Testing r2 score:\", test_scores['model'])\n",
    "\n",
    "            cv_objects = {'model':cv_model}\n",
    "            out[ret_col] = {'model':best_model, 'predicted_return':predicted_return, 'r2_scores':r2_score(y_test,predicted_return)}\n",
    "\n",
    "        # Output the results to a file\n",
    "        if output_to_file:\n",
    "            for i in cv_objects:\n",
    "                # Check whether any of the CV parameters are on the edge of\n",
    "                # the search space\n",
    "                opt_params_on_edge = find_opt_params_on_edge(cv_objects[i])\n",
    "                dump_to_output(model_name + \"::\" + ret_col + \"::search_on_edge\", opt_params_on_edge)\n",
    "                if print_to_screen:\n",
    "                    print(\"Were parameters on edge (\" + i + \") : \" + str(opt_params_on_edge))\n",
    "\n",
    "                # Find out how different the scores are for the different values\n",
    "                # tested for by cross-validation. If they're not too different, then\n",
    "                # even if the parameters are off the edge of the search grid, we should\n",
    "                # be ok\n",
    "                score_variation = find_score_variation(cv_objects[i])\n",
    "                dump_to_output(model_name + \"::\" + ret_col + \"::score_variation\", score_variation)\n",
    "                if print_to_screen:\n",
    "                    print(\"Score variations around CV search grid (\" + i + \") : \" + str(score_variation))\n",
    "\n",
    "                # Print out all the scores\n",
    "                dump_to_output(model_name + \"::all_cv_scores\", str(cv_objects[i].cv_results_['mean_test_score']))\n",
    "                if print_to_screen:\n",
    "                    print(\"All test scores : \" + str(cv_objects[i].cv_results_['mean_test_score']) )\n",
    "\n",
    "                # Dump the AUC to file\n",
    "                dump_to_output( model_name + \"::\" + ret_col + \"::r2\", test_scores[i] )\n",
    "\n",
    "    return out"
   ]
  },
  {
   "cell_type": "markdown",
   "id": "7ceaf510",
   "metadata": {},
   "source": [
    "### Feature preparation"
   ]
  },
  {
   "cell_type": "code",
   "execution_count": 47,
   "id": "c02d3d45",
   "metadata": {},
   "outputs": [],
   "source": [
    "# final_features = [i for i in discrete_features + continuous_features if i not in [\"grade\", \"int_rate\", \"installment\"]]\n",
    "final_features = [i for i in discrete_features + continuous_features]\n",
    "all_features = pd.Series(continuous_features + discrete_features_dummies)\n",
    "idx = [i for i, j in enumerate(continuous_features + discrete_features_dummies)\n",
    "                                                     if j.split(\"::\")[0] in final_features]\n",
    "\n",
    "## useful when choosing the most significant features\n",
    "selected_features = all_features[idx]\n",
    "selected_features.reset_index(drop=True,inplace=True)"
   ]
  },
  {
   "cell_type": "code",
   "execution_count": 48,
   "id": "6bd75680",
   "metadata": {},
   "outputs": [
    {
     "data": {
      "text/plain": [
       "(3698, 16302)"
      ]
     },
     "execution_count": 48,
     "metadata": {},
     "output_type": "execute_result"
    }
   ],
   "source": [
    "## Process data here: This does not take care of class imbalance\n",
    "data_dict_reg = prepare_data_all(data_subset = np.array([True]*len(final_data)), feature_subset = final_features)\n",
    "\n",
    "# Checking the number of Trues and Falses in the y_train from the provided data dictionary\n",
    "true_count = np.sum(data_dict_reg['y_train'])\n",
    "false_count = len(data_dict_reg['y_train']) - true_count\n",
    "true_count, false_count"
   ]
  },
  {
   "cell_type": "code",
   "execution_count": 49,
   "id": "6d1ee63a",
   "metadata": {},
   "outputs": [
    {
     "data": {
      "text/plain": [
       "(3698, 3698)"
      ]
     },
     "execution_count": 49,
     "metadata": {},
     "output_type": "execute_result"
    }
   ],
   "source": [
    "## Process data here: This one is for class imbalance conditions\n",
    "data_dict = prepare_data_imb(data_subset = np.array([True]*len(final_data)), feature_subset = final_features)\n",
    "\n",
    "# Checking the number of Trues and Falses in the y_train from the provided data dictionary\n",
    "true_count = np.sum(data_dict['y_train'])\n",
    "false_count = len(data_dict['y_train']) - true_count\n",
    "true_count, false_count"
   ]
  },
  {
   "cell_type": "code",
   "execution_count": 90,
   "id": "dd823309",
   "metadata": {},
   "outputs": [
    {
     "ename": "IndexError",
     "evalue": "boolean index did not match indexed array along dimension 0; dimension is 10000 but corresponding boolean dimension is 622648",
     "output_type": "error",
     "traceback": [
      "\u001b[1;31m---------------------------------------------------------------------------\u001b[0m",
      "\u001b[1;31mIndexError\u001b[0m                                Traceback (most recent call last)",
      "\u001b[1;32m~\\AppData\\Local\\Temp\\ipykernel_35040\\185932406.py\u001b[0m in \u001b[0;36m<module>\u001b[1;34m\u001b[0m\n\u001b[0;32m      1\u001b[0m \u001b[1;31m## Process data here: This does not take care of class imbalance\u001b[0m\u001b[1;33m\u001b[0m\u001b[1;33m\u001b[0m\u001b[0m\n\u001b[1;32m----> 2\u001b[1;33m \u001b[0mdata_dict_other\u001b[0m \u001b[1;33m=\u001b[0m \u001b[0mprepare_data_all\u001b[0m\u001b[1;33m(\u001b[0m\u001b[0mfeature_subset\u001b[0m \u001b[1;33m=\u001b[0m \u001b[0mfinal_features\u001b[0m\u001b[1;33m)\u001b[0m\u001b[1;33m\u001b[0m\u001b[1;33m\u001b[0m\u001b[0m\n\u001b[0m",
      "\u001b[1;32m~\\AppData\\Local\\Temp\\ipykernel_35040\\3186747829.py\u001b[0m in \u001b[0;36mprepare_data_all\u001b[1;34m(data_subset, n_samples_train, n_samples_test, feature_subset, date_range_train, date_range_test, random_state)\u001b[0m\n\u001b[0;32m     65\u001b[0m         \u001b[0mX_test\u001b[0m \u001b[1;33m=\u001b[0m \u001b[0mX_test\u001b[0m\u001b[1;33m[\u001b[0m \u001b[1;33m:\u001b[0m \u001b[1;33m,\u001b[0m \u001b[0mcols\u001b[0m \u001b[1;33m]\u001b[0m\u001b[1;33m\u001b[0m\u001b[1;33m\u001b[0m\u001b[0m\n\u001b[0;32m     66\u001b[0m \u001b[1;33m\u001b[0m\u001b[0m\n\u001b[1;32m---> 67\u001b[1;33m     \u001b[0my_train\u001b[0m \u001b[1;33m=\u001b[0m \u001b[0my\u001b[0m\u001b[1;33m[\u001b[0m \u001b[0mfilter_train\u001b[0m \u001b[1;33m]\u001b[0m\u001b[1;33m\u001b[0m\u001b[1;33m\u001b[0m\u001b[0m\n\u001b[0m\u001b[0;32m     68\u001b[0m     \u001b[0my_test\u001b[0m \u001b[1;33m=\u001b[0m \u001b[0my\u001b[0m\u001b[1;33m[\u001b[0m \u001b[0mfilter_test\u001b[0m \u001b[1;33m]\u001b[0m\u001b[1;33m\u001b[0m\u001b[1;33m\u001b[0m\u001b[0m\n\u001b[0;32m     69\u001b[0m \u001b[1;33m\u001b[0m\u001b[0m\n",
      "\u001b[1;31mIndexError\u001b[0m: boolean index did not match indexed array along dimension 0; dimension is 10000 but corresponding boolean dimension is 622648"
     ]
    }
   ],
   "source": [
    "## Process data here: This does not take care of class imbalance\n",
    "data_dict_other = prepare_data_all(feature_subset = final_features)"
   ]
  },
  {
   "cell_type": "markdown",
   "id": "04554ef7",
   "metadata": {},
   "source": [
    "### $l_1$ penalized logistic Classifier"
   ]
  },
  {
   "cell_type": "code",
   "execution_count": 50,
   "id": "180423b1",
   "metadata": {},
   "outputs": [
    {
     "name": "stdout",
     "output_type": "stream",
     "text": [
      "=========================================================\n",
      "  Model: l1 Penalized Logistic Regression\n",
      "=========================================================\n",
      "Fit time: 817.37 seconds\n",
      "Optimal parameters:\n",
      "{'C': 464.15888336127773}\n",
      "\n",
      "Accuracy-maximizing threshold was: 0.37528040217444203\n",
      "Accuracy:  0.9847\n",
      "              precision    recall  f1-score   support\n",
      "\n",
      "  No default     0.9905    0.9908    0.9907      8188\n",
      "     Default     0.9585    0.9570    0.9577      1812\n",
      "\n",
      "    accuracy                         0.9847     10000\n",
      "   macro avg     0.9745    0.9739    0.9742     10000\n",
      "weighted avg     0.9847    0.9847    0.9847     10000\n",
      "\n"
     ]
    },
    {
     "data": {
      "image/png": "[encoded data removed]",
      "text/plain": [
       "<Figure size 1300x450 with 4 Axes>"
      ]
     },
     "metadata": {},
     "output_type": "display_data"
    },
    {
     "name": "stdout",
     "output_type": "stream",
     "text": [
      "Brier score: 0.01343190997155732\n",
      "Were parameters on edge? : False\n",
      "Score variations around CV search grid : 1.2106349906868106\n",
      "[0.95984358 0.96903752 0.97052455 0.97133582 0.97160618 0.97147095\n",
      " 0.97147095 0.97133573 0.97133573 0.97133573]\n"
     ]
    }
   ],
   "source": [
    "#Run the following the first time through\n",
    "l1_logistic = LogisticRegression(penalty = 'l1',solver='saga', max_iter=10000, n_jobs=-1)\n",
    "cv_parameters = {\"C\":np.logspace(0, 6, num = 10)}\n",
    "l1_logistic_all = fit_classification(l1_logistic, data_dict,\n",
    "                      cv_parameters = cv_parameters, model_name = \"l1 Penalized Logistic Regression\")"
   ]
  },
  {
   "cell_type": "code",
   "execution_count": 51,
   "id": "bd31fccc",
   "metadata": {},
   "outputs": [
    {
     "data": {
      "image/png": "[encoded data removed]",
      "text/plain": [
       "<Figure size 640x480 with 1 Axes>"
      ]
     },
     "metadata": {},
     "output_type": "display_data"
    }
   ],
   "source": [
    "## plot top 3 features with the most positive (and negative) weights \n",
    "top_and_bottom_idx = list(np.argsort(l1_logistic_all['model'].coef_)[0,:3]) + list(np.argsort(l1_logistic_all['model'].coef_)[0,-3:])\n",
    "bplot = pd.Series(l1_logistic_all['model'].coef_[0,top_and_bottom_idx])\n",
    "xticks = selected_features[top_and_bottom_idx]\n",
    "p1 = bplot.plot(kind='bar',rot=-30,ylim=(-5,5))\n",
    "p1.set_xticklabels(xticks)\n",
    "plt.title('Most significant features of l1_logistic_all')\n",
    "plt.show()"
   ]
  },
  {
   "cell_type": "markdown",
   "id": "fc1e10c0",
   "metadata": {},
   "source": [
    "### Random Forest Classifier"
   ]
  },
  {
   "cell_type": "code",
   "execution_count": 52,
   "id": "0a556165",
   "metadata": {},
   "outputs": [
    {
     "name": "stdout",
     "output_type": "stream",
     "text": [
      "=========================================================\n",
      "  Model: Random Forest\n",
      "=========================================================\n",
      "Fit time: 69.71 seconds\n",
      "Optimal parameters:\n",
      "{'min_samples_leaf': 1, 'n_estimators': 80}\n",
      "\n",
      "Accuracy-maximizing threshold was: 0.6\n",
      "Accuracy:  0.9781\n",
      "              precision    recall  f1-score   support\n",
      "\n",
      "  No default     0.9747    0.9991    0.9868      8188\n",
      "     Default     0.9956    0.8830    0.9359      1812\n",
      "\n",
      "    accuracy                         0.9781     10000\n",
      "   macro avg     0.9852    0.9411    0.9614     10000\n",
      "weighted avg     0.9785    0.9781    0.9776     10000\n",
      "\n"
     ]
    },
    {
     "data": {
      "image/png": "[encoded data removed]",
      "text/plain": [
       "<Figure size 1300x450 with 4 Axes>"
      ]
     },
     "metadata": {},
     "output_type": "display_data"
    },
    {
     "name": "stdout",
     "output_type": "stream",
     "text": [
      "Brier score: 0.0393296875\n",
      "Were parameters on edge? : True\n",
      "Score variations around CV search grid : 2.7801253841125875\n",
      "[0.9548401  0.95592182 0.95808508 0.95754436 0.9568685  0.95727473\n",
      " 0.95768013 0.95713914 0.95592201 0.9571385  0.95375866 0.95673337\n",
      " 0.95429947 0.95470469 0.95565165 0.9534882  0.94997213 0.95200071\n",
      " 0.95389361 0.95321766 0.94862023 0.94875582 0.95010736 0.95254198\n",
      " 0.94902555 0.94294127 0.94104846 0.94835005 0.94591671 0.94740365\n",
      " 0.94632211 0.94186064 0.94361786 0.94321209 0.94429344 0.94104764\n",
      " 0.9433475  0.9446994  0.94496957 0.94361767 0.93361192 0.93144912\n",
      " 0.93537014 0.93509941 0.93563986]\n"
     ]
    }
   ],
   "source": [
    "#Run the following the first time through\n",
    "rf = RandomForestClassifier(n_jobs=-1)\n",
    "cv_parameters = {'min_samples_leaf':[1, 2, 3, 5, 8, 13, 17, 20, 40], 'n_estimators': [35, 60, 80, 100, 150] }\n",
    "rf_all = fit_classification(rf, data_dict, cv_parameters = cv_parameters, model_name = \"Random Forest\")"
   ]
  },
  {
   "cell_type": "markdown",
   "id": "00a5127e",
   "metadata": {},
   "source": [
    "### Build and Test Regression Models for returns"
   ]
  },
  {
   "cell_type": "markdown",
   "id": "c9e8e28c",
   "metadata": {},
   "source": [
    "### Lasso-Lars regressor"
   ]
  },
  {
   "cell_type": "code",
   "execution_count": 55,
   "id": "377c2501",
   "metadata": {},
   "outputs": [
    {
     "name": "stdout",
     "output_type": "stream",
     "text": [
      "=========================================================\n",
      "  Model: Lasso  Return column: ret_PESS\n",
      "=========================================================\n",
      "Fit time: 0.78 seconds\n",
      "Optimal parameters:\n",
      "{'alpha': 1e-06}\n",
      "\n",
      "Testing r2 score: 0.6538777967483791\n",
      "Were parameters on edge (model) : False\n",
      "Score variations around CV search grid (model) : 100.8615361116056\n",
      "All test scores : [ 0.66024949  0.660261    0.66036069  0.65352439  0.17757271 -0.00568925\n",
      " -0.00568925 -0.00568925]\n",
      "=========================================================\n",
      "  Model: Lasso  Return column: ret_OPT\n",
      "=========================================================\n",
      "Fit time: 0.8 seconds\n",
      "Optimal parameters:\n",
      "{'alpha': 1e-06}\n",
      "\n",
      "Testing r2 score: 0.5525599030453678\n",
      "Were parameters on edge (model) : False\n",
      "Score variations around CV search grid (model) : 101.33120464223589\n",
      "All test scores : [ 0.55732713  0.55736553  0.55755549  0.55165122  0.18862013 -0.0074222\n",
      " -0.0074222  -0.0074222 ]\n",
      "=========================================================\n",
      "  Model: Lasso  Return column: ret_INTa\n",
      "=========================================================\n",
      "Fit time: 0.8 seconds\n",
      "Optimal parameters:\n",
      "{'alpha': 1e-06}\n",
      "\n",
      "Testing r2 score: 0.787262128571776\n",
      "Were parameters on edge (model) : False\n",
      "Score variations around CV search grid (model) : 100.67655376373217\n",
      "All test scores : [ 0.79432226  0.79435555  0.7943681   0.78459094  0.19773144 -0.00537433\n",
      " -0.00537433 -0.00537433]\n",
      "=========================================================\n",
      "  Model: Lasso  Return column: ret_INTb\n",
      "=========================================================\n",
      "Fit time: 0.82 seconds\n",
      "Optimal parameters:\n",
      "{'alpha': 1e-07}\n",
      "\n",
      "Testing r2 score: 0.7817514456552395\n",
      "Were parameters on edge (model) : False\n",
      "Score variations around CV search grid (model) : 100.72258249750519\n",
      "All test scores : [ 0.78929525  0.78930697  0.78929878  0.78009632  0.20552177 -0.00570339\n",
      " -0.00570339 -0.00570339]\n",
      "=========================================================\n",
      "  Model: Lasso  Return column: ret_INTc\n",
      "=========================================================\n",
      "Fit time: 0.79 seconds\n",
      "Optimal parameters:\n",
      "{'alpha': 1e-06}\n",
      "\n",
      "Testing r2 score: 0.7675944657660634\n",
      "Were parameters on edge (model) : False\n",
      "Score variations around CV search grid (model) : 100.80293206991371\n",
      "All test scores : [ 0.77551556  0.77552307  0.77555808  0.76637661  0.2151786  -0.0062272\n",
      " -0.0062272  -0.0062272 ]\n"
     ]
    }
   ],
   "source": [
    "# Single Regressor\n",
    "cv_parameters = {'alpha': np.logspace(-8, -1, num = 8) }\n",
    "reg_lasso = fit_regression(linear_model.LassoLars(), data_dict_reg,  \n",
    "               cv_parameters = cv_parameters, separate = False, model_name = \"Lasso\")"
   ]
  },
  {
   "cell_type": "code",
   "execution_count": 56,
   "id": "07ebe21b",
   "metadata": {},
   "outputs": [
    {
     "name": "stdout",
     "output_type": "stream",
     "text": [
      "=========================================================\n",
      "  Model: Lasso  Return column: ret_PESS\n",
      "=========================================================\n",
      "Fit time: 1.12 seconds\n",
      "Optimal parameters:\n",
      "model_0: {'alpha': 1e-07} model_1 {'alpha': 1e-05}\n",
      "\n",
      "Testing r2 scores:\n",
      "model_0: 0.7331455434210206\n",
      "model_1: 0.67191957950957\n",
      "Were parameters on edge (model_0) : False\n",
      "Score variations around CV search grid (model_0) : 101.95022046354453\n",
      "All test scores : [ 0.72794169  0.7280423   0.72556997  0.43868038  0.14694718 -0.01419843\n",
      " -0.01419843 -0.01419843]\n",
      "Were parameters on edge (model_1) : False\n",
      "Score variations around CV search grid (model_1) : 101.08292977869942\n",
      "All test scores : [ 0.6777463   0.67783444  0.6783756   0.68040245  0.64638773  0.01751585\n",
      " -0.00736828 -0.00736828]\n",
      "=========================================================\n",
      "  Model: Lasso  Return column: ret_OPT\n",
      "=========================================================\n",
      "Fit time: 1.03 seconds\n",
      "Optimal parameters:\n",
      "model_0: {'alpha': 1e-08} model_1 {'alpha': 1e-05}\n",
      "\n",
      "Testing r2 scores:\n",
      "model_0: 0.7973227750978156\n",
      "model_1: 0.68781131451137\n",
      "Were parameters on edge (model_0) : True\n",
      "Score variations around CV search grid (model_0) : 102.21231992042226\n",
      "All test scores : [ 0.78726824  0.78724409  0.78607926  0.6925845   0.60704513 -0.01741689\n",
      " -0.01741689 -0.01741689]\n",
      "Were parameters on edge (model_1) : False\n",
      "Score variations around CV search grid (model_1) : 101.09768791546296\n",
      "All test scores : [ 0.66897327  0.66901229  0.66982872  0.6723025   0.64334192  0.05183526\n",
      " -0.00737978 -0.00737978]\n",
      "=========================================================\n",
      "  Model: Lasso  Return column: ret_INTa\n",
      "=========================================================\n",
      "Fit time: 0.99 seconds\n",
      "Optimal parameters:\n",
      "model_0: {'alpha': 1e-08} model_1 {'alpha': 1e-05}\n",
      "\n",
      "Testing r2 scores:\n",
      "model_0: 0.8749947143516235\n",
      "model_1: 0.7788148993939972\n",
      "Were parameters on edge (model_0) : True\n",
      "Score variations around CV search grid (model_0) : 100.96628518212815\n",
      "All test scores : [ 0.87092431  0.87090976  0.86799652  0.5884603   0.20538255 -0.00841561\n",
      " -0.00841561 -0.00841561]\n",
      "Were parameters on edge (model_1) : False\n",
      "Score variations around CV search grid (model_1) : 101.24117371329842\n",
      "All test scores : [ 0.7882208   0.78822195  0.78854264  0.78967445  0.74443448 -0.00980123\n",
      " -0.00980123 -0.00980123]\n",
      "=========================================================\n",
      "  Model: Lasso  Return column: ret_INTb\n",
      "=========================================================\n",
      "Fit time: 0.98 seconds\n",
      "Optimal parameters:\n",
      "model_0: {'alpha': 1e-08} model_1 {'alpha': 1e-05}\n",
      "\n",
      "Testing r2 scores:\n",
      "model_0: 0.8878371478965505\n",
      "model_1: 0.7756275045277805\n",
      "Were parameters on edge (model_0) : True\n",
      "Score variations around CV search grid (model_0) : 101.19585496723799\n",
      "All test scores : [ 0.88355792  0.88353876  0.88057712  0.59625656  0.24738152 -0.01056607\n",
      " -0.01056607 -0.01056607]\n",
      "Were parameters on edge (model_1) : False\n",
      "Score variations around CV search grid (model_1) : 101.25765506832388\n",
      "All test scores : [ 0.78514209  0.78514118  0.78543515  0.78663928  0.74594034 -0.00989321\n",
      " -0.00989321 -0.00989321]\n",
      "=========================================================\n",
      "  Model: Lasso  Return column: ret_INTc\n",
      "=========================================================\n",
      "Fit time: 1.0 seconds\n",
      "Optimal parameters:\n",
      "model_0: {'alpha': 1e-07} model_1 {'alpha': 1e-05}\n",
      "\n",
      "Testing r2 scores:\n",
      "model_0: 0.8966736283661435\n",
      "model_1: 0.7698133933549852\n",
      "Were parameters on edge (model_0) : False\n",
      "Score variations around CV search grid (model_0) : 101.6895440700435\n",
      "All test scores : [ 0.89180005  0.89180903  0.88895651  0.68333668  0.34976621 -0.01506751\n",
      " -0.01506751 -0.01506751]\n",
      "Were parameters on edge (model_1) : False\n",
      "Score variations around CV search grid (model_1) : 101.28541163052715\n",
      "All test scores : [ 0.77957857  0.77957941  0.77986602  0.78111593  0.74678681 -0.01004055\n",
      " -0.01004055 -0.01004055]\n"
     ]
    }
   ],
   "source": [
    "# Two Models\n",
    "cv_parameters = {'alpha': np.logspace(-8, -1, num = 8) }\n",
    "reg_separate = fit_regression(linear_model.LassoLars(), data_dict_reg,  \n",
    "               cv_parameters = cv_parameters, separate = True, model_name = \"Lasso\")"
   ]
  },
  {
   "cell_type": "markdown",
   "id": "fad2723c",
   "metadata": {},
   "source": [
    "### Save the models in one file or save the whole session in a dill file\n",
    "Some of the models take long time to train. You may put your models in a dictionary and save it by running: "
   ]
  },
  {
   "cell_type": "code",
   "execution_count": 57,
   "id": "4c646702",
   "metadata": {},
   "outputs": [],
   "source": [
    "# save all time-consuming models in one dict_ \n",
    "models_to_save = {}\n",
    "models_to_save['reg_lasso'] = reg_lasso\n",
    "models_to_save['reg_separate'] = reg_separate\n",
    "models_to_save['l1_logistic_all'] = l1_logistic_all\n",
    "models_to_save['rf_all'] = rf_all\n",
    "\n",
    "# os.path.abspath(os.getcwd()) # get current directory\n",
    "filename = './week4_saved_models'\n",
    "outfile = open(filename,'wb')\n",
    "pickle.dump(models_to_save, outfile)\n",
    "outfile.close()"
   ]
  },
  {
   "cell_type": "markdown",
   "id": "c5f2b9e5",
   "metadata": {},
   "source": [
    "## WK4/Phase4 - Picking Loans using Regression of Loan Returns"
   ]
  },
  {
   "cell_type": "markdown",
   "id": "cd50b0c0",
   "metadata": {},
   "source": [
    "### Test investment strategies\n",
    "Now we test several investment strategies using the learning models above"
   ]
  },
  {
   "cell_type": "code",
   "execution_count": 61,
   "id": "a092471d",
   "metadata": {},
   "outputs": [],
   "source": [
    "def test_investments(data_dict,\n",
    "                        classifier = None,\n",
    "                        regressor = None,\n",
    "                        strategy = 'Random',\n",
    "                        num_loans = 1000,\n",
    "                        random_state = default_seed,\n",
    "                        output_to_file = True):\n",
    "    '''\n",
    "    This function tests a variety of investment methodologies and their returns.\n",
    "    It will run its tests on the loans defined by the test_set element of the data\n",
    "    dictionary.\n",
    "\n",
    "    It is currently able to test four strategies\n",
    "      - random: invest in a random set of loans\n",
    "      - ranking: score each loan by probability of default, and only invest\n",
    "                 in the \"safest\" loans (i.e., those with the lowest probabilities\n",
    "                 of default)\n",
    "      - regression: train a single regression model to predict the expected return\n",
    "                    of loans in the past. Then, for loans we could invest in, simply\n",
    "                    rank them by their expected returns and invest in that order.\n",
    "      - two-stage: train two regression models to predict the expected return of\n",
    "                   defaulted loans and non-defaulted loans in the training set. Then,\n",
    "                   for each potential loan we could invest in, predict the probability\n",
    "                   the loan will default, its return if it doesn't default and its\n",
    "                   return if it does. Then, calculate a weighted combination of\n",
    "                   the latter using the former to find a predicted return. Rank the\n",
    "                   loans by this expected return, and invest in that order\n",
    "      - knapsack: \n",
    "\n",
    "    It expects the following parameters\n",
    "      - data: the data set we are using now\n",
    "      - data_dict: the dictionary containing both training and testing data;\n",
    "                   returned by the prepare_data function\n",
    "      - classifier: a fitted model object which is returned by the fit_classification function.\n",
    "      - regressor: a fitted model object which is returned by the fit_regression function.\n",
    "      - strategy: the name of the strategy; one of the three listed above\n",
    "      - num_loans: the number of loans to be included in the test portfolio\n",
    "      - num_samples: the number of random samples used to compute average return ()\n",
    "      - random_state: the random seed to use when selecting a subset of rows\n",
    "      - output_to_file: if the results will be saved to the output file\n",
    "\n",
    "    The function returns a dictionary FOR EACH RETURN DEFINITION with the following entries\n",
    "      - strategy: the name of the strategy\n",
    "      - average return: the return of the strategy based on the testing set\n",
    "      - test data: the updated Dataframe of testing data. Useful in the optimization section\n",
    "    '''\n",
    "\n",
    "    np.random.seed(random_state)\n",
    "\n",
    "    # Retrieve the rows that were used to train and test  the\n",
    "    # classification model\n",
    "    train_set = data_dict['train_set']\n",
    "    test_set = data_dict['test_set']\n",
    "\n",
    "    col_list = ['ret_PESS', 'ret_OPT', 'ret_INTa', 'ret_INTb', 'ret_INTc']\n",
    "\n",
    "    # Create a dataframe for testing, including the score\n",
    "    data_test = final_data.loc[test_set,:]\n",
    "    out = {}\n",
    "\n",
    "    for ret_col in col_list:\n",
    "\n",
    "        if strategy == 'Random':\n",
    "            # Randomize the order of the rows in the datframe\n",
    "            data_test = data_test.sample(frac = 1).reset_index(drop = True)\n",
    "\n",
    "            # Select num_loans to invest in\n",
    "            pf_test = data_test[['funded_amnt',ret_col]].iloc[:num_loans]\n",
    "\n",
    "            # Find the average return for these loans\n",
    "            ret_test = np.dot(pf_test[ret_col],pf_test.funded_amnt)/np.sum(pf_test.funded_amnt)\n",
    "\n",
    "            # Return\n",
    "            out[ret_col] = {'strategy':strategy, 'average return':ret_test}\n",
    "\n",
    "            # Dump the strategy performance to file\n",
    "            if output_to_file:\n",
    "                dump_to_output(strategy + \",\" + ret_col + \"::average return\", ret_test )\n",
    "\n",
    "            continue\n",
    "\n",
    "        elif strategy == 'Regression':\n",
    "\n",
    "            colname = 'predicted_return_' + ret_col\n",
    "\n",
    "            data_test[colname] = regressor[ret_col]['predicted_return']\n",
    "\n",
    "            # Sort the loans by predicted return\n",
    "            data_test = data_test.sort_values(by=colname, ascending = False).reset_index(drop = True)\n",
    "\n",
    "            # Pick num_loans loans\n",
    "            pf_test = data_test[['funded_amnt',ret_col]].iloc[:num_loans]\n",
    "\n",
    "            # Find their return\n",
    "            ret_test = np.dot(pf_test[ret_col],pf_test.funded_amnt)/np.sum(pf_test.funded_amnt)\n",
    "\n",
    "            # Return\n",
    "            out[ret_col] = {'strategy':strategy, 'average return':ret_test, 'test data':data_test}\n",
    "\n",
    "            # Dump the strategy performance to file\n",
    "            if output_to_file:\n",
    "                dump_to_output(strategy + \",\" + ret_col + \"::average return\", ret_test )\n",
    "\n",
    "            continue\n",
    "\n",
    "        # Get the predicted scores, if the strategy is not Random or just Regression\n",
    "        try:\n",
    "            y_pred_score = classifier['y_pred_probs']\n",
    "        except:\n",
    "            y_pred_score = classifier['y_pred_score']\n",
    "\n",
    "        data_test['score'] = y_pred_score\n",
    "\n",
    "\n",
    "        if strategy == 'Ranking':\n",
    "            # Sort the test data by the score\n",
    "            data_test = data_test.sort_values(by='score').reset_index(drop = True)\n",
    "\n",
    "            # Select num_loans to invest in\n",
    "            pf_test = data_test[['funded_amnt',ret_col]].iloc[:num_loans]\n",
    "\n",
    "            # Find the average return for these loans\n",
    "            ret_test = np.dot(pf_test[ret_col],pf_test.funded_amnt)/np.sum(pf_test.funded_amnt)\n",
    "\n",
    "            # Return\n",
    "            out[ret_col] = {'strategy':strategy, 'average return':ret_test}\n",
    "\n",
    "            # Dump the strategy performance to file\n",
    "            if output_to_file:\n",
    "                dump_to_output(strategy + \",\" + ret_col + \"::average return\", ret_test )\n",
    "\n",
    "            continue\n",
    "\n",
    "\n",
    "        elif strategy == 'Two-stage':\n",
    "\n",
    "            # Load the predicted returns\n",
    "            data_test['predicted_regular_return'] = regressor[ret_col]['predicted_regular_return']\n",
    "            data_test['predicted_default_return'] = regressor[ret_col]['predicted_default_return']\n",
    "\n",
    "            # Compute expectation\n",
    "            colname = 'predicted_return_' + ret_col\n",
    "\n",
    "            data_test[colname] = ( (1-data_test.score)*data_test.predicted_regular_return +\n",
    "                                             data_test.score*data_test.predicted_default_return )\n",
    "\n",
    "            # Sort the loans by predicted return\n",
    "            data_test = data_test.sort_values(by=colname, ascending = False).reset_index(drop = True)\n",
    "\n",
    "            # Pick num_loans loans\n",
    "            pf_test = data_test[['funded_amnt',ret_col]].iloc[:num_loans]\n",
    "\n",
    "            # Find their return\n",
    "            ret_test = np.dot(pf_test[ret_col],pf_test.funded_amnt)/np.sum(pf_test.funded_amnt)\n",
    "\n",
    "            # Return\n",
    "            out[ret_col] = {'strategy':strategy, 'average return':ret_test, 'test data':data_test}\n",
    "\n",
    "            # Dump the strategy performance to file\n",
    "            if output_to_file:\n",
    "                dump_to_output(strategy + \",\" + ret_col + \"::average return\", ret_test )\n",
    "\n",
    "            continue\n",
    "\n",
    "        elif strategy == 'Greedy':\n",
    "\n",
    "            # Sort the loans by return-to-risk ratio:\n",
    "            temp1 = regressor[\"ret_INTc\"]['predicted_return']\n",
    "            #temp1 = data_test.ret_INTc.to_numpy() # return\n",
    "            temp2 = data_test['score'].to_numpy() # default probability\n",
    "            data_test['ratio'] = temp1/temp2\n",
    "            data_test = data_test.sort_values(by='ratio', ascending = False).reset_index(drop = True)\n",
    "\n",
    "            # Pick num_loans loans\n",
    "            pf_test = data_test[['funded_amnt',ret_col]].iloc[:num_loans]\n",
    "\n",
    "            # Find their return\n",
    "            ret_test = np.dot(pf_test[ret_col],pf_test.funded_amnt)/np.sum(pf_test.funded_amnt)\n",
    "\n",
    "            # Return\n",
    "            out[ret_col] = {'strategy':strategy, 'average return':ret_test}\n",
    "\n",
    "            # Dump the strategy performance to file\n",
    "            if output_to_file:\n",
    "                dump_to_output(strategy + \",\" + ret_col + \"::average return\", ret_test )\n",
    "\n",
    "            continue\n",
    "            \n",
    "        elif strategy == 'KMeans':\n",
    "            \n",
    "            # Extract unique kmeans values\n",
    "            kmeans_values = data_test['kmeans'].unique()\n",
    "\n",
    "            for kmean_val in kmeans_values:\n",
    "\n",
    "                # Subset data based on current kmean value\n",
    "                data_subset = data_test[data_test['kmeans'] == kmean_val].copy()\n",
    "\n",
    "                # Reset the index of the subset for direct indexing\n",
    "                data_subset.reset_index(drop=True, inplace=True)\n",
    "\n",
    "                # Filter the predicted returns to match the data_subset length\n",
    "                predicted_regular_return_subset = regressor[ret_col]['predicted_regular_return'][data_subset.index]\n",
    "                predicted_default_return_subset = regressor[ret_col]['predicted_default_return'][data_subset.index]\n",
    "\n",
    "                # Load the predicted returns\n",
    "                data_subset['predicted_regular_return'] = predicted_regular_return_subset\n",
    "                data_subset['predicted_default_return'] = predicted_default_return_subset\n",
    "\n",
    "                # Compute expectation\n",
    "                colname = 'predicted_return_' + ret_col\n",
    "\n",
    "                data_subset[colname] = ((1-data_subset.score) * data_subset.predicted_regular_return +\n",
    "                                        data_subset.score * data_subset.predicted_default_return)\n",
    "\n",
    "                # Sort the loans by predicted return\n",
    "                data_subset = data_subset.sort_values(by=colname, ascending = False).reset_index(drop = True)\n",
    "\n",
    "                # Pick num_loans loans\n",
    "                pf_test = data_subset[['funded_amnt',ret_col]].iloc[:num_loans]\n",
    "\n",
    "                # Find their return\n",
    "                ret_test = np.dot(pf_test[ret_col],pf_test.funded_amnt)/np.sum(pf_test.funded_amnt)\n",
    "\n",
    "                # Return\n",
    "                out_key = ret_col + \"_kmean_\" + str(kmean_val)  # Use a unique key for each kmean value\n",
    "                out[out_key] = {'strategy':strategy, 'kmean':kmean_val, 'average return':ret_test, 'test data':data_subset}\n",
    "\n",
    "                # Dump the strategy performance to file\n",
    "                if output_to_file:\n",
    "                    dump_to_output(strategy + \",\" + ret_col + \"_kmean_\" + str(kmean_val) + \"::average return\", ret_test)\n",
    "\n",
    "            continue\n",
    "\n",
    "        elif strategy == 'Crystal-ball':\n",
    "\n",
    "            # Sort the loans by realized return\n",
    "            data_test = data_test.sort_values(by=ret_col, ascending = False).reset_index(drop = True)\n",
    "\n",
    "            # Pick num_loans loans\n",
    "            pf_test = data_test[['funded_amnt',ret_col]].iloc[:num_loans]\n",
    "\n",
    "            # Find their return\n",
    "            ret_test = np.dot(pf_test[ret_col],pf_test.funded_amnt)/np.sum(pf_test.funded_amnt)\n",
    "\n",
    "            # Return\n",
    "            out[ret_col] = {'strategy':strategy, 'average return':ret_test}\n",
    "\n",
    "            # Dump the strategy performance to file\n",
    "            if output_to_file:\n",
    "                dump_to_output(strategy + \",\" + ret_col + \"::average return\", ret_test )\n",
    "\n",
    "            continue\n",
    "\n",
    "        else:\n",
    "            return 'Not a valid strategy'\n",
    "\n",
    "    return out"
   ]
  },
  {
   "cell_type": "code",
   "execution_count": 59,
   "id": "e99228aa",
   "metadata": {},
   "outputs": [],
   "source": [
    "train_set = data_dict_reg['train_set']\n",
    "test_set = data_dict_reg['test_set']\n",
    "\n",
    "# Create a dataframe for testing, including the score\n",
    "data_test1 = final_data.loc[test_set,:]"
   ]
  },
  {
   "cell_type": "markdown",
   "id": "2a063a55",
   "metadata": {},
   "source": [
    "### Implement the test strategies"
   ]
  },
  {
   "cell_type": "markdown",
   "id": "8029d633",
   "metadata": {},
   "source": [
    "#### Random  "
   ]
  },
  {
   "cell_type": "code",
   "execution_count": 62,
   "id": "05f02787",
   "metadata": {},
   "outputs": [
    {
     "name": "stdout",
     "output_type": "stream",
     "text": [
      "strategy: Random\n",
      "ret_PESS: 0.027612413754300503\n",
      "ret_OPT: 0.051511882581584754\n",
      "ret_INTa: 0.029762023236351926\n",
      "ret_INTb: 0.03126210725242348\n",
      "ret_INTc: 0.07971590497346794\n"
     ]
    }
   ],
   "source": [
    "col_list = ['ret_PESS', 'ret_OPT', 'ret_INTa', 'ret_INTb', 'ret_INTc']\n",
    "test_strategy = 'Random'\n",
    "\n",
    "print('strategy:',test_strategy)   \n",
    "strat_random = test_investments(data_dict_reg, strategy = test_strategy, \n",
    "                            num_loans = 100, output_to_file = False, random_state = 1)\n",
    "for ret_col in col_list:\n",
    "    print(ret_col + ': ' + str(strat_random[ret_col]['average return']))"
   ]
  },
  {
   "cell_type": "markdown",
   "id": "fbbb20ef",
   "metadata": {},
   "source": [
    "#### Ranking  "
   ]
  },
  {
   "cell_type": "code",
   "execution_count": 63,
   "id": "a8b84c30",
   "metadata": {},
   "outputs": [
    {
     "name": "stdout",
     "output_type": "stream",
     "text": [
      "strategy: Ranking\n",
      "ret_PESS: 0.10723350029377643\n",
      "ret_OPT: 0.05419256476627222\n",
      "ret_INTa: 0.019756030928975665\n",
      "ret_INTb: 0.045937484156453955\n",
      "ret_INTc: 0.08547017858432289\n"
     ]
    }
   ],
   "source": [
    "test_strategy = 'Ranking'\n",
    "\n",
    "print('strategy:',test_strategy)\n",
    "strat_rank = test_investments(data_dict_reg, classifier=l1_logistic_all, strategy = test_strategy, \n",
    "                        num_loans = 100, output_to_file = False)\n",
    "\n",
    "for ret_col in col_list:\n",
    "    print(ret_col + ': ' + str(strat_rank[ret_col]['average return']))"
   ]
  },
  {
   "cell_type": "markdown",
   "id": "5bcda420",
   "metadata": {},
   "source": [
    "#### Regression    "
   ]
  },
  {
   "cell_type": "code",
   "execution_count": 64,
   "id": "2723d834",
   "metadata": {},
   "outputs": [
    {
     "name": "stdout",
     "output_type": "stream",
     "text": [
      "strategy: Regression\n",
      "ret_PESS: 0.11181327323509822\n",
      "ret_OPT: 0.04093680265505865\n",
      "ret_INTa: 0.03723505059566039\n",
      "ret_INTb: 0.040613007336555346\n",
      "ret_INTc: 0.07038092035567016\n"
     ]
    }
   ],
   "source": [
    "test_strategy = 'Regression'\n",
    "\n",
    "print('strategy:',test_strategy)\n",
    "strat_reg = test_investments(data_dict_reg, regressor = reg_lasso, strategy = test_strategy, \n",
    "                        num_loans = 100)\n",
    "for ret_col in col_list:\n",
    "    print(ret_col + ': ' + str(strat_reg[ret_col]['average return']))"
   ]
  },
  {
   "cell_type": "markdown",
   "id": "93b6041c",
   "metadata": {},
   "source": [
    "#### Two Stage Model  "
   ]
  },
  {
   "cell_type": "code",
   "execution_count": 65,
   "id": "0c53710f",
   "metadata": {},
   "outputs": [
    {
     "name": "stdout",
     "output_type": "stream",
     "text": [
      "strategy: Two-stage\n",
      "ret_PESS: 0.1108265107461695\n",
      "ret_OPT: 0.05842493490934119\n",
      "ret_INTa: 0.03378219268007056\n",
      "ret_INTb: 0.056898594280958684\n",
      "ret_INTc: 0.06986950925083941\n"
     ]
    }
   ],
   "source": [
    "test_strategy = 'Two-stage'\n",
    "\n",
    "print('strategy:',test_strategy)\n",
    "two_stage = test_investments(data_dict_reg, classifier = l1_logistic_all, regressor = reg_separate, \n",
    "                             strategy = test_strategy, num_loans = 100)\n",
    "\n",
    "for ret_col in col_list:\n",
    "    print(ret_col + ': ' + str(two_stage[ret_col]['average return']))"
   ]
  },
  {
   "cell_type": "markdown",
   "id": "8360c3be",
   "metadata": {},
   "source": [
    "#### New Greedy Rule: sort the loans by return-to-risk ratio. "
   ]
  },
  {
   "cell_type": "code",
   "execution_count": 66,
   "id": "f18b10e3",
   "metadata": {},
   "outputs": [
    {
     "name": "stdout",
     "output_type": "stream",
     "text": [
      "strategy: Greedy\n",
      "ret_PESS: 0.10723350029377643\n",
      "ret_OPT: 0.05186446053883344\n",
      "ret_INTa: 0.026267491914223017\n",
      "ret_INTb: 0.048588845952080316\n",
      "ret_INTc: 0.07625453087230004\n"
     ]
    }
   ],
   "source": [
    "test_strategy = 'Greedy'\n",
    "print('strategy:',test_strategy)\n",
    "strat_rank = test_investments(data_dict_reg, classifier = l1_logistic_all, regressor = reg_lasso, strategy = test_strategy, \n",
    "                        num_loans = 100, output_to_file = False)\n",
    "\n",
    "for ret_col in col_list:\n",
    "    print(ret_col + ': ' + str(strat_rank[ret_col]['average return']))"
   ]
  },
  {
   "cell_type": "markdown",
   "id": "09eb7d57",
   "metadata": {},
   "source": [
    "#### New KMeans Model"
   ]
  },
  {
   "cell_type": "code",
   "execution_count": 67,
   "id": "12e2b6e9",
   "metadata": {},
   "outputs": [
    {
     "name": "stdout",
     "output_type": "stream",
     "text": [
      "strategy: KMeans\n"
     ]
    }
   ],
   "source": [
    "test_strategy = 'KMeans'\n",
    "print('strategy:', test_strategy)\n",
    "kmeans_strategy = test_investments(data_dict_reg, classifier = l1_logistic_all, regressor = reg_separate, \n",
    "                             strategy = test_strategy, num_loans = 100)"
   ]
  },
  {
   "cell_type": "code",
   "execution_count": 70,
   "id": "c23dfd5f",
   "metadata": {},
   "outputs": [
    {
     "name": "stdout",
     "output_type": "stream",
     "text": [
      "ret_PESS_kmean_1: -0.06942677210383182\n",
      "ret_PESS_kmean_2: 0.00099735540339513\n",
      "ret_PESS_kmean_0: -0.011226502685573294\n",
      "ret_OPT_kmean_1: 0.06846107070943834\n",
      "ret_OPT_kmean_2: 0.08309354766382918\n",
      "ret_OPT_kmean_0: 0.06403982589610255\n",
      "ret_INTa_kmean_1: -0.03437435682971883\n",
      "ret_INTa_kmean_2: 0.020349320179074506\n",
      "ret_INTa_kmean_0: 0.009328179976205367\n",
      "ret_INTb_kmean_1: -0.023631810017838678\n",
      "ret_INTb_kmean_2: 0.03495931080178906\n",
      "ret_INTb_kmean_0: 0.023899592952861776\n",
      "ret_INTc_kmean_1: -0.005280632365225155\n",
      "ret_INTc_kmean_2: 0.06278497470918273\n",
      "ret_INTc_kmean_0: 0.050189712057006605\n"
     ]
    }
   ],
   "source": [
    "# Extract unique kmeans values from the test data\n",
    "test_data_subset = final_data.loc[data_dict_reg['test_set']]\n",
    "kmeans_values = test_data_subset['kmeans'].unique()\n",
    "\n",
    "# Loop through each return column\n",
    "for ret_col in col_list:\n",
    "    for kmean_val in kmeans_values:\n",
    "        key = ret_col + \"_kmean_\" + str(kmean_val)\n",
    "        if key in kmeans_strategy:\n",
    "            print(key + ': ' + str(kmeans_strategy[key]['average return']))"
   ]
  },
  {
   "cell_type": "markdown",
   "id": "3ea2fc26",
   "metadata": {},
   "source": [
    "### Step 5 - Sensitivity test of portfolio size"
   ]
  },
  {
   "cell_type": "code",
   "execution_count": 71,
   "id": "1349de68",
   "metadata": {},
   "outputs": [],
   "source": [
    "result_sensitivity = []\n",
    "\n",
    "# Vary the portfolio size from 10 to 300 in increments of 10\n",
    "for num_loans in list(range(10,500,10)):\n",
    "    reg_0 = test_investments(data_dict_reg, regressor=reg_separate, classifier=l1_logistic_all, \n",
    "                             strategy='Two-stage', num_loans=num_loans)\n",
    "    result_sensitivity.append(reg_0['ret_INTc']['average return'])\n",
    "\n",
    "result_sensitivity = np.array(result_sensitivity) * 100"
   ]
  },
  {
   "cell_type": "code",
   "execution_count": 72,
   "id": "8b269428",
   "metadata": {},
   "outputs": [
    {
     "data": {
      "image/png": "[encoded data removed]",
      "text/plain": [
       "<Figure size 1500x600 with 1 Axes>"
      ]
     },
     "metadata": {},
     "output_type": "display_data"
    }
   ],
   "source": [
    "# Set the figure size (width, height) in inches\n",
    "plt.figure(figsize=(15, 6))\n",
    "\n",
    "# Plot using seaborn\n",
    "sns.pointplot(x=np.array(list(range(10, 500, 10))), y=result_sensitivity)\n",
    "\n",
    "# Rotate x-axis labels for better readability\n",
    "plt.xticks(rotation=45)\n",
    "\n",
    "# Add a red dotted line for the average return\n",
    "average_return = np.mean(result_sensitivity)\n",
    "plt.axhline(y=average_return, color='red', linestyle='--', label=f\"Average Return: {average_return:.2f}%\")\n",
    "\n",
    "# Remove top and right borders\n",
    "sns.despine()\n",
    "\n",
    "# Set y-axis and x-axis labels with font size\n",
    "plt.ylabel('Investment Return (%)', size=20)\n",
    "plt.xlabel('Portfolio Size', size=20)\n",
    "\n",
    "# Add title to the plot\n",
    "plt.title(\"Investment Returns using Two-stage Strategy and ret_INTc Metric\", size=25)\n",
    "\n",
    "# Display the plot\n",
    "plt.tight_layout()\n",
    "plt.show()"
   ]
  },
  {
   "cell_type": "code",
   "execution_count": 74,
   "id": "784d3eff",
   "metadata": {},
   "outputs": [
    {
     "data": {
      "image/png": "[encoded data removed]",
      "text/plain": [
       "<Figure size 1500x600 with 1 Axes>"
      ]
     },
     "metadata": {},
     "output_type": "display_data"
    }
   ],
   "source": [
    "# Portfolio sizes to test\n",
    "portfolio_sizes = list(range(10, 500, 10))\n",
    "\n",
    "# Storing average returns for each kmean cluster\n",
    "returns_per_cluster = {}\n",
    "\n",
    "# Loop through portfolio sizes\n",
    "for num_loans in portfolio_sizes:\n",
    "    \n",
    "    # Get investment results using the 'KMeans' strategy\n",
    "    kmeans_results = test_investments(data_dict_reg, classifier=l1_logistic_all, regressor=reg_separate, \n",
    "                                      strategy='KMeans', num_loans=num_loans)\n",
    "    \n",
    "    # Loop through each kmeans cluster for ret_INTc\n",
    "    for key in kmeans_results:\n",
    "        if \"ret_INTc_kmean\" in key:\n",
    "            cluster_num = key.split(\"_\")[-1]\n",
    "            if cluster_num not in returns_per_cluster:\n",
    "                returns_per_cluster[cluster_num] = []\n",
    "            returns_per_cluster[cluster_num].append(kmeans_results[key]['average return'] * 100)\n",
    "\n",
    "# Plotting\n",
    "plt.figure(figsize=(15, 6))\n",
    "\n",
    "# Colors for each cluster's returns\n",
    "colors = sns.color_palette(\"tab10\", len(returns_per_cluster))\n",
    "\n",
    "# Plot each cluster's returns\n",
    "for i, (cluster_num, returns) in enumerate(returns_per_cluster.items()):\n",
    "    sns.lineplot(x=portfolio_sizes, y=returns, label=f\"Cluster {cluster_num}\", color=colors[i], linewidth=2.5)\n",
    "    \n",
    "    # Plot average return for this cluster\n",
    "    avg_return = np.mean(returns)\n",
    "    plt.axhline(y=avg_return, color=colors[i], linestyle='--', label=f\"Average Return Cluster {cluster_num}: {avg_return:.2f}%\")\n",
    "\n",
    "# Customize the plot\n",
    "plt.xticks(rotation=45)\n",
    "sns.despine()\n",
    "plt.ylabel('Investment Return (%)', size=20)\n",
    "plt.xlabel('Portfolio Size', size=20)\n",
    "plt.title(\"Investment Returns for ret_INTc using KMeans Strategy per Cluster\", size=25)\n",
    "plt.legend(title=\"KMeans Cluster and Averages\", loc='upper left', bbox_to_anchor=(1,1))\n",
    "plt.tight_layout()\n",
    "plt.show()"
   ]
  },
  {
   "cell_type": "markdown",
   "id": "451a983a",
   "metadata": {},
   "source": [
    "## WK5/Phase5 - Optimization Models for Picking Loans"
   ]
  },
  {
   "cell_type": "code",
   "execution_count": 75,
   "id": "81df1dea",
   "metadata": {},
   "outputs": [
    {
     "data": {
      "text/plain": [
       "<AxesSubplot:>"
      ]
     },
     "execution_count": 75,
     "metadata": {},
     "output_type": "execute_result"
    },
    {
     "data": {
      "image/png": "[encoded data removed]",
      "text/plain": [
       "<Figure size 640x480 with 1 Axes>"
      ]
     },
     "metadata": {},
     "output_type": "display_data"
    }
   ],
   "source": [
    "# Take a look at distribution in date to decide the size of train and test set splitted by time\n",
    "final_data['issue_d'].hist(xrot=90)"
   ]
  },
  {
   "cell_type": "code",
   "execution_count": 76,
   "id": "b95bea67",
   "metadata": {},
   "outputs": [],
   "source": [
    "# fund out cut off date to divide the data into ~70% traininig data and ~30% testing data\n",
    "date_threshold = np.quantile(final_data['issue_d'],5/7)"
   ]
  },
  {
   "cell_type": "markdown",
   "id": "d1a03726",
   "metadata": {},
   "source": [
    "### 5.3 Optimization\n",
    "\n",
    "In this section, we implement three different optimization models. To illustrate and compare these models we will only use the M1-PESS definition and the predicted returns from the previously tested two-stage strategy.\n",
    "\n",
    "### Three optimization models to picks loans\n",
    "\n",
    "#### 5.3.1 Directly maximize total profit"
   ]
  },
  {
   "cell_type": "code",
   "execution_count": 83,
   "id": "6d330055",
   "metadata": {},
   "outputs": [],
   "source": [
    "data_dic = data_dict_reg.copy()"
   ]
  },
  {
   "cell_type": "code",
   "execution_count": 77,
   "id": "34450417",
   "metadata": {},
   "outputs": [
    {
     "name": "stdout",
     "output_type": "stream",
     "text": [
      "Set parameter WLSAccessID\n",
      "Set parameter WLSSecret\n",
      "Set parameter LicenseID to value 2415696\n",
      "Academic license - for non-commercial use only - registered to xiaohanf@andrew.cmu.edu\n",
      "Gurobi Optimizer version 10.0.3 build v10.0.3rc0 (win64)\n",
      "\n",
      "CPU model: 12th Gen Intel(R) Core(TM) i7-12800H, instruction set [SSE2|AVX|AVX2]\n",
      "Thread count: 14 physical cores, 20 logical processors, using up to 20 threads\n",
      "\n",
      "Academic license - for non-commercial use only - registered to xiaohanf@andrew.cmu.edu\n",
      "Optimize a model with 1 rows, 10000 columns and 10000 nonzeros\n",
      "Model fingerprint: 0x0905e3ad\n",
      "Variable types: 0 continuous, 10000 integer (10000 binary)\n",
      "Coefficient statistics:\n",
      "  Matrix range     [1e+00, 1e+00]\n",
      "  Objective range  [4e-01, 7e+03]\n",
      "  Bounds range     [1e+00, 1e+00]\n",
      "  RHS range        [1e+01, 1e+01]\n",
      "Found heuristic solution: objective 39527.696902\n",
      "Presolve removed 1 rows and 10000 columns\n",
      "Presolve time: 0.01s\n",
      "Presolve: All rows and columns removed\n",
      "\n",
      "Explored 0 nodes (0 simplex iterations) in 0.02 seconds (0.01 work units)\n",
      "Thread count was 1 (of 20 available processors)\n",
      "\n",
      "Solution count 2: 60709.5 39527.7 \n",
      "\n",
      "Optimal solution found (tolerance 1.00e-04)\n",
      "Best objective 6.070953866240e+04, best bound 6.070953866240e+04, gap 0.0000%\n",
      "Optimal expected return: 60709.53866240049\n",
      "Choose loan 7\n",
      "Choose loan 12\n",
      "Choose loan 16\n",
      "Choose loan 25\n",
      "Choose loan 44\n",
      "Choose loan 52\n",
      "Choose loan 72\n",
      "Choose loan 86\n",
      "Choose loan 88\n",
      "Choose loan 92\n"
     ]
    }
   ],
   "source": [
    "ret_col = 'ret_INTc'\n",
    "test_pool = two_stage[ret_col]['test data']\n",
    "num_var = test_pool.shape[0]\n",
    "num_loans = 10\n",
    "\n",
    "## first define cost vector\n",
    "c = np.zeros(num_var) # cost vector\n",
    "for i in range(num_var):\n",
    "    c[i] = test_pool['predicted_return_'+ret_col].iloc[i]*test_pool.funded_amnt.iloc[i]\n",
    "\n",
    "## then define vector of all ones\n",
    "u = np.zeros(num_var) # cost vector\n",
    "for i in range(num_var):\n",
    "    u[i] = 1\n",
    "\n",
    "#Flora's licence    \n",
    "env = gp.Env(empty=True)\n",
    "env.setParam('WLSACCESSID', '9f11ef5f-f6b2-424f-b878-41f86258c5da')\n",
    "env.setParam('WLSSECRET', 'd898d09a-1223-4a71-931b-8800234f87c1')\n",
    "env.setParam('LICENSEID', 2415696)\n",
    "env.start()\n",
    "\n",
    "with gp.Model(env=env) as model:\n",
    "# Placing the variables in a pandas Series object will allow us to use the dot() function\n",
    "    x = pd.Series(model.addVars(num_var,vtype=GRB.BINARY))\n",
    "\n",
    "    model.setObjective(c.dot(x), GRB.MAXIMIZE)\n",
    "\n",
    "    model.addConstr(u.dot(x) <= num_loans)\n",
    "\n",
    "    # Formulate problem\n",
    "    model.optimize()\n",
    "    \n",
    "    # Extracting the optimal solution and optimal value\n",
    "    print('Optimal expected return:',model.ObjVal)\n",
    "    for i in range(num_var):\n",
    "        if x[i].X > 0: # most variables are zero, so we just print the non-zero variables\n",
    "            print('Choose loan',i+1)  "
   ]
  },
  {
   "cell_type": "markdown",
   "id": "f5235715",
   "metadata": {},
   "source": [
    "#### Partial Investments\n",
    "Now we want to decide which loan to invest in, and how much should the investment be."
   ]
  },
  {
   "cell_type": "code",
   "execution_count": 78,
   "id": "ed7b5c80",
   "metadata": {},
   "outputs": [
    {
     "name": "stdout",
     "output_type": "stream",
     "text": [
      "Set parameter WLSAccessID\n",
      "Set parameter WLSSecret\n",
      "Set parameter LicenseID to value 2415696\n",
      "Academic license - for non-commercial use only - registered to xiaohanf@andrew.cmu.edu\n",
      "Gurobi Optimizer version 10.0.3 build v10.0.3rc0 (win64)\n",
      "\n",
      "CPU model: 12th Gen Intel(R) Core(TM) i7-12800H, instruction set [SSE2|AVX|AVX2]\n",
      "Thread count: 14 physical cores, 20 logical processors, using up to 20 threads\n",
      "\n",
      "Academic license - for non-commercial use only - registered to xiaohanf@andrew.cmu.edu\n",
      "Optimize a model with 20001 rows, 20000 columns and 50000 nonzeros\n",
      "Model fingerprint: 0xa2da0358\n",
      "Variable types: 10000 continuous, 10000 integer (10000 binary)\n",
      "Coefficient statistics:\n",
      "  Matrix range     [1e+00, 4e+04]\n",
      "  Objective range  [4e-01, 7e+03]\n",
      "  Bounds range     [1e+00, 4e+04]\n",
      "  RHS range        [1e+05, 1e+05]\n",
      "Found heuristic solution: objective -0.0000000\n",
      "Presolve removed 2642 rows and 2642 columns\n",
      "Presolve time: 0.06s\n",
      "Presolved: 17359 rows, 17358 columns, 43395 nonzeros\n",
      "Variable types: 8679 continuous, 8679 integer (8679 binary)\n",
      "\n",
      "Root relaxation: objective 9.148422e+08, 6 iterations, 0.01 seconds (0.00 work units)\n",
      "\n",
      "    Nodes    |    Current Node    |     Objective Bounds      |     Work\n",
      " Expl Unexpl |  Obj  Depth IntInf | Incumbent    BestBd   Gap | It/Node Time\n",
      "\n",
      "*    0     0               0    9.148422e+08 9.1484e+08  0.00%     -    0s\n",
      "\n",
      "Explored 1 nodes (6 simplex iterations) in 0.13 seconds (0.07 work units)\n",
      "Thread count was 20 (of 20 available processors)\n",
      "\n",
      "Solution count 2: 9.14842e+08 -0 \n",
      "\n",
      "Optimal solution found (tolerance 1.00e-04)\n",
      "Best objective 9.148421798290e+08, best bound 9.148421798290e+08, gap 0.0000%\n",
      "Optimal expected return: 914842179.8289926\n",
      "Choose loan 7 with investment amount: 28000.0\n",
      "Choose loan 16 with investment amount: 30000.0\n",
      "Choose loan 44 with investment amount: 35000.0\n",
      "Choose loan 52 with investment amount: 35000.0\n",
      "Choose loan 86 with investment amount: 18796.82500000001\n"
     ]
    }
   ],
   "source": [
    "ret_col = 'ret_INTc'\n",
    "test_pool = two_stage[ret_col]['test data']\n",
    "num_var = test_pool.shape[0]\n",
    "num_loans = 10\n",
    "min_investment = 100\n",
    "\n",
    "# Define cost vector\n",
    "c = np.zeros(num_var)\n",
    "for i in range(num_var):\n",
    "    c[i] = test_pool['predicted_return_'+ret_col].iloc[i]*test_pool.funded_amnt.iloc[i]\n",
    "\n",
    "# Define vector of all ones\n",
    "u = np.zeros(num_var)\n",
    "for i in range(num_var):\n",
    "    u[i] = 1\n",
    "    \n",
    "env = gp.Env(empty=True)\n",
    "env.setParam('WLSACCESSID', '9f11ef5f-f6b2-424f-b878-41f86258c5da')\n",
    "env.setParam('WLSSECRET', 'd898d09a-1223-4a71-931b-8800234f87c1')\n",
    "env.setParam('LICENSEID', 2415696)\n",
    "env.start()\n",
    "\n",
    "with gp.Model(env=env) as model:\n",
    "\n",
    "    # Define the binary variables x and continuous variables y\n",
    "    x = pd.Series(model.addVars(num_var, vtype=GRB.BINARY))\n",
    "    y = pd.Series(model.addVars(num_var, lb=0, ub=test_pool.funded_amnt.values))\n",
    "\n",
    "    # Set the objective function\n",
    "    model.setObjective(c.dot(y), GRB.MAXIMIZE)\n",
    "\n",
    "    # Add constraints\n",
    "    for i in range(num_var):\n",
    "        model.addConstr(y[i] <= x[i] * test_pool.funded_amnt.iloc[i])\n",
    "        model.addConstr(y[i] >= min_investment * x[i])\n",
    "\n",
    "    # Update the budget constraint to be based on the sum of y\n",
    "    model.addConstr(u.dot(y) <= num_loans * test_pool.funded_amnt.mean()) # Adjust the budget constraint as needed\n",
    "\n",
    "    model.optimize()\n",
    "\n",
    "    # Extracting the optimal solution and optimal value\n",
    "    print('Optimal expected return:', model.ObjVal)\n",
    "    for i in range(num_var):\n",
    "        if x[i].X > 0:\n",
    "            print('Choose loan', i+1, 'with investment amount:', y[i].X)"
   ]
  },
  {
   "cell_type": "markdown",
   "id": "bd5df76d",
   "metadata": {},
   "source": [
    "#### 5.3.2: Maximize profit with budget constraint"
   ]
  },
  {
   "cell_type": "code",
   "execution_count": 79,
   "id": "c1d267e7",
   "metadata": {},
   "outputs": [
    {
     "name": "stdout",
     "output_type": "stream",
     "text": [
      "Set parameter WLSAccessID\n",
      "Set parameter WLSSecret\n",
      "Set parameter LicenseID to value 2415696\n",
      "Academic license - for non-commercial use only - registered to xiaohanf@andrew.cmu.edu\n",
      "Gurobi Optimizer version 10.0.3 build v10.0.3rc0 (win64)\n",
      "\n",
      "CPU model: 12th Gen Intel(R) Core(TM) i7-12800H, instruction set [SSE2|AVX|AVX2]\n",
      "Thread count: 14 physical cores, 20 logical processors, using up to 20 threads\n",
      "\n",
      "Academic license - for non-commercial use only - registered to xiaohanf@andrew.cmu.edu\n",
      "Optimize a model with 3 rows, 10000 columns and 30000 nonzeros\n",
      "Model fingerprint: 0x84430d5e\n",
      "Variable types: 0 continuous, 10000 integer (10000 binary)\n",
      "Coefficient statistics:\n",
      "  Matrix range     [1e+00, 4e+04]\n",
      "  Objective range  [4e-01, 7e+03]\n",
      "  Bounds range     [1e+00, 1e+00]\n",
      "  RHS range        [9e+01, 1e+06]\n",
      "Presolve time: 0.03s\n",
      "Presolved: 3 rows, 10000 columns, 30000 nonzeros\n",
      "Variable types: 0 continuous, 10000 integer (10000 binary)\n",
      "Found heuristic solution: objective 150030.89011\n",
      "\n",
      "Root relaxation: objective 1.936173e+05, 7 iterations, 0.00 seconds (0.00 work units)\n",
      "\n",
      "    Nodes    |    Current Node    |     Objective Bounds      |     Work\n",
      " Expl Unexpl |  Obj  Depth IntInf | Incumbent    BestBd   Gap | It/Node Time\n",
      "\n",
      "     0     0 193617.320    0    2 150030.890 193617.320  29.1%     -    0s\n",
      "H    0     0                    193411.74258 193617.320  0.11%     -    0s\n",
      "H    0     0                    193571.10026 193617.320  0.02%     -    0s\n",
      "H    0     0                    193582.62545 193617.320  0.02%     -    0s\n",
      "H    0     0                    193593.40912 193613.111  0.01%     -    0s\n",
      "\n",
      "Cutting planes:\n",
      "  Cover: 1\n",
      "\n",
      "Explored 1 nodes (7 simplex iterations) in 0.24 seconds (0.15 work units)\n",
      "Thread count was 20 (of 20 available processors)\n",
      "\n",
      "Solution count 5: 193593 193583 193571 ... 150031\n",
      "\n",
      "Optimal solution found (tolerance 1.00e-04)\n",
      "Best objective 1.935934091244e+05, best bound 1.936111114674e+05, gap 0.0091%\n",
      "Optimal expected return: 193593.40912443175\n",
      "Choose loan 1\n",
      "Choose loan 2\n",
      "Choose loan 3\n",
      "Choose loan 4\n",
      "Choose loan 5\n",
      "Choose loan 6\n",
      "Choose loan 7\n",
      "Choose loan 8\n",
      "Choose loan 9\n",
      "Choose loan 10\n",
      "Choose loan 11\n",
      "Choose loan 12\n",
      "Choose loan 13\n",
      "Choose loan 14\n",
      "Choose loan 15\n",
      "Choose loan 16\n",
      "Choose loan 17\n",
      "Choose loan 18\n",
      "Choose loan 19\n",
      "Choose loan 20\n",
      "Choose loan 21\n",
      "Choose loan 22\n",
      "Choose loan 23\n",
      "Choose loan 24\n",
      "Choose loan 25\n",
      "Choose loan 26\n",
      "Choose loan 27\n",
      "Choose loan 28\n",
      "Choose loan 29\n",
      "Choose loan 30\n",
      "Choose loan 31\n",
      "Choose loan 32\n",
      "Choose loan 33\n",
      "Choose loan 34\n",
      "Choose loan 35\n",
      "Choose loan 36\n",
      "Choose loan 37\n",
      "Choose loan 38\n",
      "Choose loan 39\n",
      "Choose loan 40\n",
      "Choose loan 41\n",
      "Choose loan 42\n",
      "Choose loan 43\n",
      "Choose loan 44\n",
      "Choose loan 45\n",
      "Choose loan 46\n",
      "Choose loan 47\n",
      "Choose loan 48\n",
      "Choose loan 49\n",
      "Choose loan 50\n",
      "Choose loan 51\n",
      "Choose loan 52\n",
      "Choose loan 53\n",
      "Choose loan 54\n",
      "Choose loan 55\n",
      "Choose loan 56\n",
      "Choose loan 57\n",
      "Choose loan 58\n",
      "Choose loan 59\n",
      "Choose loan 60\n",
      "Choose loan 62\n",
      "Choose loan 63\n",
      "Choose loan 64\n",
      "Choose loan 65\n",
      "Choose loan 66\n",
      "Choose loan 68\n",
      "Choose loan 69\n",
      "Choose loan 73\n",
      "Choose loan 81\n",
      "Choose loan 83\n",
      "Choose loan 89\n",
      "Choose loan 93\n",
      "Choose loan 95\n",
      "Choose loan 98\n",
      "Choose loan 106\n",
      "Choose loan 111\n",
      "Choose loan 115\n",
      "Choose loan 127\n",
      "Choose loan 138\n",
      "Choose loan 155\n",
      "Choose loan 168\n",
      "Choose loan 170\n",
      "Choose loan 279\n",
      "Choose loan 288\n",
      "Choose loan 320\n",
      "Choose loan 437\n",
      "Choose loan 489\n",
      "Choose loan 867\n",
      "Choose loan 1113\n",
      "Choose loan 1128\n",
      "90.0\n"
     ]
    }
   ],
   "source": [
    "ret_col = 'ret_INTc'\n",
    "test_pool = two_stage[ret_col]['test data']\n",
    "num_var = test_pool.shape[0]\n",
    "num_loans = 100\n",
    "Budget = 1000000\n",
    "\n",
    "## first define cost vector\n",
    "c = np.zeros(num_var) # cost vector\n",
    "for i in range(num_var):\n",
    "    c[i] = test_pool['predicted_return_'+ret_col].iloc[i]*test_pool.funded_amnt.iloc[i]\n",
    "\n",
    "## then define vector of all ones\n",
    "u = np.zeros(num_var) # cost vector\n",
    "for i in range(num_var):\n",
    "    u[i] = 1\n",
    "    \n",
    "env = gp.Env(empty=True)\n",
    "env.setParam('WLSACCESSID', '9f11ef5f-f6b2-424f-b878-41f86258c5da')\n",
    "env.setParam('WLSSECRET', 'd898d09a-1223-4a71-931b-8800234f87c1')\n",
    "env.setParam('LICENSEID', 2415696)\n",
    "env.start()\n",
    "\n",
    "with gp.Model(env=env) as model:\n",
    "\n",
    "    # Placing the variables in a pandas Series object will allow us to use the dot() function\n",
    "    x = pd.Series(model.addVars(num_var,vtype=GRB.BINARY))\n",
    "    amt = pd.Series(test_pool[0:num_var].loan_amnt)\n",
    "\n",
    "    model.setObjective(c.dot(x), GRB.MAXIMIZE)\n",
    "\n",
    "    model.addConstr(u.dot(x) <= num_loans)\n",
    "    model.addConstr(u.dot(x) >= 0.9*num_loans)\n",
    "    model.addConstr(amt.dot(x) <= Budget)\n",
    "\n",
    "    model.optimize()    \n",
    "    \n",
    "    # Extracting the optimal solution and optimal value\n",
    "    print('Optimal expected return:',model.ObjVal)\n",
    "    for i in range(num_var):\n",
    "        if x[i].X > 0: # most variables are zero, so we just print the non-zero variables\n",
    "            print('Choose loan',i+1) \n",
    "    \n",
    "    opt_sln_IP2 = np.zeros(num_var)\n",
    "    for i in range(num_var):\n",
    "        opt_sln_IP2[i] = x[i].X\n",
    "    \n",
    "    print(sum(opt_sln_IP2))"
   ]
  },
  {
   "cell_type": "markdown",
   "id": "c9defb56",
   "metadata": {},
   "source": [
    "#### Sanity check\n",
    "Intuitively the optimal solution $x^*$ should sequentially choose the highest return loans. We compare $x^*$ with opt_sln below."
   ]
  },
  {
   "cell_type": "code",
   "execution_count": 80,
   "id": "c7934ef9",
   "metadata": {},
   "outputs": [
    {
     "name": "stdout",
     "output_type": "stream",
     "text": [
      "number of entries that differ: 10\n"
     ]
    }
   ],
   "source": [
    "temp = np.sort(c)\n",
    "temp = temp[::-1] # in descending order\n",
    "cutoff = temp[100]\n",
    "y = np.zeros(num_var)\n",
    "for i in range(num_var):\n",
    "    if cutoff<c[i]:\n",
    "        y[i]=1\n",
    "print(\"number of entries that differ:\", int((y - opt_sln_IP2).sum()) )"
   ]
  },
  {
   "cell_type": "markdown",
   "id": "c70b5918",
   "metadata": {},
   "source": [
    "#### 5.3.3: Maximize profit with risk-return tradeoff"
   ]
  },
  {
   "cell_type": "code",
   "execution_count": 84,
   "id": "742c983e",
   "metadata": {},
   "outputs": [
    {
     "ename": "ValueError",
     "evalue": "Length of values (7396) does not match length of index (20000)",
     "output_type": "error",
     "traceback": [
      "\u001b[1;31m---------------------------------------------------------------------------\u001b[0m",
      "\u001b[1;31mValueError\u001b[0m                                Traceback (most recent call last)",
      "\u001b[1;32m~\\AppData\\Local\\Temp\\ipykernel_35040\\1969376002.py\u001b[0m in \u001b[0;36m<module>\u001b[1;34m\u001b[0m\n\u001b[0;32m      8\u001b[0m \u001b[1;33m\u001b[0m\u001b[0m\n\u001b[0;32m      9\u001b[0m \u001b[0mkmeans\u001b[0m \u001b[1;33m=\u001b[0m \u001b[0mKMeans\u001b[0m\u001b[1;33m(\u001b[0m\u001b[0mn_clusters\u001b[0m\u001b[1;33m=\u001b[0m\u001b[0mn_clusters\u001b[0m\u001b[1;33m,\u001b[0m \u001b[0mrandom_state\u001b[0m\u001b[1;33m=\u001b[0m\u001b[1;36m0\u001b[0m\u001b[1;33m)\u001b[0m\u001b[1;33m.\u001b[0m\u001b[0mfit\u001b[0m\u001b[1;33m(\u001b[0m\u001b[0mdata_dict\u001b[0m\u001b[1;33m[\u001b[0m\u001b[1;34m'X_train'\u001b[0m\u001b[1;33m]\u001b[0m\u001b[1;33m)\u001b[0m\u001b[1;33m\u001b[0m\u001b[1;33m\u001b[0m\u001b[0m\n\u001b[1;32m---> 10\u001b[1;33m \u001b[0mdata_train\u001b[0m\u001b[1;33m[\u001b[0m\u001b[1;34m'clusID'\u001b[0m\u001b[1;33m]\u001b[0m \u001b[1;33m=\u001b[0m \u001b[0mkmeans\u001b[0m\u001b[1;33m.\u001b[0m\u001b[0mpredict\u001b[0m\u001b[1;33m(\u001b[0m\u001b[0mdata_dict\u001b[0m\u001b[1;33m[\u001b[0m\u001b[1;34m'X_train'\u001b[0m\u001b[1;33m]\u001b[0m\u001b[1;33m)\u001b[0m\u001b[1;33m\u001b[0m\u001b[1;33m\u001b[0m\u001b[0m\n\u001b[0m\u001b[0;32m     11\u001b[0m \u001b[0mdata_test\u001b[0m\u001b[1;33m[\u001b[0m\u001b[1;34m'clusID'\u001b[0m\u001b[1;33m]\u001b[0m \u001b[1;33m=\u001b[0m \u001b[0mkmeans\u001b[0m\u001b[1;33m.\u001b[0m\u001b[0mpredict\u001b[0m\u001b[1;33m(\u001b[0m\u001b[0mdata_dict\u001b[0m\u001b[1;33m[\u001b[0m\u001b[1;34m'X_test'\u001b[0m\u001b[1;33m]\u001b[0m\u001b[1;33m)\u001b[0m\u001b[1;33m\u001b[0m\u001b[1;33m\u001b[0m\u001b[0m\n\u001b[0;32m     12\u001b[0m \u001b[0mdata_test\u001b[0m\u001b[1;33m[\u001b[0m\u001b[1;34m'volatility'\u001b[0m\u001b[1;33m]\u001b[0m \u001b[1;33m=\u001b[0m \u001b[1;36m0\u001b[0m\u001b[1;33m\u001b[0m\u001b[1;33m\u001b[0m\u001b[0m\n",
      "\u001b[1;32m~\\Anaconda3\\lib\\site-packages\\pandas\\core\\frame.py\u001b[0m in \u001b[0;36m__setitem__\u001b[1;34m(self, key, value)\u001b[0m\n\u001b[0;32m   3653\u001b[0m         \u001b[1;32melse\u001b[0m\u001b[1;33m:\u001b[0m\u001b[1;33m\u001b[0m\u001b[1;33m\u001b[0m\u001b[0m\n\u001b[0;32m   3654\u001b[0m             \u001b[1;31m# set column\u001b[0m\u001b[1;33m\u001b[0m\u001b[1;33m\u001b[0m\u001b[0m\n\u001b[1;32m-> 3655\u001b[1;33m             \u001b[0mself\u001b[0m\u001b[1;33m.\u001b[0m\u001b[0m_set_item\u001b[0m\u001b[1;33m(\u001b[0m\u001b[0mkey\u001b[0m\u001b[1;33m,\u001b[0m \u001b[0mvalue\u001b[0m\u001b[1;33m)\u001b[0m\u001b[1;33m\u001b[0m\u001b[1;33m\u001b[0m\u001b[0m\n\u001b[0m\u001b[0;32m   3656\u001b[0m \u001b[1;33m\u001b[0m\u001b[0m\n\u001b[0;32m   3657\u001b[0m     \u001b[1;32mdef\u001b[0m \u001b[0m_setitem_slice\u001b[0m\u001b[1;33m(\u001b[0m\u001b[0mself\u001b[0m\u001b[1;33m,\u001b[0m \u001b[0mkey\u001b[0m\u001b[1;33m:\u001b[0m \u001b[0mslice\u001b[0m\u001b[1;33m,\u001b[0m \u001b[0mvalue\u001b[0m\u001b[1;33m)\u001b[0m\u001b[1;33m:\u001b[0m\u001b[1;33m\u001b[0m\u001b[1;33m\u001b[0m\u001b[0m\n",
      "\u001b[1;32m~\\Anaconda3\\lib\\site-packages\\pandas\\core\\frame.py\u001b[0m in \u001b[0;36m_set_item\u001b[1;34m(self, key, value)\u001b[0m\n\u001b[0;32m   3830\u001b[0m         \u001b[0mensure\u001b[0m \u001b[0mhomogeneity\u001b[0m\u001b[1;33m.\u001b[0m\u001b[1;33m\u001b[0m\u001b[1;33m\u001b[0m\u001b[0m\n\u001b[0;32m   3831\u001b[0m         \"\"\"\n\u001b[1;32m-> 3832\u001b[1;33m         \u001b[0mvalue\u001b[0m \u001b[1;33m=\u001b[0m \u001b[0mself\u001b[0m\u001b[1;33m.\u001b[0m\u001b[0m_sanitize_column\u001b[0m\u001b[1;33m(\u001b[0m\u001b[0mvalue\u001b[0m\u001b[1;33m)\u001b[0m\u001b[1;33m\u001b[0m\u001b[1;33m\u001b[0m\u001b[0m\n\u001b[0m\u001b[0;32m   3833\u001b[0m \u001b[1;33m\u001b[0m\u001b[0m\n\u001b[0;32m   3834\u001b[0m         if (\n",
      "\u001b[1;32m~\\Anaconda3\\lib\\site-packages\\pandas\\core\\frame.py\u001b[0m in \u001b[0;36m_sanitize_column\u001b[1;34m(self, value)\u001b[0m\n\u001b[0;32m   4536\u001b[0m \u001b[1;33m\u001b[0m\u001b[0m\n\u001b[0;32m   4537\u001b[0m         \u001b[1;32mif\u001b[0m \u001b[0mis_list_like\u001b[0m\u001b[1;33m(\u001b[0m\u001b[0mvalue\u001b[0m\u001b[1;33m)\u001b[0m\u001b[1;33m:\u001b[0m\u001b[1;33m\u001b[0m\u001b[1;33m\u001b[0m\u001b[0m\n\u001b[1;32m-> 4538\u001b[1;33m             \u001b[0mcom\u001b[0m\u001b[1;33m.\u001b[0m\u001b[0mrequire_length_match\u001b[0m\u001b[1;33m(\u001b[0m\u001b[0mvalue\u001b[0m\u001b[1;33m,\u001b[0m \u001b[0mself\u001b[0m\u001b[1;33m.\u001b[0m\u001b[0mindex\u001b[0m\u001b[1;33m)\u001b[0m\u001b[1;33m\u001b[0m\u001b[1;33m\u001b[0m\u001b[0m\n\u001b[0m\u001b[0;32m   4539\u001b[0m         \u001b[1;32mreturn\u001b[0m \u001b[0msanitize_array\u001b[0m\u001b[1;33m(\u001b[0m\u001b[0mvalue\u001b[0m\u001b[1;33m,\u001b[0m \u001b[0mself\u001b[0m\u001b[1;33m.\u001b[0m\u001b[0mindex\u001b[0m\u001b[1;33m,\u001b[0m \u001b[0mcopy\u001b[0m\u001b[1;33m=\u001b[0m\u001b[1;32mTrue\u001b[0m\u001b[1;33m,\u001b[0m \u001b[0mallow_2d\u001b[0m\u001b[1;33m=\u001b[0m\u001b[1;32mTrue\u001b[0m\u001b[1;33m)\u001b[0m\u001b[1;33m\u001b[0m\u001b[1;33m\u001b[0m\u001b[0m\n\u001b[0;32m   4540\u001b[0m \u001b[1;33m\u001b[0m\u001b[0m\n",
      "\u001b[1;32m~\\Anaconda3\\lib\\site-packages\\pandas\\core\\common.py\u001b[0m in \u001b[0;36mrequire_length_match\u001b[1;34m(data, index)\u001b[0m\n\u001b[0;32m    555\u001b[0m     \"\"\"\n\u001b[0;32m    556\u001b[0m     \u001b[1;32mif\u001b[0m \u001b[0mlen\u001b[0m\u001b[1;33m(\u001b[0m\u001b[0mdata\u001b[0m\u001b[1;33m)\u001b[0m \u001b[1;33m!=\u001b[0m \u001b[0mlen\u001b[0m\u001b[1;33m(\u001b[0m\u001b[0mindex\u001b[0m\u001b[1;33m)\u001b[0m\u001b[1;33m:\u001b[0m\u001b[1;33m\u001b[0m\u001b[1;33m\u001b[0m\u001b[0m\n\u001b[1;32m--> 557\u001b[1;33m         raise ValueError(\n\u001b[0m\u001b[0;32m    558\u001b[0m             \u001b[1;34m\"Length of values \"\u001b[0m\u001b[1;33m\u001b[0m\u001b[1;33m\u001b[0m\u001b[0m\n\u001b[0;32m    559\u001b[0m             \u001b[1;34mf\"({len(data)}) \"\u001b[0m\u001b[1;33m\u001b[0m\u001b[1;33m\u001b[0m\u001b[0m\n",
      "\u001b[1;31mValueError\u001b[0m: Length of values (7396) does not match length of index (20000)"
     ]
    }
   ],
   "source": [
    "## First we need to train a clustering model to estimate the variance of return\n",
    "n_clusters = 75\n",
    "train_set = data_dict['train_set']\n",
    "data_train = final_data.loc[train_set,:]\n",
    "\n",
    "# Create a dataframe for testing, including the score\n",
    "data_test = two_stage[ret_col]['test data']\n",
    "\n",
    "kmeans = KMeans(n_clusters=n_clusters, random_state=0).fit(data_dict['X_train'])\n",
    "data_train['clusID'] = kmeans.predict(data_dict['X_train'])\n",
    "data_test['clusID'] = kmeans.predict(data_dict['X_test'])\n",
    "data_test['volatility'] = 0\n",
    "\n",
    "for idx in range(n_clusters):\n",
    "    std_clus = np.std(data_train[ret_col][data_train.clusID == idx])\n",
    "    data_test.volatility[data_test.clusID == idx] = std_clus"
   ]
  },
  {
   "cell_type": "code",
   "execution_count": 87,
   "id": "88b40a66",
   "metadata": {},
   "outputs": [
    {
     "ename": "AttributeError",
     "evalue": "'DataFrame' object has no attribute 'volatility'",
     "output_type": "error",
     "traceback": [
      "\u001b[1;31m---------------------------------------------------------------------------\u001b[0m",
      "\u001b[1;31mAttributeError\u001b[0m                            Traceback (most recent call last)",
      "\u001b[1;32m~\\AppData\\Local\\Temp\\ipykernel_35040\\1701226953.py\u001b[0m in \u001b[0;36m<module>\u001b[1;34m\u001b[0m\n\u001b[0;32m     11\u001b[0m \u001b[1;32mfor\u001b[0m \u001b[0mi\u001b[0m \u001b[1;32min\u001b[0m \u001b[0mrange\u001b[0m\u001b[1;33m(\u001b[0m\u001b[0mnum_var\u001b[0m\u001b[1;33m)\u001b[0m\u001b[1;33m:\u001b[0m\u001b[1;33m\u001b[0m\u001b[1;33m\u001b[0m\u001b[0m\n\u001b[0;32m     12\u001b[0m     c[i] = (test_pool['predicted_return_'+  ret_col].iloc[i] -\n\u001b[1;32m---> 13\u001b[1;33m             beta * test_pool.volatility.iloc[i]) * test_pool.loan_amnt.iloc[i]\n\u001b[0m\u001b[0;32m     14\u001b[0m \u001b[1;33m\u001b[0m\u001b[0m\n\u001b[0;32m     15\u001b[0m \u001b[1;31m## then define vector of all ones\u001b[0m\u001b[1;33m\u001b[0m\u001b[1;33m\u001b[0m\u001b[0m\n",
      "\u001b[1;32m~\\Anaconda3\\lib\\site-packages\\pandas\\core\\generic.py\u001b[0m in \u001b[0;36m__getattr__\u001b[1;34m(self, name)\u001b[0m\n\u001b[0;32m   5573\u001b[0m         ):\n\u001b[0;32m   5574\u001b[0m             \u001b[1;32mreturn\u001b[0m \u001b[0mself\u001b[0m\u001b[1;33m[\u001b[0m\u001b[0mname\u001b[0m\u001b[1;33m]\u001b[0m\u001b[1;33m\u001b[0m\u001b[1;33m\u001b[0m\u001b[0m\n\u001b[1;32m-> 5575\u001b[1;33m         \u001b[1;32mreturn\u001b[0m \u001b[0mobject\u001b[0m\u001b[1;33m.\u001b[0m\u001b[0m__getattribute__\u001b[0m\u001b[1;33m(\u001b[0m\u001b[0mself\u001b[0m\u001b[1;33m,\u001b[0m \u001b[0mname\u001b[0m\u001b[1;33m)\u001b[0m\u001b[1;33m\u001b[0m\u001b[1;33m\u001b[0m\u001b[0m\n\u001b[0m\u001b[0;32m   5576\u001b[0m \u001b[1;33m\u001b[0m\u001b[0m\n\u001b[0;32m   5577\u001b[0m     \u001b[1;32mdef\u001b[0m \u001b[0m__setattr__\u001b[0m\u001b[1;33m(\u001b[0m\u001b[0mself\u001b[0m\u001b[1;33m,\u001b[0m \u001b[0mname\u001b[0m\u001b[1;33m:\u001b[0m \u001b[0mstr\u001b[0m\u001b[1;33m,\u001b[0m \u001b[0mvalue\u001b[0m\u001b[1;33m)\u001b[0m \u001b[1;33m->\u001b[0m \u001b[1;32mNone\u001b[0m\u001b[1;33m:\u001b[0m\u001b[1;33m\u001b[0m\u001b[1;33m\u001b[0m\u001b[0m\n",
      "\u001b[1;31mAttributeError\u001b[0m: 'DataFrame' object has no attribute 'volatility'"
     ]
    }
   ],
   "source": [
    "## Specify the parameters of the optimization model, beta: penalty factor on the risk\n",
    "beta = 0.9\n",
    "ret_col = 'ret_INTc'\n",
    "test_pool = two_stage[ret_col]['test data']\n",
    "num_var = test_pool.shape[0]\n",
    "num_loans = 100\n",
    "Budget = 1000000\n",
    "\n",
    "## define objective\n",
    "c = np.zeros(num_var) # cost vector\n",
    "for i in range(num_var):\n",
    "    c[i] = (test_pool['predicted_return_'+  ret_col].iloc[i] -\n",
    "            beta * test_pool.volatility.iloc[i]) * test_pool.loan_amnt.iloc[i]\n",
    "    \n",
    "## then define vector of all ones\n",
    "u = np.zeros(num_var) # cost vector\n",
    "for i in range(num_var):\n",
    "    u[i] = 1\n",
    "    \n",
    "env = gp.Env(empty=True)\n",
    "env.setParam('WLSACCESSID', '9f11ef5f-f6b2-424f-b878-41f86258c5da')\n",
    "env.setParam('WLSSECRET', 'd898d09a-1223-4a71-931b-8800234f87c1')\n",
    "env.setParam('LICENSEID', 2415696)\n",
    "env.start()\n",
    "\n",
    "with gp.Model(env=env) as model:\n",
    "\n",
    "    # Placing the variables in a pandas Series object will allow us to use the dot() function\n",
    "    x = pd.Series(model.addVars(num_var,vtype=GRB.BINARY))\n",
    "    amt = pd.Series(test_pool[0:num_var].loan_amnt)\n",
    "\n",
    "    model.setObjective(c.dot(x), GRB.MAXIMIZE)\n",
    "\n",
    "    model.addConstr(u.dot(x) <= num_loans)\n",
    "    model.addConstr(u.dot(x) >= 0.9*num_loans)\n",
    "    model.addConstr(amt.dot(x) <= Budget)\n",
    "\n",
    "    model.optimize()    \n",
    "    \n",
    "    # Extracting the optimal solution and optimal value\n",
    "    print('Optimal expected return:',model.ObjVal)\n",
    "    for i in range(num_var):\n",
    "        if x[i].X > 0: # most variables are zero, so we just print the non-zero variables\n",
    "            print('Choose loan',i+1)  \n",
    "    \n",
    "    opt_sln_IP3 = np.zeros(num_var)\n",
    "    for i in range(num_var):\n",
    "        opt_sln_IP3[i] = x[i].X\n",
    "    \n",
    "    print(sum(opt_sln_IP3))"
   ]
  },
  {
   "cell_type": "markdown",
   "id": "62800d4e",
   "metadata": {},
   "source": [
    "#### Loop to run for multiple Cases:"
   ]
  },
  {
   "cell_type": "code",
   "execution_count": 89,
   "id": "ace1f6c0",
   "metadata": {},
   "outputs": [
    {
     "ename": "ValueError",
     "evalue": "Length of values (7396) does not match length of index (20000)",
     "output_type": "error",
     "traceback": [
      "\u001b[1;31m---------------------------------------------------------------------------\u001b[0m",
      "\u001b[1;31mValueError\u001b[0m                                Traceback (most recent call last)",
      "\u001b[1;32m~\\AppData\\Local\\Temp\\ipykernel_35040\\1788002270.py\u001b[0m in \u001b[0;36m<module>\u001b[1;34m\u001b[0m\n\u001b[0;32m     22\u001b[0m             \u001b[1;31m# Clustering\u001b[0m\u001b[1;33m\u001b[0m\u001b[1;33m\u001b[0m\u001b[0m\n\u001b[0;32m     23\u001b[0m             \u001b[0mkmeans\u001b[0m \u001b[1;33m=\u001b[0m \u001b[0mKMeans\u001b[0m\u001b[1;33m(\u001b[0m\u001b[0mn_clusters\u001b[0m\u001b[1;33m=\u001b[0m\u001b[0mn_clusters\u001b[0m\u001b[1;33m,\u001b[0m \u001b[0mrandom_state\u001b[0m\u001b[1;33m=\u001b[0m\u001b[1;36m0\u001b[0m\u001b[1;33m)\u001b[0m\u001b[1;33m.\u001b[0m\u001b[0mfit\u001b[0m\u001b[1;33m(\u001b[0m\u001b[0mdata_dict\u001b[0m\u001b[1;33m[\u001b[0m\u001b[1;34m'X_train'\u001b[0m\u001b[1;33m]\u001b[0m\u001b[1;33m)\u001b[0m\u001b[1;33m\u001b[0m\u001b[1;33m\u001b[0m\u001b[0m\n\u001b[1;32m---> 24\u001b[1;33m             \u001b[0mdata_train\u001b[0m\u001b[1;33m[\u001b[0m\u001b[1;34m'clusID'\u001b[0m\u001b[1;33m]\u001b[0m \u001b[1;33m=\u001b[0m \u001b[0mkmeans\u001b[0m\u001b[1;33m.\u001b[0m\u001b[0mpredict\u001b[0m\u001b[1;33m(\u001b[0m\u001b[0mdata_dict\u001b[0m\u001b[1;33m[\u001b[0m\u001b[1;34m'X_train'\u001b[0m\u001b[1;33m]\u001b[0m\u001b[1;33m)\u001b[0m\u001b[1;33m\u001b[0m\u001b[1;33m\u001b[0m\u001b[0m\n\u001b[0m\u001b[0;32m     25\u001b[0m             \u001b[0mdata_test\u001b[0m\u001b[1;33m[\u001b[0m\u001b[1;34m'clusID'\u001b[0m\u001b[1;33m]\u001b[0m \u001b[1;33m=\u001b[0m \u001b[0mkmeans\u001b[0m\u001b[1;33m.\u001b[0m\u001b[0mpredict\u001b[0m\u001b[1;33m(\u001b[0m\u001b[0mdata_dict\u001b[0m\u001b[1;33m[\u001b[0m\u001b[1;34m'X_test'\u001b[0m\u001b[1;33m]\u001b[0m\u001b[1;33m)\u001b[0m\u001b[1;33m\u001b[0m\u001b[1;33m\u001b[0m\u001b[0m\n\u001b[0;32m     26\u001b[0m             \u001b[0mdata_test\u001b[0m\u001b[1;33m[\u001b[0m\u001b[1;34m'volatility'\u001b[0m\u001b[1;33m]\u001b[0m \u001b[1;33m=\u001b[0m \u001b[1;36m0\u001b[0m\u001b[1;33m\u001b[0m\u001b[1;33m\u001b[0m\u001b[0m\n",
      "\u001b[1;32m~\\Anaconda3\\lib\\site-packages\\pandas\\core\\frame.py\u001b[0m in \u001b[0;36m__setitem__\u001b[1;34m(self, key, value)\u001b[0m\n\u001b[0;32m   3653\u001b[0m         \u001b[1;32melse\u001b[0m\u001b[1;33m:\u001b[0m\u001b[1;33m\u001b[0m\u001b[1;33m\u001b[0m\u001b[0m\n\u001b[0;32m   3654\u001b[0m             \u001b[1;31m# set column\u001b[0m\u001b[1;33m\u001b[0m\u001b[1;33m\u001b[0m\u001b[0m\n\u001b[1;32m-> 3655\u001b[1;33m             \u001b[0mself\u001b[0m\u001b[1;33m.\u001b[0m\u001b[0m_set_item\u001b[0m\u001b[1;33m(\u001b[0m\u001b[0mkey\u001b[0m\u001b[1;33m,\u001b[0m \u001b[0mvalue\u001b[0m\u001b[1;33m)\u001b[0m\u001b[1;33m\u001b[0m\u001b[1;33m\u001b[0m\u001b[0m\n\u001b[0m\u001b[0;32m   3656\u001b[0m \u001b[1;33m\u001b[0m\u001b[0m\n\u001b[0;32m   3657\u001b[0m     \u001b[1;32mdef\u001b[0m \u001b[0m_setitem_slice\u001b[0m\u001b[1;33m(\u001b[0m\u001b[0mself\u001b[0m\u001b[1;33m,\u001b[0m \u001b[0mkey\u001b[0m\u001b[1;33m:\u001b[0m \u001b[0mslice\u001b[0m\u001b[1;33m,\u001b[0m \u001b[0mvalue\u001b[0m\u001b[1;33m)\u001b[0m\u001b[1;33m:\u001b[0m\u001b[1;33m\u001b[0m\u001b[1;33m\u001b[0m\u001b[0m\n",
      "\u001b[1;32m~\\Anaconda3\\lib\\site-packages\\pandas\\core\\frame.py\u001b[0m in \u001b[0;36m_set_item\u001b[1;34m(self, key, value)\u001b[0m\n\u001b[0;32m   3830\u001b[0m         \u001b[0mensure\u001b[0m \u001b[0mhomogeneity\u001b[0m\u001b[1;33m.\u001b[0m\u001b[1;33m\u001b[0m\u001b[1;33m\u001b[0m\u001b[0m\n\u001b[0;32m   3831\u001b[0m         \"\"\"\n\u001b[1;32m-> 3832\u001b[1;33m         \u001b[0mvalue\u001b[0m \u001b[1;33m=\u001b[0m \u001b[0mself\u001b[0m\u001b[1;33m.\u001b[0m\u001b[0m_sanitize_column\u001b[0m\u001b[1;33m(\u001b[0m\u001b[0mvalue\u001b[0m\u001b[1;33m)\u001b[0m\u001b[1;33m\u001b[0m\u001b[1;33m\u001b[0m\u001b[0m\n\u001b[0m\u001b[0;32m   3833\u001b[0m \u001b[1;33m\u001b[0m\u001b[0m\n\u001b[0;32m   3834\u001b[0m         if (\n",
      "\u001b[1;32m~\\Anaconda3\\lib\\site-packages\\pandas\\core\\frame.py\u001b[0m in \u001b[0;36m_sanitize_column\u001b[1;34m(self, value)\u001b[0m\n\u001b[0;32m   4536\u001b[0m \u001b[1;33m\u001b[0m\u001b[0m\n\u001b[0;32m   4537\u001b[0m         \u001b[1;32mif\u001b[0m \u001b[0mis_list_like\u001b[0m\u001b[1;33m(\u001b[0m\u001b[0mvalue\u001b[0m\u001b[1;33m)\u001b[0m\u001b[1;33m:\u001b[0m\u001b[1;33m\u001b[0m\u001b[1;33m\u001b[0m\u001b[0m\n\u001b[1;32m-> 4538\u001b[1;33m             \u001b[0mcom\u001b[0m\u001b[1;33m.\u001b[0m\u001b[0mrequire_length_match\u001b[0m\u001b[1;33m(\u001b[0m\u001b[0mvalue\u001b[0m\u001b[1;33m,\u001b[0m \u001b[0mself\u001b[0m\u001b[1;33m.\u001b[0m\u001b[0mindex\u001b[0m\u001b[1;33m)\u001b[0m\u001b[1;33m\u001b[0m\u001b[1;33m\u001b[0m\u001b[0m\n\u001b[0m\u001b[0;32m   4539\u001b[0m         \u001b[1;32mreturn\u001b[0m \u001b[0msanitize_array\u001b[0m\u001b[1;33m(\u001b[0m\u001b[0mvalue\u001b[0m\u001b[1;33m,\u001b[0m \u001b[0mself\u001b[0m\u001b[1;33m.\u001b[0m\u001b[0mindex\u001b[0m\u001b[1;33m,\u001b[0m \u001b[0mcopy\u001b[0m\u001b[1;33m=\u001b[0m\u001b[1;32mTrue\u001b[0m\u001b[1;33m,\u001b[0m \u001b[0mallow_2d\u001b[0m\u001b[1;33m=\u001b[0m\u001b[1;32mTrue\u001b[0m\u001b[1;33m)\u001b[0m\u001b[1;33m\u001b[0m\u001b[1;33m\u001b[0m\u001b[0m\n\u001b[0;32m   4540\u001b[0m \u001b[1;33m\u001b[0m\u001b[0m\n",
      "\u001b[1;32m~\\Anaconda3\\lib\\site-packages\\pandas\\core\\common.py\u001b[0m in \u001b[0;36mrequire_length_match\u001b[1;34m(data, index)\u001b[0m\n\u001b[0;32m    555\u001b[0m     \"\"\"\n\u001b[0;32m    556\u001b[0m     \u001b[1;32mif\u001b[0m \u001b[0mlen\u001b[0m\u001b[1;33m(\u001b[0m\u001b[0mdata\u001b[0m\u001b[1;33m)\u001b[0m \u001b[1;33m!=\u001b[0m \u001b[0mlen\u001b[0m\u001b[1;33m(\u001b[0m\u001b[0mindex\u001b[0m\u001b[1;33m)\u001b[0m\u001b[1;33m:\u001b[0m\u001b[1;33m\u001b[0m\u001b[1;33m\u001b[0m\u001b[0m\n\u001b[1;32m--> 557\u001b[1;33m         raise ValueError(\n\u001b[0m\u001b[0;32m    558\u001b[0m             \u001b[1;34m\"Length of values \"\u001b[0m\u001b[1;33m\u001b[0m\u001b[1;33m\u001b[0m\u001b[0m\n\u001b[0;32m    559\u001b[0m             \u001b[1;34mf\"({len(data)}) \"\u001b[0m\u001b[1;33m\u001b[0m\u001b[1;33m\u001b[0m\u001b[0m\n",
      "\u001b[1;31mValueError\u001b[0m: Length of values (7396) does not match length of index (20000)"
     ]
    }
   ],
   "source": [
    "# Define the possible values for the parameters\n",
    "cluster_nums = [20, 75, 50, 100, 200]\n",
    "loan_nums = [100, 200]\n",
    "betas = [0, 0.2, 0.4, 0.6, 0.75, 0.8, 0.9]\n",
    "\n",
    "# Initialize an empty dataframe to store the results\n",
    "results_df = pd.DataFrame(columns=['Loan_Num', 'Cluster_Num', 'Beta', 'Return', 'Return %', 'Num_Loans_Kept', 'Loans_Kept'])\n",
    "\n",
    "train_set = data_dict['train_set']\n",
    "data_train = final_data.loc[train_set,:]\n",
    "data_test = two_stage[ret_col]['test data']\n",
    "Budget = 1000000\n",
    "\n",
    "for cluster_num in cluster_nums:\n",
    "    for loan_num in loan_nums:\n",
    "        for beta in betas:\n",
    "            \n",
    "            # Set the parameters\n",
    "            n_clusters = cluster_num\n",
    "            num_loans = loan_num\n",
    "            \n",
    "            # Clustering\n",
    "            kmeans = KMeans(n_clusters=n_clusters, random_state=0).fit(data_dict['X_train'])\n",
    "            data_train['clusID'] = kmeans.predict(data_dict['X_train'])\n",
    "            data_test['clusID'] = kmeans.predict(data_dict['X_test'])\n",
    "            data_test['volatility'] = 0\n",
    "            \n",
    "            for idx in range(n_clusters):\n",
    "                std_clus = np.std(data_train[ret_col][data_train.clusID == idx])\n",
    "                data_test.volatility[data_test.clusID == idx] = std_clus\n",
    "            \n",
    "            # Optimization\n",
    "            ret_col = 'ret_INTc'\n",
    "            test_pool = two_stage[ret_col]['test data']\n",
    "            num_var = test_pool.shape[0]\n",
    "            \n",
    "            c = np.zeros(num_var)\n",
    "            for i in range(num_var):\n",
    "                c[i] = (test_pool['predicted_return_'+ ret_col].iloc[i] -\n",
    "                        beta * test_pool.volatility.iloc[i]) * test_pool.loan_amnt.iloc[i]\n",
    "                \n",
    "            u = np.zeros(num_var)\n",
    "            for i in range(num_var):\n",
    "                u[i] = 1\n",
    "\n",
    "            env = gp.Env(empty=True)\n",
    "            env.setParam('WLSACCESSID', '9f11ef5f-f6b2-424f-b878-41f86258c5da')\n",
    "            env.setParam('WLSSECRET', 'd898d09a-1223-4a71-931b-8800234f87c1')\n",
    "            env.setParam('LICENSEID', 2415696)\n",
    "            env.start()\n",
    "\n",
    "            with gp.Model(env=env) as model:\n",
    "                x = pd.Series(model.addVars(num_var,vtype=GRB.BINARY))\n",
    "                amt = pd.Series(test_pool[0:num_var].loan_amnt)\n",
    "                model.setObjective(c.dot(x), GRB.MAXIMIZE)\n",
    "                model.addConstr(u.dot(x) <= num_loans)\n",
    "                model.addConstr(u.dot(x) >= 0.9*num_loans)\n",
    "                model.addConstr(amt.dot(x) <= Budget)\n",
    "                model.optimize()    \n",
    "\n",
    "                # Extract the optimal value\n",
    "                optimal_return = model.ObjVal\n",
    "                return_percentage = (optimal_return / Budget) * 100\n",
    "\n",
    "                # Extract the number of loans kept\n",
    "                num_loans_kept = sum(x[i].X for i in range(num_var))\n",
    "                \n",
    "                # Extract the list of loans kept\n",
    "                loans_kept = [i+1 for i in range(num_var) if x[i].X > 0]\n",
    "\n",
    "                # Append the results to the dataframe\n",
    "                results_df = results_df.append({\n",
    "                    'Loan_Num': loan_num,\n",
    "                    'Cluster_Num': cluster_num,\n",
    "                    'Beta': beta,\n",
    "                    'Return': optimal_return,\n",
    "                    'Return %': return_percentage,\n",
    "                    'Num_Loans_Kept': num_loans_kept,\n",
    "                    'Loans_Kept': loans_kept\n",
    "                }, ignore_index=True)\n",
    "\n",
    "# Show the results\n",
    "print(results_df)"
   ]
  },
  {
   "cell_type": "code",
   "execution_count": null,
   "id": "b41fc734",
   "metadata": {},
   "outputs": [],
   "source": [
    "sorted_results_df = results_df.sort_values(by='Return %', ascending=False)\n",
    "sorted_results_df.head(30)"
   ]
  },
  {
   "cell_type": "code",
   "execution_count": null,
   "id": "5c4501cf",
   "metadata": {},
   "outputs": [],
   "source": [
    "# Filter the dataframe for loan_nums = 100\n",
    "filtered_df = sorted_results_df[sorted_results_df['Loan_Num'] == 100]\n",
    "\n",
    "# Cluster numbers of interest\n",
    "cluster_nums = [20, 50, 75, 100, 200]\n",
    "\n",
    "# Plotting\n",
    "plt.figure(figsize=(10, 6))\n",
    "\n",
    "for beta in [0, 0.2, 0.4, 0.6, 0.75, 0.8, 0.9]:\n",
    "    subset = filtered_df[filtered_df['Beta'] == beta]\n",
    "    subset = subset[subset['Cluster_Num'].isin(cluster_nums)]\n",
    "    plt.plot(subset['Cluster_Num'], subset['Return %'], '-o', label=f'Beta={beta}')\n",
    "\n",
    "plt.title('Return % vs. Number of Clusters for Loan_Num = 100')\n",
    "plt.xlabel('Number of Clusters')\n",
    "plt.ylabel('Return %')\n",
    "plt.legend()\n",
    "plt.grid(True)\n",
    "plt.show()"
   ]
  },
  {
   "cell_type": "code",
   "execution_count": null,
   "id": "ee817352",
   "metadata": {},
   "outputs": [],
   "source": [
    "# Define the betas and clusters\n",
    "betas = [0, 0.2, 0.4, 0.6, 0.75, 0.8, 0.9]\n",
    "cluster_nums = [20, 50, 75, 100, 200]\n",
    "\n",
    "# Plotting\n",
    "plt.figure(figsize=(10, 6))\n",
    "\n",
    "for cluster in cluster_nums:\n",
    "    subset = filtered_df[filtered_df['Cluster_Num'] == cluster]\n",
    "    plt.plot(subset['Beta'], subset['Return %'], '-o', label=f'Cluster={cluster}')\n",
    "\n",
    "plt.title('Return % vs. Beta for Loan_Num = 100')\n",
    "plt.xlabel('Beta')\n",
    "plt.ylabel('Return %')\n",
    "plt.xticks(betas)  # Ensure all betas are shown on the x-axis\n",
    "plt.legend()\n",
    "plt.grid(True)\n",
    "plt.show()"
   ]
  },
  {
   "cell_type": "code",
   "execution_count": null,
   "id": "e0ea835e",
   "metadata": {},
   "outputs": [],
   "source": [
    "# Filter the dataframe for beta = 0.75\n",
    "filtered_df = sorted_results_df[sorted_results_df['Beta'] == 0.75]\n",
    "\n",
    "# Define the loan numbers and clusters\n",
    "loan_nums = [50, 100, 200]\n",
    "cluster_nums = [20, 50, 75, 100, 200]\n",
    "\n",
    "# Plotting\n",
    "plt.figure(figsize=(10, 6))\n",
    "\n",
    "for loan_num in loan_nums:\n",
    "    subset = filtered_df[filtered_df['Loan_Num'] == loan_num]\n",
    "    plt.plot(subset['Cluster_Num'], subset['Return %'], '-o', label=f'Loan_Num={loan_num}')\n",
    "\n",
    "plt.title('Return % vs. Cluster Number for Beta = 0.75')\n",
    "plt.xlabel('Number of Clusters')\n",
    "plt.ylabel('Return %')\n",
    "plt.xticks(cluster_nums)  # Ensure all cluster numbers are shown on the x-axis\n",
    "plt.legend()\n",
    "plt.grid(True)\n",
    "plt.show()"
   ]
  },
  {
   "cell_type": "markdown",
   "id": "47d1dcbd",
   "metadata": {},
   "source": [
    "#### 5.3.4 Visualization: violin plots for the expected returns of the above strategies"
   ]
  },
  {
   "cell_type": "code",
   "execution_count": null,
   "id": "1b9563b2",
   "metadata": {},
   "outputs": [],
   "source": [
    "test_pool['label'] = ['test_pool']*test_pool.shape[0]\n",
    "\n",
    "# now we create a df for OPT of IP2\n",
    "test_pool['chosen_IP2'] = opt_sln_IP2\n",
    "df2 = test_pool[test_pool.chosen_IP2 == 1].copy() # df containing only rows chosen by IP2\n",
    "test_pool = test_pool.drop(columns=['chosen_IP2']) # drop this columns in order to append\n",
    "df2 = df2.drop(columns=['chosen_IP2']) # drop this columns in order to append\n",
    "df2['label'] = ['IP2']*df2.shape[0]\n",
    "\n",
    "# create a df for OPT of IP3\n",
    "test_pool['chosen_IP3'] = opt_sln_IP3\n",
    "df3 = test_pool[test_pool.chosen_IP3 == 1].copy() # df containing only rows chosen by IP3\n",
    "test_pool = test_pool.drop(columns=['chosen_IP3']) # drop this columns in order to append\n",
    "df3 = df3.drop(columns=['chosen_IP3']) # drop this columns in order to append\n",
    "df3['label'] = ['IP3']*df3.shape[0]\n",
    "\n",
    "# concatenate the dataframes\n",
    "df_big = test_pool.append([df2,df3])"
   ]
  },
  {
   "cell_type": "code",
   "execution_count": null,
   "id": "c532146b",
   "metadata": {},
   "outputs": [],
   "source": [
    "ax = sns.violinplot(y=df_big[\"predicted_return_ret_INTc\"], x=df_big[\"label\"], \n",
    "                    data=df_big, order=['test_pool','IP2','IP3'])\n",
    "ax.set_title(\"Ditribution of expected return of the selected loans\")\n",
    "ax.set_xlabel(\"Subset of loans\")\n",
    "ax.set_ylabel(\"ret_INTc\")"
   ]
  },
  {
   "cell_type": "markdown",
   "id": "447ab5b0",
   "metadata": {},
   "source": [
    "### 5.4. Sensitivity analysis of the optimization solution by varying the budgets and the number of loans invested in\n",
    "\n",
    "Build a trade-off curve between the beta value and the optimization objective (expected return). For this we loop through various values of beta from 0.1 through some large number in steps of 0.1 say. Then we create a plot of different pairs of means and stdevns of the expected return of the portfolios as you vary beta. The two axes will then be mean (return) and stdevn (risk)."
   ]
  },
  {
   "cell_type": "code",
   "execution_count": null,
   "id": "9bb5ed5c",
   "metadata": {},
   "outputs": [],
   "source": [
    "ret_col = 'ret_INTc'\n",
    "num_var = test_pool.shape[0]\n",
    "Budget = 100000\n",
    "beta_min = 0.1\n",
    "step = 0.15\n",
    "num_beta = 10\n",
    "u = np.zeros(num_var) # units vector\n",
    "\n",
    "for i in range(num_var):\n",
    "    u[i] = 1\n",
    "\n",
    "amt = pd.Series(test_pool[0:num_var].loan_amnt)\n",
    "\n",
    "table = np.zeros([num_beta,2]) # store the return and risk\n",
    "\n",
    "env = gp.Env(empty=True)\n",
    "env.setParam('WLSACCESSID', '9f11ef5f-f6b2-424f-b878-41f86258c5da')\n",
    "env.setParam('WLSSECRET', 'd898d09a-1223-4a71-931b-8800234f87c1')\n",
    "env.setParam('LICENSEID', 2415696)\n",
    "env.start()\n",
    "\n",
    "for j in range(num_beta):\n",
    "    beta = beta_min + j*step\n",
    "    \n",
    "    c = np.zeros(num_var) # cost vector\n",
    "    for i in range(num_var):\n",
    "        c[i] = (test_pool['predicted_return_'+  ret_col].iloc[i] - beta * test_pool.volatility.iloc[i]) * test_pool.loan_amnt.iloc[i]\n",
    "    \n",
    "    with gp.Model(env=env) as model:\n",
    "\n",
    "        x = pd.Series(model.addVars(num_var,vtype=GRB.BINARY))\n",
    "\n",
    "        model.setObjective(c.dot(x), GRB.MAXIMIZE)\n",
    "    \n",
    "        model.addConstr(u.dot(x) <= num_loans)\n",
    "        model.addConstr(u.dot(x) >= 0.9*num_loans)\n",
    "        model.addConstr(amt.dot(x) <= Budget)\n",
    "\n",
    "        model.optimize() \n",
    "    \n",
    "        opt = np.zeros(num_var)\n",
    "        for k in range(num_var):\n",
    "            opt[k] = x[k].X\n",
    "        test_pool['chosen'] = opt\n",
    "        df = test_pool[test_pool.chosen == 1]\n",
    "        table[j,0] = df['predicted_return_'+  ret_col].sum()\n",
    "        table[j,1] = df.volatility.sum()"
   ]
  },
  {
   "cell_type": "code",
   "execution_count": null,
   "id": "ee0a9efc",
   "metadata": {},
   "outputs": [],
   "source": [
    "plt.plot(table[:,0],table[:,1])\n",
    "plt.xlabel(\"return\")\n",
    "plt.ylabel(\"risk\")"
   ]
  },
  {
   "cell_type": "code",
   "execution_count": null,
   "id": "35300b54",
   "metadata": {},
   "outputs": [],
   "source": [
    "def optimize_portfolio(Budget, ret_col, data, data_dict, two_stage, n_clusters=20, beta_min=0.1, step=0.1, num_loans=100, num_beta=10):\n",
    "    train_set = data_dict['train_set']\n",
    "    data_train = data.loc[train_set, :]\n",
    "    data_test = two_stage[ret_col]['test data']\n",
    "\n",
    "    kmeans = KMeans(n_clusters=n_clusters, random_state=0).fit(data_dict['X_train'])\n",
    "    data_train['clusID'] = kmeans.predict(data_dict['X_train'])\n",
    "    data_test['clusID'] = kmeans.predict(data_dict['X_test'])\n",
    "    data_test['volatility'] = 0\n",
    "\n",
    "    for idx in range(n_clusters):\n",
    "        std_clus = np.std(data_train[ret_col][data_train.clusID == idx])\n",
    "        data_test.volatility[data_test.clusID == idx] = std_clus\n",
    "\n",
    "    num_var = data_test.shape[0]\n",
    "    u = np.ones(num_var) \n",
    "    amt = pd.Series(data_test[0:num_var].loan_amnt)\n",
    "\n",
    "    table = np.zeros([num_beta,2])  # store the return and risk\n",
    "    env = gp.Env(empty=True)\n",
    "    env.setParam('WLSACCESSID', '9f11ef5f-f6b2-424f-b878-41f86258c5da')\n",
    "    env.setParam('WLSSECRET', 'd898d09a-1223-4a71-931b-8800234f87c1')\n",
    "    env.setParam('LICENSEID', 2415696)\n",
    "    env.start()\n",
    "\n",
    "    for j in range(num_beta):\n",
    "        beta = beta_min + j*step\n",
    "        c = np.array([(data_test['predicted_return_'+  ret_col].iloc[i] - beta * data_test.volatility.iloc[i]) * data_test.loan_amnt.iloc[i] for i in range(num_var)])\n",
    "        \n",
    "        with gp.Model(env=env) as model:\n",
    "            x = pd.Series(model.addVars(num_var, vtype=GRB.BINARY))\n",
    "            model.setObjective(c.dot(x), GRB.MAXIMIZE)\n",
    "            model.addConstr(u.dot(x) <= num_loans)\n",
    "            model.addConstr(u.dot(x) >= 0.9*num_loans)\n",
    "            model.addConstr(amt.dot(x) <= Budget)\n",
    "            model.optimize() \n",
    "\n",
    "            opt = [x[i].X for i in range(num_var)]\n",
    "            data_test['chosen'] = opt\n",
    "            df = data_test[data_test.chosen == 1]\n",
    "            table[j,0] = df['predicted_return_'+  ret_col].sum()\n",
    "            table[j,1] = df.volatility.sum()\n",
    "\n",
    "    return table\n",
    "\n",
    "# Running the function with different combinations of Budget and ret_col\n",
    "Budgets = [1000000, 200000000]\n",
    "ret_cols = ['ret_INTc', 'ret_PESS', 'ret_OPT']\n",
    "\n",
    "plt.figure(figsize=(10, 6))\n",
    "\n",
    "for Budget in Budgets:\n",
    "    for ret_col in ret_cols:\n",
    "        table = optimize_portfolio(Budget, ret_col, data, data_dict, two_stage)\n",
    "        plt.plot(table[:,0], table[:,1], label=f'Budget: {Budget}, Return Column: {ret_col}')\n",
    "\n",
    "plt.title('Risk vs Return for various Budget and ret_col combinations')\n",
    "plt.xlabel('Return')\n",
    "plt.ylabel('Risk')\n",
    "plt.legend()\n",
    "plt.grid(True)\n",
    "plt.show()"
   ]
  }
 ],
 "metadata": {
  "kernelspec": {
   "display_name": "Python 3 (ipykernel)",
   "language": "python",
   "name": "python3"
  },
  "language_info": {
   "codemirror_mode": {
    "name": "ipython",
    "version": 3
   },
   "file_extension": ".py",
   "mimetype": "text/x-python",
   "name": "python",
   "nbconvert_exporter": "python",
   "pygments_lexer": "ipython3",
   "version": "3.9.13"
  }
 },
 "nbformat": 4,
 "nbformat_minor": 5
}
