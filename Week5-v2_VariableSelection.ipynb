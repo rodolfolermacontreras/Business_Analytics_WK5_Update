{
 "cells": [
  {
   "cell_type": "markdown",
   "metadata": {
    "button": false,
    "new_sheet": false,
    "run_control": {
     "read_only": false
    }
   },
   "source": [
    "# Week 5 - Optimization Models for Picking Loans"
   ]
  },
  {
   "cell_type": "code",
   "execution_count": 1,
   "metadata": {
    "button": false,
    "new_sheet": false,
    "run_control": {
     "read_only": false
    },
    "scrolled": true
   },
   "outputs": [],
   "source": [
    "# Load general utilities\n",
    "# ----------------------\n",
    "import pandas as pd\n",
    "import matplotlib.pyplot as plt\n",
    "import matplotlib.axes as ax\n",
    "import datetime\n",
    "import numpy as np\n",
    "import pickle\n",
    "import time\n",
    "import seaborn as sns\n",
    "import collections\n",
    "\n",
    "# Load sklearn utilities\n",
    "# ----------------------\n",
    "from sklearn.model_selection import train_test_split\n",
    "from sklearn import preprocessing\n",
    "from sklearn.model_selection import GridSearchCV\n",
    "from sklearn.metrics import accuracy_score, classification_report, roc_auc_score, roc_curve, brier_score_loss, mean_squared_error, r2_score\n",
    "from sklearn.metrics import auc, precision_recall_curve, f1_score\n",
    "from sklearn.calibration import calibration_curve\n",
    "from sklearn.utils import resample\n",
    "from sklearn.preprocessing import MinMaxScaler\n",
    "from sklearn.preprocessing import StandardScaler\n",
    "from sklearn.metrics import confusion_matrix\n",
    "from sklearn.metrics import mean_squared_error, mean_absolute_error, r2_score\n",
    "from sklearn.preprocessing import StandardScaler\n",
    "from sklearn.cluster import KMeans\n",
    "\n",
    "# Load classifiers\n",
    "# ----------------\n",
    "from sklearn.linear_model import LogisticRegression\n",
    "from sklearn.linear_model import RidgeClassifier\n",
    "from sklearn.tree import DecisionTreeClassifier\n",
    "from sklearn.ensemble import RandomForestClassifier\n",
    "from sklearn.naive_bayes import GaussianNB\n",
    "from sklearn.neural_network import MLPClassifier\n",
    "from sklearn.ensemble import GradientBoostingClassifier\n",
    "from sklearn.ensemble import BaggingClassifier\n",
    "from sklearn.linear_model import LassoLars\n",
    "\n",
    "# Other Packages\n",
    "# --------------\n",
    "from scipy.stats import kendalltau\n",
    "from sklearn.neural_network import MLPRegressor\n",
    "from sklearn import linear_model\n",
    "from sklearn.ensemble import RandomForestRegressor\n",
    "from sklearn.cluster import KMeans\n",
    "from six import StringIO\n",
    "from IPython.display import Image\n",
    "from sklearn.tree import export_graphviz\n",
    "import pydotplus\n",
    "\n",
    "# Load debugger, if required\n",
    "# --------------\n",
    "pd.options.mode.chained_assignment = None #'warn'\n",
    "\n",
    "# suppress all warnings\n",
    "# --------------\n",
    "import warnings\n",
    "warnings.filterwarnings(\"ignore\")"
   ]
  },
  {
   "cell_type": "markdown",
   "metadata": {},
   "source": [
    "## 5.1 Load saved models.\n",
    "Load the dictionary first, assign value when we need to."
   ]
  },
  {
   "cell_type": "code",
   "execution_count": 2,
   "metadata": {},
   "outputs": [
    {
     "name": "stdout",
     "output_type": "stream",
     "text": [
      "models loaded: dict_keys(['reg_lasso1213', 'reg_separate1213', 'l1_logistic1213'])\n"
     ]
    }
   ],
   "source": [
    "# read saved models\n",
    "infile = open('week4_saved_models','rb')\n",
    "saved_models = pickle.load(infile)\n",
    "infile.close()\n",
    "print('models loaded:', saved_models.keys())\n",
    "\n",
    "# save into a new dict if there is anything new to save\n",
    "models_to_save = saved_models.copy()"
   ]
  },
  {
   "cell_type": "markdown",
   "metadata": {
    "button": false,
    "new_sheet": false,
    "run_control": {
     "read_only": false
    }
   },
   "source": [
    "## 5.2 Build and test baseline investment strategies\n",
    "Now we test several investment strategies using the learning models above"
   ]
  },
  {
   "cell_type": "code",
   "execution_count": 3,
   "metadata": {},
   "outputs": [],
   "source": [
    "default_seed = 1\n",
    "output_file = \"output_sample\""
   ]
  },
  {
   "cell_type": "code",
   "execution_count": 4,
   "metadata": {},
   "outputs": [],
   "source": [
    "# Create a function to print a line to our output file\n",
    "def dump_to_output(key, value):\n",
    "    with open(output_file, \"a\") as f:\n",
    "        f.write(\",\".join([str(default_seed), key, str(value)]) + \"\\n\")"
   ]
  },
  {
   "cell_type": "code",
   "execution_count": 5,
   "metadata": {
    "pycharm": {
     "name": "#%%\n"
    }
   },
   "outputs": [],
   "source": [
    "def test_investments(data_dict,\n",
    "                        classifier = None,\n",
    "                        regressor = None,\n",
    "                        strategy = 'Random',\n",
    "                        num_loans = 1000,\n",
    "                        random_state = default_seed,\n",
    "                        output_to_file = True):\n",
    "    '''\n",
    "    This function tests a variety of investment methodologies and their returns.\n",
    "    It will run its tests on the loans defined by the test_set element of the data\n",
    "    dictionary.\n",
    "\n",
    "    It is currently able to test four strategies\n",
    "      - random: invest in a random set of loans\n",
    "      - ranking: score each loan by probability of default, and only invest\n",
    "                 in the \"safest\" loans (i.e., those with the lowest probabilities\n",
    "                 of default)\n",
    "      - regression: train a single regression model to predict the expected return\n",
    "                    of loans in the past. Then, for loans we could invest in, simply\n",
    "                    rank them by their expected returns and invest in that order.\n",
    "      - two-stage: train two regression models to predict the expected return of\n",
    "                   defaulted loans and non-defaulted loans in the training set. Then,\n",
    "                   for each potential loan we could invest in, predict the probability\n",
    "                   the loan will default, its return if it doesn't default and its\n",
    "                   return if it does. Then, calculate a weighted combination of\n",
    "                   the latter using the former to find a predicted return. Rank the\n",
    "                   loans by this expected return, and invest in that order\n",
    "\n",
    "    It expects the following parameters\n",
    "      - data_dict: the dictionary containing both training and testing data;\n",
    "                   returned by the prepare_data function\n",
    "      - classifier: a fitted model object which is returned by the fit_classification function.\n",
    "      - regressor: a fitted model object which is returned by the fit_regression function.\n",
    "      - strategy: the name of the strategy; one of the three listed above\n",
    "      - num_loans: the number of loans to be included in the test portfolio\n",
    "      - num_samples: the number of random samples used to compute average return ()\n",
    "      - random_state: the random seed to use when selecting a subset of rows\n",
    "      - output_to_file: if the results will be saved to the output file\n",
    "\n",
    "    The function returns a dictionary FOR EACH RETURN DEFINITION with the following entries\n",
    "      - strategy: the name of the strategy\n",
    "      - average return: the return of the strategy based on the testing set\n",
    "      - test data: the updated Dataframe of testing data. Useful in the optimization section\n",
    "    '''\n",
    "\n",
    "    np.random.seed(random_state)\n",
    "\n",
    "    # Retrieve the rows that were used to train and test  the\n",
    "    # classification model\n",
    "    train_set = data_dict['train_set']\n",
    "    test_set = data_dict['test_set']\n",
    "\n",
    "    col_list = ['ret_PESS', 'ret_OPT', 'ret_INTa', 'ret_INTb', 'ret_INTc']\n",
    "\n",
    "    # Create a dataframe for testing, including the score\n",
    "    data_test = data.loc[test_set,:]\n",
    "    out = {}\n",
    "\n",
    "    for ret_col in col_list:\n",
    "\n",
    "        if strategy == 'Random':\n",
    "            # Randomize the order of the rows in the datframe\n",
    "            data_test = data_test.sample(frac = 1).reset_index(drop = True)\n",
    "\n",
    "            # Select num_loans to invest in\n",
    "            pf_test = data_test[['funded_amnt',ret_col]].iloc[:num_loans]\n",
    "\n",
    "            # Find the average return for these loans\n",
    "            ret_test = np.dot(pf_test[ret_col],pf_test.funded_amnt)/np.sum(pf_test.funded_amnt)\n",
    "\n",
    "            # Return\n",
    "            out[ret_col] = {'strategy':strategy, 'average return':ret_test}\n",
    "\n",
    "            # Dump the strategy performance to file\n",
    "            if output_to_file:\n",
    "                dump_to_output(strategy + \",\" + ret_col + \"::average return\", ret_test )\n",
    "\n",
    "            continue\n",
    "\n",
    "        elif strategy == 'Regression':\n",
    "\n",
    "            colname = 'predicted_return_' + ret_col\n",
    "\n",
    "            data_test[colname] = regressor[ret_col]['predicted_return']\n",
    "\n",
    "            # Sort the loans by predicted return\n",
    "            data_test = data_test.sort_values(by=colname, ascending = False).reset_index(drop = True)\n",
    "\n",
    "            # Pick num_loans loans\n",
    "            pf_test = data_test[['funded_amnt',ret_col]].iloc[:num_loans]\n",
    "\n",
    "            # Find their return\n",
    "            ret_test = np.dot(pf_test[ret_col],pf_test.funded_amnt)/np.sum(pf_test.funded_amnt)\n",
    "\n",
    "            # Return\n",
    "            out[ret_col] = {'strategy':strategy, 'average return':ret_test, 'test data':data_test}\n",
    "\n",
    "            # Dump the strategy performance to file\n",
    "            if output_to_file:\n",
    "                dump_to_output(strategy + \",\" + ret_col + \"::average return\", ret_test )\n",
    "\n",
    "            continue\n",
    "\n",
    "        # Get the predicted scores, if the strategy is not Random or just Regression\n",
    "        try:\n",
    "            y_pred_score = classifier['y_pred_probs']\n",
    "        except:\n",
    "            y_pred_score = classifier['y_pred_score']\n",
    "\n",
    "        data_test['score'] = y_pred_score\n",
    "\n",
    "\n",
    "        if strategy == 'Ranking':\n",
    "            # Sort the test data by the score\n",
    "            data_test = data_test.sort_values(by='score').reset_index(drop = True)\n",
    "\n",
    "            # Select num_loans to invest in\n",
    "            pf_test = data_test[['funded_amnt',ret_col]].iloc[:num_loans]\n",
    "\n",
    "            # Find the average return for these loans\n",
    "            ret_test = np.dot(pf_test[ret_col],pf_test.funded_amnt)/np.sum(pf_test.funded_amnt)\n",
    "\n",
    "            # Return\n",
    "            out[ret_col] = {'strategy':strategy, 'average return':ret_test}\n",
    "\n",
    "            # Dump the strategy performance to file\n",
    "            if output_to_file:\n",
    "                dump_to_output(strategy + \",\" + ret_col + \"::average return\", ret_test )\n",
    "\n",
    "            continue\n",
    "\n",
    "\n",
    "        elif strategy == 'Two-stage':\n",
    "\n",
    "            # Load the predicted returns\n",
    "            data_test['predicted_regular_return'] = regressor[ret_col]['predicted_regular_return']\n",
    "            data_test['predicted_default_return'] = regressor[ret_col]['predicted_default_return']\n",
    "\n",
    "            # Compute expectation\n",
    "            colname = 'predicted_return_' + ret_col\n",
    "\n",
    "            data_test[colname] = ( (1-data_test.score)*data_test.predicted_regular_return +\n",
    "                                             data_test.score*data_test.predicted_default_return )\n",
    "\n",
    "            # Sort the loans by predicted return\n",
    "            data_test = data_test.sort_values(by=colname, ascending = False).reset_index(drop = True)\n",
    "\n",
    "            # Pick num_loans loans\n",
    "            pf_test = data_test[['funded_amnt',ret_col]].iloc[:num_loans]\n",
    "\n",
    "            # Find their return\n",
    "            ret_test = np.dot(pf_test[ret_col],pf_test.funded_amnt)/np.sum(pf_test.funded_amnt)\n",
    "\n",
    "            # Return\n",
    "            out[ret_col] = {'strategy':strategy, 'average return':ret_test, 'test data':data_test}\n",
    "\n",
    "            # Dump the strategy performance to file\n",
    "            if output_to_file:\n",
    "                dump_to_output(strategy + \",\" + ret_col + \"::average return\", ret_test )\n",
    "\n",
    "            continue\n",
    "\n",
    "        elif strategy == 'Crystal-ball':\n",
    "\n",
    "            # Sort the loans by realized return\n",
    "            data_test = data_test.sort_values(by=ret_col, ascending = False).reset_index(drop = True)\n",
    "\n",
    "            # Pick num_loans loans\n",
    "            pf_test = data_test[['funded_amnt',ret_col]].iloc[:num_loans]\n",
    "\n",
    "            # Find their return\n",
    "            ret_test = np.dot(pf_test[ret_col],pf_test.funded_amnt)/np.sum(pf_test.funded_amnt)\n",
    "\n",
    "            # Return\n",
    "            out[ret_col] = {'strategy':strategy, 'average return':ret_test}\n",
    "\n",
    "            # Dump the strategy performance to file\n",
    "            if output_to_file:\n",
    "                dump_to_output(strategy + \",\" + ret_col + \"::average return\", ret_test )\n",
    "\n",
    "            continue\n",
    "\n",
    "        elif strategy == 'KMeans':\n",
    "            \n",
    "            # Extract unique kmeans values\n",
    "            kmeans_values = data_test['kmeans'].unique()\n",
    "\n",
    "            for kmean_val in kmeans_values:\n",
    "\n",
    "                # Subset data based on current kmean value\n",
    "                data_subset = data_test[data_test['kmeans'] == kmean_val].copy()\n",
    "\n",
    "                # Reset the index of the subset for direct indexing\n",
    "                data_subset.reset_index(drop=True, inplace=True)\n",
    "\n",
    "                # Filter the predicted returns to match the data_subset length\n",
    "                predicted_regular_return_subset = regressor[ret_col]['predicted_regular_return'][data_subset.index]\n",
    "                predicted_default_return_subset = regressor[ret_col]['predicted_default_return'][data_subset.index]\n",
    "\n",
    "                # Load the predicted returns\n",
    "                data_subset['predicted_regular_return'] = predicted_regular_return_subset\n",
    "                data_subset['predicted_default_return'] = predicted_default_return_subset\n",
    "\n",
    "                # Compute expectation\n",
    "                colname = 'predicted_return_' + ret_col\n",
    "\n",
    "                data_subset[colname] = ((1-data_subset.score) * data_subset.predicted_regular_return +\n",
    "                                        data_subset.score * data_subset.predicted_default_return)\n",
    "\n",
    "                # Sort the loans by predicted return\n",
    "                data_subset = data_subset.sort_values(by=colname, ascending = False).reset_index(drop = True)\n",
    "\n",
    "                # Pick num_loans loans\n",
    "                pf_test = data_subset[['funded_amnt',ret_col]].iloc[:num_loans]\n",
    "\n",
    "                # Find their return\n",
    "                ret_test = np.dot(pf_test[ret_col],pf_test.funded_amnt)/np.sum(pf_test.funded_amnt)\n",
    "\n",
    "                # Return\n",
    "                out_key = ret_col + \"_kmean_\" + str(kmean_val)  # Use a unique key for each kmean value\n",
    "                out[out_key] = {'strategy':strategy, 'kmean':kmean_val, 'average return':ret_test, 'test data':data_subset}\n",
    "\n",
    "                # Dump the strategy performance to file\n",
    "                if output_to_file:\n",
    "                    dump_to_output(strategy + \",\" + ret_col + \"_kmean_\" + str(kmean_val) + \"::average return\", ret_test)\n",
    "\n",
    "            continue\n",
    "\n",
    "        else:\n",
    "            return 'Not a valid strategy'\n",
    "\n",
    "    return out"
   ]
  },
  {
   "cell_type": "code",
   "execution_count": 6,
   "metadata": {},
   "outputs": [],
   "source": [
    "# 1. Load the data and engineer the features\n",
    "## 1.1 Load data\n",
    "\n",
    "# Read the data and features from the pickle\n",
    "data, discrete_features, continuous_features, ret_cols = pickle.load( open(\"C:\\\\Users\\\\ly266e\\\\Documents\\\\Training\\\\CMU\\\\Master\\\\Fall 2023 Mini 7\\\\Business_Analytics\\\\HW\\\\HW5\\\\Update\\\\PickleData\\\\ret_data_selection.pickle\", \"rb\") )\n",
    "\n",
    "# Create the outcome\n",
    "data[\"outcome\"] = data.loan_status.isin([\"Charged Off\", \"Default\"])\n",
    "\n",
    "# Create a feature for the length of a person's credit history at the\n",
    "# time the loan is issued\n",
    "data['cr_hist'] = (data.issue_d - data.earliest_cr_line) / np.timedelta64(1, 'M')\n",
    "continuous_features.append('cr_hist')\n",
    "\n",
    "# Randomly assign each row to a training and test set. We do this now\n",
    "# because we will be fitting a variety of models on various time periods,\n",
    "# and we would like every period to use the *same* training/test split\n",
    "np.random.seed(default_seed)\n",
    "data['train'] = np.random.choice([True, False], size = len(data), p = [0.7, 0.3])"
   ]
  },
  {
   "cell_type": "code",
   "execution_count": 7,
   "metadata": {},
   "outputs": [
    {
     "data": {
      "text/html": [
       "<div>\n",
       "<style scoped>\n",
       "    .dataframe tbody tr th:only-of-type {\n",
       "        vertical-align: middle;\n",
       "    }\n",
       "\n",
       "    .dataframe tbody tr th {\n",
       "        vertical-align: top;\n",
       "    }\n",
       "\n",
       "    .dataframe thead th {\n",
       "        text-align: right;\n",
       "    }\n",
       "</style>\n",
       "<table border=\"1\" class=\"dataframe\">\n",
       "  <thead>\n",
       "    <tr style=\"text-align: right;\">\n",
       "      <th></th>\n",
       "      <th>id</th>\n",
       "      <th>loan_amnt</th>\n",
       "      <th>funded_amnt</th>\n",
       "      <th>term</th>\n",
       "      <th>int_rate</th>\n",
       "      <th>grade</th>\n",
       "      <th>emp_length</th>\n",
       "      <th>home_ownership</th>\n",
       "      <th>annual_inc</th>\n",
       "      <th>verification_status</th>\n",
       "      <th>...</th>\n",
       "      <th>loan_length</th>\n",
       "      <th>term_num</th>\n",
       "      <th>ret_PESS</th>\n",
       "      <th>ret_OPT</th>\n",
       "      <th>ret_INTa</th>\n",
       "      <th>ret_INTb</th>\n",
       "      <th>ret_INTc</th>\n",
       "      <th>outcome</th>\n",
       "      <th>cr_hist</th>\n",
       "      <th>train</th>\n",
       "    </tr>\n",
       "  </thead>\n",
       "  <tbody>\n",
       "    <tr>\n",
       "      <th>0</th>\n",
       "      <td>1</td>\n",
       "      <td>7200.0</td>\n",
       "      <td>7200.0</td>\n",
       "      <td>36 months</td>\n",
       "      <td>9.17</td>\n",
       "      <td>B</td>\n",
       "      <td>10+ years</td>\n",
       "      <td>MORTGAGE</td>\n",
       "      <td>50000.0</td>\n",
       "      <td>Not Verified</td>\n",
       "      <td>...</td>\n",
       "      <td>8.016592</td>\n",
       "      <td>36</td>\n",
       "      <td>0.018428</td>\n",
       "      <td>0.082755</td>\n",
       "      <td>0.023094</td>\n",
       "      <td>0.042427</td>\n",
       "      <td>0.078373</td>\n",
       "      <td>False</td>\n",
       "      <td>340.015195</td>\n",
       "      <td>True</td>\n",
       "    </tr>\n",
       "    <tr>\n",
       "      <th>1</th>\n",
       "      <td>2</td>\n",
       "      <td>12000.0</td>\n",
       "      <td>12000.0</td>\n",
       "      <td>36 months</td>\n",
       "      <td>9.17</td>\n",
       "      <td>B</td>\n",
       "      <td>4 years</td>\n",
       "      <td>MORTGAGE</td>\n",
       "      <td>39400.0</td>\n",
       "      <td>Not Verified</td>\n",
       "      <td>...</td>\n",
       "      <td>18.004476</td>\n",
       "      <td>36</td>\n",
       "      <td>0.035488</td>\n",
       "      <td>0.070958</td>\n",
       "      <td>0.032752</td>\n",
       "      <td>0.051051</td>\n",
       "      <td>0.084770</td>\n",
       "      <td>False</td>\n",
       "      <td>110.983798</td>\n",
       "      <td>False</td>\n",
       "    </tr>\n",
       "    <tr>\n",
       "      <th>2</th>\n",
       "      <td>3</td>\n",
       "      <td>8800.0</td>\n",
       "      <td>8800.0</td>\n",
       "      <td>36 months</td>\n",
       "      <td>9.80</td>\n",
       "      <td>B</td>\n",
       "      <td>10+ years</td>\n",
       "      <td>MORTGAGE</td>\n",
       "      <td>92000.0</td>\n",
       "      <td>Source Verified</td>\n",
       "      <td>...</td>\n",
       "      <td>20.008624</td>\n",
       "      <td>36</td>\n",
       "      <td>0.039882</td>\n",
       "      <td>0.071756</td>\n",
       "      <td>0.035290</td>\n",
       "      <td>0.053412</td>\n",
       "      <td>0.086748</td>\n",
       "      <td>False</td>\n",
       "      <td>168.972669</td>\n",
       "      <td>True</td>\n",
       "    </tr>\n",
       "    <tr>\n",
       "      <th>3</th>\n",
       "      <td>4</td>\n",
       "      <td>15000.0</td>\n",
       "      <td>15000.0</td>\n",
       "      <td>36 months</td>\n",
       "      <td>5.32</td>\n",
       "      <td>A</td>\n",
       "      <td>10+ years</td>\n",
       "      <td>MORTGAGE</td>\n",
       "      <td>44000.0</td>\n",
       "      <td>Source Verified</td>\n",
       "      <td>...</td>\n",
       "      <td>37.027454</td>\n",
       "      <td>36</td>\n",
       "      <td>0.028457</td>\n",
       "      <td>0.027667</td>\n",
       "      <td>0.026164</td>\n",
       "      <td>0.040551</td>\n",
       "      <td>0.066688</td>\n",
       "      <td>False</td>\n",
       "      <td>162.007433</td>\n",
       "      <td>True</td>\n",
       "    </tr>\n",
       "    <tr>\n",
       "      <th>4</th>\n",
       "      <td>5</td>\n",
       "      <td>6000.0</td>\n",
       "      <td>6000.0</td>\n",
       "      <td>36 months</td>\n",
       "      <td>7.49</td>\n",
       "      <td>A</td>\n",
       "      <td>10+ years</td>\n",
       "      <td>MORTGAGE</td>\n",
       "      <td>100000.0</td>\n",
       "      <td>Not Verified</td>\n",
       "      <td>...</td>\n",
       "      <td>37.027454</td>\n",
       "      <td>36</td>\n",
       "      <td>0.039539</td>\n",
       "      <td>0.038442</td>\n",
       "      <td>0.033092</td>\n",
       "      <td>0.047920</td>\n",
       "      <td>0.074857</td>\n",
       "      <td>False</td>\n",
       "      <td>259.027906</td>\n",
       "      <td>True</td>\n",
       "    </tr>\n",
       "  </tbody>\n",
       "</table>\n",
       "<p>5 rows × 35 columns</p>\n",
       "</div>"
      ],
      "text/plain": [
       "  id  loan_amnt  funded_amnt        term  int_rate grade emp_length  \\\n",
       "0  1     7200.0       7200.0   36 months      9.17     B  10+ years   \n",
       "1  2    12000.0      12000.0   36 months      9.17     B    4 years   \n",
       "2  3     8800.0       8800.0   36 months      9.80     B  10+ years   \n",
       "3  4    15000.0      15000.0   36 months      5.32     A  10+ years   \n",
       "4  5     6000.0       6000.0   36 months      7.49     A  10+ years   \n",
       "\n",
       "  home_ownership  annual_inc verification_status  ... loan_length term_num  \\\n",
       "0       MORTGAGE     50000.0        Not Verified  ...    8.016592       36   \n",
       "1       MORTGAGE     39400.0        Not Verified  ...   18.004476       36   \n",
       "2       MORTGAGE     92000.0     Source Verified  ...   20.008624       36   \n",
       "3       MORTGAGE     44000.0     Source Verified  ...   37.027454       36   \n",
       "4       MORTGAGE    100000.0        Not Verified  ...   37.027454       36   \n",
       "\n",
       "   ret_PESS   ret_OPT  ret_INTa  ret_INTb  ret_INTc  outcome     cr_hist  \\\n",
       "0  0.018428  0.082755  0.023094  0.042427  0.078373    False  340.015195   \n",
       "1  0.035488  0.070958  0.032752  0.051051  0.084770    False  110.983798   \n",
       "2  0.039882  0.071756  0.035290  0.053412  0.086748    False  168.972669   \n",
       "3  0.028457  0.027667  0.026164  0.040551  0.066688    False  162.007433   \n",
       "4  0.039539  0.038442  0.033092  0.047920  0.074857    False  259.027906   \n",
       "\n",
       "   train  \n",
       "0   True  \n",
       "1  False  \n",
       "2   True  \n",
       "3   True  \n",
       "4   True  \n",
       "\n",
       "[5 rows x 35 columns]"
      ]
     },
     "execution_count": 7,
     "metadata": {},
     "output_type": "execute_result"
    }
   ],
   "source": [
    "data.head()"
   ]
  },
  {
   "cell_type": "code",
   "execution_count": 8,
   "metadata": {},
   "outputs": [],
   "source": [
    "data_kmeans = data.copy()\n",
    "data_kmeans['loan_status_binary'] = data_kmeans['outcome'].apply(lambda x: 1 if x == True else 0)\n",
    "continuous_features_kmeans = continuous_features.copy()\n",
    "continuous_features_kmeans.append('loan_status_binary')\n",
    "data_kmeans = data_kmeans[['int_rate', 'annual_inc','loan_amnt', 'dti','inq_last_6mths', 'open_acc', 'total_pymnt']]"
   ]
  },
  {
   "cell_type": "code",
   "execution_count": 9,
   "metadata": {},
   "outputs": [
    {
     "data": {
      "text/html": [
       "<div>\n",
       "<style scoped>\n",
       "    .dataframe tbody tr th:only-of-type {\n",
       "        vertical-align: middle;\n",
       "    }\n",
       "\n",
       "    .dataframe tbody tr th {\n",
       "        vertical-align: top;\n",
       "    }\n",
       "\n",
       "    .dataframe thead th {\n",
       "        text-align: right;\n",
       "    }\n",
       "</style>\n",
       "<table border=\"1\" class=\"dataframe\">\n",
       "  <thead>\n",
       "    <tr style=\"text-align: right;\">\n",
       "      <th></th>\n",
       "      <th>int_rate</th>\n",
       "      <th>annual_inc</th>\n",
       "      <th>loan_amnt</th>\n",
       "      <th>dti</th>\n",
       "      <th>inq_last_6mths</th>\n",
       "      <th>open_acc</th>\n",
       "      <th>total_pymnt</th>\n",
       "    </tr>\n",
       "  </thead>\n",
       "  <tbody>\n",
       "    <tr>\n",
       "      <th>0</th>\n",
       "      <td>-0.787161</td>\n",
       "      <td>-0.602532</td>\n",
       "      <td>-0.926394</td>\n",
       "      <td>0.004132</td>\n",
       "      <td>-0.680974</td>\n",
       "      <td>0.280068</td>\n",
       "      <td>-0.826882</td>\n",
       "    </tr>\n",
       "    <tr>\n",
       "      <th>1</th>\n",
       "      <td>-0.787161</td>\n",
       "      <td>-0.896466</td>\n",
       "      <td>-0.350107</td>\n",
       "      <td>0.821167</td>\n",
       "      <td>0.619300</td>\n",
       "      <td>1.274037</td>\n",
       "      <td>-0.280224</td>\n",
       "    </tr>\n",
       "    <tr>\n",
       "      <th>2</th>\n",
       "      <td>-0.639500</td>\n",
       "      <td>0.562112</td>\n",
       "      <td>-0.734298</td>\n",
       "      <td>-1.621849</td>\n",
       "      <td>0.619300</td>\n",
       "      <td>-0.515106</td>\n",
       "      <td>-0.609853</td>\n",
       "    </tr>\n",
       "    <tr>\n",
       "      <th>3</th>\n",
       "      <td>-1.689533</td>\n",
       "      <td>-0.768910</td>\n",
       "      <td>0.010072</td>\n",
       "      <td>-0.447722</td>\n",
       "      <td>0.619300</td>\n",
       "      <td>-0.912694</td>\n",
       "      <td>0.008817</td>\n",
       "    </tr>\n",
       "    <tr>\n",
       "      <th>4</th>\n",
       "      <td>-1.180924</td>\n",
       "      <td>0.783949</td>\n",
       "      <td>-1.070465</td>\n",
       "      <td>-0.685783</td>\n",
       "      <td>0.619300</td>\n",
       "      <td>-0.515106</td>\n",
       "      <td>-0.912193</td>\n",
       "    </tr>\n",
       "  </tbody>\n",
       "</table>\n",
       "</div>"
      ],
      "text/plain": [
       "   int_rate  annual_inc  loan_amnt       dti  inq_last_6mths  open_acc  \\\n",
       "0 -0.787161   -0.602532  -0.926394  0.004132       -0.680974  0.280068   \n",
       "1 -0.787161   -0.896466  -0.350107  0.821167        0.619300  1.274037   \n",
       "2 -0.639500    0.562112  -0.734298 -1.621849        0.619300 -0.515106   \n",
       "3 -1.689533   -0.768910   0.010072 -0.447722        0.619300 -0.912694   \n",
       "4 -1.180924    0.783949  -1.070465 -0.685783        0.619300 -0.515106   \n",
       "\n",
       "   total_pymnt  \n",
       "0    -0.826882  \n",
       "1    -0.280224  \n",
       "2    -0.609853  \n",
       "3     0.008817  \n",
       "4    -0.912193  "
      ]
     },
     "execution_count": 9,
     "metadata": {},
     "output_type": "execute_result"
    }
   ],
   "source": [
    "df_st =  StandardScaler().fit_transform(data_kmeans) # this is an array\n",
    "\n",
    "# see few rows of standardized dataset\n",
    "pd.DataFrame(df_st, columns=data_kmeans.columns).head()"
   ]
  },
  {
   "cell_type": "code",
   "execution_count": 10,
   "metadata": {},
   "outputs": [
    {
     "data": {
      "text/plain": [
       "Counter({2: 162644, 0: 129075, 1: 108563})"
      ]
     },
     "execution_count": 10,
     "metadata": {},
     "output_type": "execute_result"
    }
   ],
   "source": [
    "K=3\n",
    "kmeans = KMeans(n_clusters=K, random_state=10).fit(df_st)\n",
    "labels = kmeans.labels_\n",
    "collections.Counter(labels) # show the number of occurences of each of the labels"
   ]
  },
  {
   "cell_type": "code",
   "execution_count": 11,
   "metadata": {},
   "outputs": [
    {
     "data": {
      "image/png": "[encoded data removed]",
      "text/plain": [
       "<Figure size 640x480 with 2 Axes>"
      ]
     },
     "metadata": {},
     "output_type": "display_data"
    }
   ],
   "source": [
    "grade =  data.grade.to_numpy() # np_array\n",
    "K=3\n",
    "ltr2num = {'A':0, 'B':1, 'C':2, 'D':3, 'E':4, 'F':5, 'G':6}\n",
    "table = np.zeros([7,K]) # row = letter grade, column = kmeans label\n",
    "for j in range(df_st.shape[0]):\n",
    "    table[ltr2num[grade[j]], labels[j]]+=1 # confusion matrix\n",
    "for i in range(7):\n",
    "    table[i,:] = np.round(table[i,:]*100/table[i,:].sum(), 1)\n",
    "\n",
    "df_temp = pd.DataFrame(table, columns = [0,1,2])\n",
    "# visulaize confusion matrix using heatmap\n",
    "grades = ['A', 'B', 'C', 'D', 'E', 'F', 'G']\n",
    "sns.heatmap(df_temp, annot=True, cmap='RdYlGn',  yticklabels=grades)\n",
    "plt.yticks(rotation=0, ha='right')  # ha is the horizontal alignment\n",
    "plt.show()"
   ]
  },
  {
   "cell_type": "code",
   "execution_count": 12,
   "metadata": {},
   "outputs": [],
   "source": [
    "data['kmeans'] = labels"
   ]
  },
  {
   "cell_type": "code",
   "execution_count": 13,
   "metadata": {},
   "outputs": [],
   "source": [
    "discrete_features.remove('grade')"
   ]
  },
  {
   "cell_type": "code",
   "execution_count": 14,
   "metadata": {},
   "outputs": [],
   "source": [
    "#Continuous\n",
    "features_to_remove = ['funded_amnt'] #I cannot be removed until now\n",
    "continuous_features = [feature for feature in continuous_features if feature not in features_to_remove]"
   ]
  },
  {
   "cell_type": "code",
   "execution_count": 15,
   "metadata": {},
   "outputs": [],
   "source": [
    "columns_to_remove = ['home_ownership_RENT', 'purpose_credit_card', 'purpose_house', 'home_ownership_OTHER', 'cr_hist', 'verification_status_Verified']"
   ]
  },
  {
   "cell_type": "markdown",
   "metadata": {},
   "source": [
    "## Up to here I added to match previous code"
   ]
  },
  {
   "cell_type": "code",
   "execution_count": 16,
   "metadata": {},
   "outputs": [],
   "source": [
    "# Create a matrix of features and outcomes, with dummies. Record the\n",
    "# names of the dummies for later use\n",
    "X_continuous = data[continuous_features].values\n",
    "\n",
    "X_discrete = pd.get_dummies(data[discrete_features], dummy_na = True, prefix_sep = \"::\", drop_first = True)\n",
    "discrete_features_dummies = X_discrete.columns.tolist()\n",
    "X_discrete = X_discrete.values\n",
    "\n",
    "X = np.concatenate( (X_continuous, X_discrete), axis = 1 )\n",
    "\n",
    "y = data.outcome.values\n",
    "\n",
    "train = data.train.values"
   ]
  },
  {
   "cell_type": "code",
   "execution_count": 17,
   "metadata": {},
   "outputs": [
    {
     "data": {
      "text/plain": [
       "<AxesSubplot:>"
      ]
     },
     "execution_count": 17,
     "metadata": {},
     "output_type": "execute_result"
    },
    {
     "data": {
      "image/png": "[encoded data removed]",
      "text/plain": [
       "<Figure size 640x480 with 1 Axes>"
      ]
     },
     "metadata": {},
     "output_type": "display_data"
    }
   ],
   "source": [
    "# take a look at distribution in date to decide \n",
    "# the size of train and test set splitted by time\n",
    "\n",
    "data['issue_d'].hist(xrot=90)"
   ]
  },
  {
   "cell_type": "code",
   "execution_count": 18,
   "metadata": {},
   "outputs": [],
   "source": [
    "# fund out cut off date to divide the data into ~70% traininig data and ~30% testing data\n",
    "date_threshold = np.quantile(data['issue_d'],5/7)"
   ]
  },
  {
   "cell_type": "code",
   "execution_count": 19,
   "metadata": {},
   "outputs": [],
   "source": [
    "## 1.2 Prepare functions to fit and evaluate models\n",
    "\n",
    "def prepare_data(data_subset = np.array([True]*len(data)),\n",
    "                    n_samples_train = 20000,\n",
    "                    n_samples_test = 10000,\n",
    "                    feature_subset = None,\n",
    "                    date_range_train = (data.issue_d.min(), date_threshold),\n",
    "                    date_range_test = (date_threshold, data.issue_d.max()),\n",
    "                    random_state = default_seed):\n",
    "    '''\n",
    "    This function will prepare the data for classification or regression.\n",
    "    It expects the following parameters:\n",
    "      - data_subset: a numpy array with as many entries as rows in the\n",
    "                     dataset. Each entry should be True if that row\n",
    "                     should be used, or False if it should be ignored\n",
    "      - n_samples_train: the total number of samples to be used for training.\n",
    "                         Will trigger an error if this number is larger than\n",
    "                         the number of rows available after all filters have\n",
    "                         been applied\n",
    "      - n_samples_test: as above for testing\n",
    "      - feature_subect: A list containing the names of the features to be\n",
    "                        used in the model. In None, all features in X are\n",
    "                        used\n",
    "      - date_range_train: a tuple containing two dates. All rows with loans\n",
    "                          issued outside of these two dates will be ignored in\n",
    "                          training\n",
    "      - date_range_test: as above for testing\n",
    "      - random_state: the random seed to use when selecting a subset of rows\n",
    "      \n",
    "    Note that this function assumes the data has a \"Train\" column, and will\n",
    "    select all training rows from the rows with \"True\" in that column, and all\n",
    "    the testing rows from those with a \"False\" in that column.\n",
    "    \n",
    "    This function returns a dictionary with the following entries\n",
    "      - X_train: the matrix of training data\n",
    "      - y_train: the array of training labels\n",
    "      - train_set: a Boolean vector with as many entries as rows in the data\n",
    "                  that denotes the rows that were used in the train set\n",
    "      - X_test: the matrix of testing data\n",
    "      - y_test: the array of testing labels\n",
    "      - test_set: a Boolean vector with as many entries as rows in the data\n",
    "                  that denotes the rows that were used in the test set\n",
    "    '''\n",
    "    \n",
    "    np.random.seed(random_state)\n",
    "        \n",
    "    # Filter down the data to the required date range, and downsample\n",
    "    # as required\n",
    "    filter_train = ( train & (data.issue_d >= date_range_train[0]) &\n",
    "                            (data.issue_d <= date_range_train[1]) & data_subset ).values\n",
    "    filter_test = ( (train == False) & (data.issue_d >= date_range_test[0])\n",
    "                            & (data.issue_d <= date_range_test[1]) & data_subset ).values\n",
    "    \n",
    "    filter_train[ np.random.choice( np.where(filter_train)[0], size = filter_train.sum() \n",
    "                                   - n_samples_train, replace = False ) ] = False\n",
    "    filter_test[ np.random.choice( np.where(filter_test)[0], size = filter_test.sum() \n",
    "                                   - n_samples_test, replace = False ) ] = False\n",
    "    \n",
    "    # Prepare the training and test set\n",
    "    X_train = X[ filter_train , :]\n",
    "    X_test = X[ filter_test, :]\n",
    "    if feature_subset != None:\n",
    "        cols = [i for i, j in enumerate(continuous_features + discrete_features_dummies)\n",
    "                                                     if j.split(\"::\")[0] in feature_subset]\n",
    "        X_train = X_train[ : , cols ]\n",
    "        X_test = X_test[ : , cols ]\n",
    "        \n",
    "    y_train = y[ filter_train ]\n",
    "    y_test = y[ filter_test ]\n",
    "    \n",
    "    # Scale the variables\n",
    "    scaler = preprocessing.MinMaxScaler()\n",
    "\n",
    "    X_train = scaler.fit_transform(X_train)\n",
    "    X_test = scaler.transform(X_test)\n",
    "    \n",
    "    # return training and testing data\n",
    "    out = {'X_train':X_train, 'y_train':y_train, 'train_set':filter_train, \n",
    "           'X_test':X_test, 'y_test':y_test, 'test_set':filter_test}\n",
    "    \n",
    "    return out"
   ]
  },
  {
   "cell_type": "markdown",
   "metadata": {
    "pycharm": {
     "name": "#%% md\n"
    }
   },
   "source": [
    "## Implement the test strategies on 2012-13 data"
   ]
  },
  {
   "cell_type": "code",
   "execution_count": 20,
   "metadata": {},
   "outputs": [],
   "source": [
    "## read saved models\n",
    "reg_rf1213 = saved_models['reg_lasso1213']\n",
    "rf1213 = saved_models['l1_logistic1213']"
   ]
  },
  {
   "cell_type": "code",
   "execution_count": 21,
   "metadata": {},
   "outputs": [],
   "source": [
    "# Read the data and features from the pickle\n",
    "datanew, discrete_featuresnew, continuous_featuresnew, ret_colsnew = pickle.load( open(\"C:\\\\Users\\\\ly266e\\\\Documents\\\\Training\\\\CMU\\\\Master\\\\Fall 2023 Mini 7\\\\Business_Analytics\\\\HW\\\\HW5\\\\Update\\\\PickleData\\\\ret_data_selection.pickle\", \"rb\" ) )\n",
    "#data, discrete_features, continuous_features, ret_cols = pickle.load( open(\"C:\\\\Users\\\\ly266e\\\\Documents\\\\Training\\\\CMU\\\\Master\\\\Fall 2023 Mini 7\\\\Business_Analytics\\\\HW\\\\HW5\\\\Update\\\\PickleData\\\\ret_data_selection.pickle\", \"rb\" ) )"
   ]
  },
  {
   "cell_type": "code",
   "execution_count": 22,
   "metadata": {},
   "outputs": [],
   "source": [
    "final_features = [i for i in discrete_features + continuous_features]"
   ]
  },
  {
   "cell_type": "code",
   "execution_count": 23,
   "metadata": {},
   "outputs": [],
   "source": [
    "data_dict = prepare_data(feature_subset = final_features)"
   ]
  },
  {
   "cell_type": "code",
   "execution_count": 24,
   "metadata": {},
   "outputs": [],
   "source": [
    "all_features = pd.Series(continuous_features + discrete_features_dummies)\n",
    "idx = [i for i, j in enumerate(continuous_features + discrete_features_dummies)\n",
    "                                                     if j.split(\"::\")[0] in final_features]\n",
    "selected_features = all_features[idx]\n",
    "selected_features.reset_index(drop=True,inplace=True)"
   ]
  },
  {
   "cell_type": "markdown",
   "metadata": {},
   "source": [
    "### 5.2.1 Random"
   ]
  },
  {
   "cell_type": "code",
   "execution_count": 25,
   "metadata": {
    "pycharm": {
     "name": "#%%\n"
    },
    "scrolled": true
   },
   "outputs": [
    {
     "name": "stdout",
     "output_type": "stream",
     "text": [
      "strategy: Random\n",
      "ret_PESS: 0.03267111706274445\n",
      "ret_OPT: 0.03892084982036406\n",
      "ret_INTa: 0.028323857955299545\n",
      "ret_INTb: 0.038543535185637745\n",
      "ret_INTc: 0.06775666643537047\n"
     ]
    }
   ],
   "source": [
    "col_list = ['ret_PESS', 'ret_OPT', 'ret_INTa', 'ret_INTb', 'ret_INTc']\n",
    "test_strategy = 'Random'\n",
    "\n",
    "print('strategy:',test_strategy)   \n",
    "strat_random = test_investments(data_dict,strategy = test_strategy, \n",
    "                            num_loans = 100, output_to_file = False, random_state = 1)\n",
    "for ret_col in col_list:\n",
    "    print(ret_col + ': ' + str(strat_random[ret_col]['average return']))"
   ]
  },
  {
   "cell_type": "markdown",
   "metadata": {},
   "source": [
    "### 5.2.2 Ranking"
   ]
  },
  {
   "cell_type": "code",
   "execution_count": 26,
   "metadata": {
    "button": false,
    "new_sheet": false,
    "run_control": {
     "read_only": false
    }
   },
   "outputs": [
    {
     "name": "stdout",
     "output_type": "stream",
     "text": [
      "strategy: Ranking\n",
      "ret_PESS: 0.023326995965570516\n",
      "ret_OPT: 0.03687256212563782\n",
      "ret_INTa: 0.02705050898634369\n",
      "ret_INTb: 0.0373313308247441\n",
      "ret_INTc: 0.0789146690102203\n"
     ]
    }
   ],
   "source": [
    "test_strategy = 'Ranking'\n",
    "\n",
    "print('strategy:',test_strategy)\n",
    "strat_rank = test_investments(data_dict, classifier=rf1213, strategy = test_strategy, \n",
    "                        num_loans = 100, output_to_file = False)\n",
    "\n",
    "for ret_col in col_list:\n",
    "    print(ret_col + ': ' + str(strat_rank[ret_col]['average return']))"
   ]
  },
  {
   "cell_type": "markdown",
   "metadata": {},
   "source": [
    "### 5.2.3 Regression"
   ]
  },
  {
   "cell_type": "code",
   "execution_count": 27,
   "metadata": {
    "button": false,
    "new_sheet": false,
    "run_control": {
     "read_only": false
    }
   },
   "outputs": [
    {
     "name": "stdout",
     "output_type": "stream",
     "text": [
      "strategy: Regression\n",
      "ret_PESS: 0.02053493857003915\n",
      "ret_OPT: 0.04614016718583255\n",
      "ret_INTa: 0.026101420628127033\n",
      "ret_INTb: 0.04142498759984379\n",
      "ret_INTc: 0.0778358556479994\n"
     ]
    }
   ],
   "source": [
    "test_strategy = 'Regression'\n",
    "\n",
    "print('strategy:',test_strategy)\n",
    "strat_reg = test_investments(data_dict, regressor=reg_rf1213, strategy = test_strategy, \n",
    "                        num_loans = 100)\n",
    "for ret_col in col_list:\n",
    "    print(ret_col + ': ' + str(strat_reg[ret_col]['average return']))"
   ]
  },
  {
   "cell_type": "markdown",
   "metadata": {},
   "source": [
    "### 5.2.4 Two-stage\n",
    "#### Compute random forest regression:"
   ]
  },
  {
   "cell_type": "code",
   "execution_count": 28,
   "metadata": {},
   "outputs": [],
   "source": [
    "## load model\n",
    "reg_rf_separate1213 = saved_models['reg_separate1213']"
   ]
  },
  {
   "cell_type": "markdown",
   "metadata": {},
   "source": [
    "#### Test two-stage stratgy"
   ]
  },
  {
   "cell_type": "code",
   "execution_count": 29,
   "metadata": {
    "scrolled": true
   },
   "outputs": [
    {
     "name": "stdout",
     "output_type": "stream",
     "text": [
      "strategy: Two-stage\n",
      "ret_PESS: 0.015121937044821582\n",
      "ret_OPT: 0.056988831482735945\n",
      "ret_INTa: 0.011991066328749363\n",
      "ret_INTb: 0.029330706440701054\n",
      "ret_INTc: 0.06427389509279043\n"
     ]
    }
   ],
   "source": [
    "test_strategy = 'Two-stage'\n",
    "\n",
    "\n",
    "print('strategy:',test_strategy)\n",
    "two_stage = test_investments(data_dict, classifier = rf1213, regressor = reg_rf_separate1213, \n",
    "                             strategy = test_strategy, num_loans = 100)\n",
    "\n",
    "for ret_col in col_list:\n",
    "    print(ret_col + ': ' + str(two_stage[ret_col]['average return']))"
   ]
  },
  {
   "cell_type": "markdown",
   "metadata": {},
   "source": [
    "### 5.2.5 Crystal-ball"
   ]
  },
  {
   "cell_type": "code",
   "execution_count": 30,
   "metadata": {},
   "outputs": [
    {
     "name": "stdout",
     "output_type": "stream",
     "text": [
      "strategy: Crystal-ball\n"
     ]
    }
   ],
   "source": [
    "test_strategy = 'Crystal-ball'\n",
    "\n",
    "print('strategy:', test_strategy)\n",
    "Crystal_ball_strategy = test_investments(data_dict, classifier = rf1213, regressor = reg_rf_separate1213, \n",
    "                             strategy = test_strategy, num_loans = 100)"
   ]
  },
  {
   "cell_type": "code",
   "execution_count": 31,
   "metadata": {},
   "outputs": [
    {
     "name": "stdout",
     "output_type": "stream",
     "text": [
      "ret_PESS: 0.12810693126932457\n",
      "ret_OPT: 0.2359714061139382\n",
      "ret_INTa: 0.13224224539662693\n",
      "ret_INTb: 0.14890649847803403\n",
      "ret_INTc: 0.17962998955609458\n"
     ]
    }
   ],
   "source": [
    "for ret_col in col_list:\n",
    "    print(ret_col + ': ' + str(Crystal_ball_strategy[ret_col]['average return']))"
   ]
  },
  {
   "cell_type": "markdown",
   "metadata": {},
   "source": [
    "### 5.2.6 New KMeans Model"
   ]
  },
  {
   "cell_type": "code",
   "execution_count": 32,
   "metadata": {},
   "outputs": [],
   "source": [
    "# test_strategy = 'KMeans'\n",
    "\n",
    "# print('strategy:', test_strategy)\n",
    "# kmeans_strategy = test_investments(data_dict, classifier = rf1213, regressor = reg_rf_separate1213, \n",
    "#                              strategy = test_strategy, num_loans = 100)"
   ]
  },
  {
   "cell_type": "code",
   "execution_count": 33,
   "metadata": {},
   "outputs": [],
   "source": [
    "# # Extract unique kmeans values from the test data\n",
    "# test_data_subset = data.loc[data_dict['test_set']]\n",
    "# kmeans_values = test_data_subset['kmeans'].unique()\n",
    "\n",
    "# # Loop through each return column\n",
    "# for ret_col in col_list:\n",
    "#     for kmean_val in kmeans_values:\n",
    "#         key = ret_col + \"_kmean_\" + str(kmean_val)\n",
    "#         if key in kmeans_strategy:\n",
    "#             print(key + ': ' + str(kmeans_strategy[key]['average return']))"
   ]
  },
  {
   "cell_type": "markdown",
   "metadata": {},
   "source": [
    "# NEW PART OF THE ANALYSIS"
   ]
  },
  {
   "cell_type": "markdown",
   "metadata": {},
   "source": [
    "## 5.3 Optimization\n",
    " In this section, we implement three different optimization models. To illustrate and compare these models we will only use the M1-PESS definition and the predicted returns from the previously tested two-stage strategy.\n",
    "\n",
    "## Three optimization models to picks loans\n",
    "\n",
    "### 5.3.1 Directly maximize total profit\n"
   ]
  },
  {
   "cell_type": "code",
   "execution_count": 34,
   "metadata": {},
   "outputs": [],
   "source": [
    "# !python -m pip install gurobipy"
   ]
  },
  {
   "cell_type": "code",
   "execution_count": 35,
   "metadata": {},
   "outputs": [],
   "source": [
    "# import os\n",
    "\n",
    "# os.environ[\"GRB_LICENSE_FILE\"] = r\"C:\\Users\\rodol\\OneDrive\\Documents\\Training\\Carnegie_Mellon_University\\Courses\\Mini_7\\Business_Value_Analytics\\General\\WK5\\Data\\gurobi.lic\""
   ]
  },
  {
   "cell_type": "code",
   "execution_count": 36,
   "metadata": {},
   "outputs": [
    {
     "name": "stdout",
     "output_type": "stream",
     "text": [
      "Set parameter WLSAccessID\n",
      "Set parameter WLSSecret\n",
      "Set parameter LicenseID to value 2415696\n",
      "Academic license - for non-commercial use only - registered to xiaohanf@andrew.cmu.edu\n",
      "Gurobi Optimizer version 10.0.3 build v10.0.3rc0 (win64)\n",
      "\n",
      "CPU model: 12th Gen Intel(R) Core(TM) i7-12800H, instruction set [SSE2|AVX|AVX2]\n",
      "Thread count: 14 physical cores, 20 logical processors, using up to 20 threads\n",
      "\n",
      "Academic license - for non-commercial use only - registered to xiaohanf@andrew.cmu.edu\n",
      "Optimize a model with 1 rows, 10000 columns and 10000 nonzeros\n",
      "Model fingerprint: 0x05c9209a\n",
      "Variable types: 0 continuous, 10000 integer (10000 binary)\n",
      "Coefficient statistics:\n",
      "  Matrix range     [1e+00, 1e+00]\n",
      "  Objective range  [8e-02, 2e+03]\n",
      "  Bounds range     [1e+00, 1e+00]\n",
      "  RHS range        [1e+01, 1e+01]\n",
      "Found heuristic solution: objective 9242.8282789\n",
      "Presolve removed 1 rows and 10000 columns\n",
      "Presolve time: 0.01s\n",
      "Presolve: All rows and columns removed\n",
      "\n",
      "Explored 0 nodes (0 simplex iterations) in 0.01 seconds (0.01 work units)\n",
      "Thread count was 1 (of 20 available processors)\n",
      "\n",
      "Solution count 2: 21451.4 9242.83 \n",
      "\n",
      "Optimal solution found (tolerance 1.00e-04)\n",
      "Best objective 2.145140223640e+04, best bound 2.145140223640e+04, gap 0.0000%\n",
      "Optimal expected return: 21451.402236399263\n",
      "Choose loan 6\n",
      "Choose loan 44\n",
      "Choose loan 71\n",
      "Choose loan 84\n",
      "Choose loan 93\n",
      "Choose loan 264\n",
      "Choose loan 288\n",
      "Choose loan 293\n",
      "Choose loan 307\n",
      "Choose loan 311\n"
     ]
    }
   ],
   "source": [
    "import gurobipy as gp\n",
    "from gurobipy import GRB\n",
    "\n",
    "ret_col = 'ret_INTc'\n",
    "test_pool = two_stage[ret_col]['test data']\n",
    "num_var = test_pool.shape[0]\n",
    "num_loans = 10\n",
    "\n",
    "## first define cost vector\n",
    "c = np.zeros(num_var) # cost vector\n",
    "for i in range(num_var):\n",
    "    c[i] = test_pool['predicted_return_'+ret_col].iloc[i]*test_pool.funded_amnt.iloc[i]\n",
    "\n",
    "## then define vector of all ones\n",
    "u = np.zeros(num_var) # cost vector\n",
    "for i in range(num_var):\n",
    "    u[i] = 1\n",
    "    \n",
    "\n",
    "# please open your free trial, downlaod the license, and get the WLS parameters. \n",
    "# https://www.gurobi.com/free-trial/\n",
    "# If you are using a client license for a floating site token server, Gurobi Instant Cloud, \n",
    "# WLS (Web License Service), or a Compute Server/Cluster Manager, you may have chosen to \n",
    "# pass the credentials via parameters to the Gurobi environment such as follows\n",
    "env = gp.Env(empty=True)\n",
    "env.setParam('WLSACCESSID', '9f11ef5f-f6b2-424f-b878-41f86258c5da')\n",
    "env.setParam('WLSSECRET', 'd898d09a-1223-4a71-931b-8800234f87c1')\n",
    "env.setParam('LICENSEID', 2415696)\n",
    "env.start()\n",
    "\n",
    "with gp.Model(env=env) as model:\n",
    "# Placing the variables in a pandas Series object will allow us to use the dot() function\n",
    "    x = pd.Series(model.addVars(num_var,vtype=GRB.BINARY))\n",
    "\n",
    "    model.setObjective(c.dot(x), GRB.MAXIMIZE)\n",
    "\n",
    "    model.addConstr(u.dot(x) <= num_loans)\n",
    "\n",
    "    # Formulate problem\n",
    "    model.optimize()\n",
    "    \n",
    "    # Extracting the optimal solution and optimal value\n",
    "    print('Optimal expected return:',model.ObjVal)\n",
    "    for i in range(num_var):\n",
    "        if x[i].X > 0: # most variables are zero, so we just print the non-zero variables\n",
    "            print('Choose loan',i+1)    "
   ]
  },
  {
   "cell_type": "markdown",
   "metadata": {},
   "source": [
    "### Partial Investments\n",
    "Now we want to decide which loan to invest in, and how much should the investment be."
   ]
  },
  {
   "cell_type": "code",
   "execution_count": 37,
   "metadata": {},
   "outputs": [
    {
     "name": "stdout",
     "output_type": "stream",
     "text": [
      "Set parameter WLSAccessID\n",
      "Set parameter WLSSecret\n",
      "Set parameter LicenseID to value 2415696\n",
      "Academic license - for non-commercial use only - registered to xiaohanf@andrew.cmu.edu\n",
      "Gurobi Optimizer version 10.0.3 build v10.0.3rc0 (win64)\n",
      "\n",
      "CPU model: 12th Gen Intel(R) Core(TM) i7-12800H, instruction set [SSE2|AVX|AVX2]\n",
      "Thread count: 14 physical cores, 20 logical processors, using up to 20 threads\n",
      "\n",
      "Academic license - for non-commercial use only - registered to xiaohanf@andrew.cmu.edu\n",
      "Optimize a model with 20001 rows, 20000 columns and 50000 nonzeros\n",
      "Model fingerprint: 0x493ab7cd\n",
      "Variable types: 10000 continuous, 10000 integer (10000 binary)\n",
      "Coefficient statistics:\n",
      "  Matrix range     [1e+00, 4e+04]\n",
      "  Objective range  [8e-02, 2e+03]\n",
      "  Bounds range     [1e+00, 4e+04]\n",
      "  RHS range        [1e+05, 1e+05]\n",
      "Found heuristic solution: objective -0.0000000\n",
      "Presolve removed 1572 rows and 1572 columns\n",
      "Presolve time: 0.04s\n",
      "Presolved: 18429 rows, 18428 columns, 46070 nonzeros\n",
      "Variable types: 9214 continuous, 9214 integer (9214 binary)\n",
      "\n",
      "Root relaxation: objective 3.362701e+08, 6 iterations, 0.01 seconds (0.00 work units)\n",
      "\n",
      "    Nodes    |    Current Node    |     Objective Bounds      |     Work\n",
      " Expl Unexpl |  Obj  Depth IntInf | Incumbent    BestBd   Gap | It/Node Time\n",
      "\n",
      "*    0     0               0    3.362701e+08 3.3627e+08  0.00%     -    0s\n",
      "\n",
      "Explored 1 nodes (6 simplex iterations) in 0.09 seconds (0.07 work units)\n",
      "Thread count was 20 (of 20 available processors)\n",
      "\n",
      "Solution count 2: 3.3627e+08 -0 \n",
      "\n",
      "Optimal solution found (tolerance 1.00e-04)\n",
      "Best objective 3.362701296409e+08, best bound 3.362701296409e+08, gap 0.0000%\n",
      "Optimal expected return: 336270129.6408514\n",
      "Choose loan 6 with investment amount: 35000.0\n",
      "Choose loan 44 with investment amount: 9073.575000000012\n",
      "Choose loan 71 with investment amount: 35000.0\n",
      "Choose loan 84 with investment amount: 35000.0\n",
      "Choose loan 93 with investment amount: 35000.0\n"
     ]
    }
   ],
   "source": [
    "import gurobipy as gp\n",
    "from gurobipy import GRB\n",
    "\n",
    "ret_col = 'ret_INTc'\n",
    "test_pool = two_stage[ret_col]['test data']\n",
    "num_var = test_pool.shape[0]\n",
    "num_loans = 10\n",
    "min_investment = 100\n",
    "\n",
    "# Define cost vector\n",
    "c = np.zeros(num_var)\n",
    "for i in range(num_var):\n",
    "    c[i] = test_pool['predicted_return_'+ret_col].iloc[i]*test_pool.funded_amnt.iloc[i]\n",
    "\n",
    "# Define vector of all ones\n",
    "u = np.zeros(num_var)\n",
    "for i in range(num_var):\n",
    "    u[i] = 1\n",
    "    \n",
    "# please open your free trial, downlaod the license, and get the WLS parameters. \n",
    "# https://www.gurobi.com/free-trial/\n",
    "# If you are using a client license for a floating site token server, Gurobi Instant Cloud, \n",
    "# WLS (Web License Service), or a Compute Server/Cluster Manager, you may have chosen to \n",
    "# pass the credentials via parameters to the Gurobi environment such as follows\n",
    "env = gp.Env(empty=True)\n",
    "env.setParam('WLSACCESSID', '9f11ef5f-f6b2-424f-b878-41f86258c5da')\n",
    "env.setParam('WLSSECRET', 'd898d09a-1223-4a71-931b-8800234f87c1')\n",
    "env.setParam('LICENSEID', 2415696)\n",
    "env.start()\n",
    "\n",
    "with gp.Model(env=env) as model:\n",
    "\n",
    "    # Define the binary variables x and continuous variables y\n",
    "    x = pd.Series(model.addVars(num_var, vtype=GRB.BINARY))\n",
    "    y = pd.Series(model.addVars(num_var, lb=0, ub=test_pool.funded_amnt.values))\n",
    "\n",
    "    # Set the objective function\n",
    "    model.setObjective(c.dot(y), GRB.MAXIMIZE)\n",
    "\n",
    "    # Add constraints\n",
    "    for i in range(num_var):\n",
    "        model.addConstr(y[i] <= x[i] * test_pool.funded_amnt.iloc[i])\n",
    "        model.addConstr(y[i] >= min_investment * x[i])\n",
    "\n",
    "    # Update the budget constraint to be based on the sum of y\n",
    "    model.addConstr(u.dot(y) <= num_loans * test_pool.funded_amnt.mean()) # Adjust the budget constraint as needed\n",
    "\n",
    "    model.optimize()\n",
    "\n",
    "    # Extracting the optimal solution and optimal value\n",
    "    print('Optimal expected return:', model.ObjVal)\n",
    "    for i in range(num_var):\n",
    "        if x[i].X > 0:\n",
    "            print('Choose loan', i+1, 'with investment amount:', y[i].X)\n"
   ]
  },
  {
   "cell_type": "markdown",
   "metadata": {
    "button": false,
    "new_sheet": false,
    "run_control": {
     "read_only": false
    }
   },
   "source": [
    "### 5.3.2: Maximize profit with budget constraint"
   ]
  },
  {
   "cell_type": "code",
   "execution_count": 38,
   "metadata": {
    "scrolled": false
   },
   "outputs": [
    {
     "name": "stdout",
     "output_type": "stream",
     "text": [
      "Set parameter WLSAccessID\n",
      "Set parameter WLSSecret\n",
      "Set parameter LicenseID to value 2415696\n",
      "Academic license - for non-commercial use only - registered to xiaohanf@andrew.cmu.edu\n",
      "Gurobi Optimizer version 10.0.3 build v10.0.3rc0 (win64)\n",
      "\n",
      "CPU model: 12th Gen Intel(R) Core(TM) i7-12800H, instruction set [SSE2|AVX|AVX2]\n",
      "Thread count: 14 physical cores, 20 logical processors, using up to 20 threads\n",
      "\n",
      "Academic license - for non-commercial use only - registered to xiaohanf@andrew.cmu.edu\n",
      "Optimize a model with 3 rows, 10000 columns and 30000 nonzeros\n",
      "Model fingerprint: 0x4347c9ed\n",
      "Variable types: 0 continuous, 10000 integer (10000 binary)\n",
      "Coefficient statistics:\n",
      "  Matrix range     [1e+00, 4e+04]\n",
      "  Objective range  [8e-02, 2e+03]\n",
      "  Bounds range     [1e+00, 1e+00]\n",
      "  RHS range        [9e+01, 1e+06]\n",
      "Presolve time: 0.01s\n",
      "Presolved: 3 rows, 10000 columns, 30000 nonzeros\n",
      "Variable types: 0 continuous, 10000 integer (10000 binary)\n",
      "Found heuristic solution: objective 56315.893611\n",
      "\n",
      "Root relaxation: objective 6.576739e+04, 10 iterations, 0.00 seconds (0.00 work units)\n",
      "\n",
      "    Nodes    |    Current Node    |     Objective Bounds      |     Work\n",
      " Expl Unexpl |  Obj  Depth IntInf | Incumbent    BestBd   Gap | It/Node Time\n",
      "\n",
      "     0     0 65767.3881    0    2 56315.8936 65767.3881  16.8%     -    0s\n",
      "H    0     0                    65755.486007 65767.3881  0.02%     -    0s\n",
      "H    0     0                    65763.426141 65767.3881  0.01%     -    0s\n",
      "\n",
      "Cutting planes:\n",
      "  Cover: 1\n",
      "\n",
      "Explored 1 nodes (10 simplex iterations) in 0.09 seconds (0.12 work units)\n",
      "Thread count was 20 (of 20 available processors)\n",
      "\n",
      "Solution count 3: 65763.4 65755.5 56315.9 \n",
      "\n",
      "Optimal solution found (tolerance 1.00e-04)\n",
      "Best objective 6.576342614112e+04, best bound 6.576738809675e+04, gap 0.0060%\n",
      "Optimal expected return: 65763.4261411193\n",
      "Choose loan 1\n",
      "Choose loan 2\n",
      "Choose loan 3\n",
      "Choose loan 4\n",
      "Choose loan 5\n",
      "Choose loan 6\n",
      "Choose loan 7\n",
      "Choose loan 8\n",
      "Choose loan 9\n",
      "Choose loan 10\n",
      "Choose loan 11\n",
      "Choose loan 12\n",
      "Choose loan 13\n",
      "Choose loan 14\n",
      "Choose loan 15\n",
      "Choose loan 16\n",
      "Choose loan 17\n",
      "Choose loan 18\n",
      "Choose loan 19\n",
      "Choose loan 20\n",
      "Choose loan 21\n",
      "Choose loan 22\n",
      "Choose loan 23\n",
      "Choose loan 24\n",
      "Choose loan 25\n",
      "Choose loan 26\n",
      "Choose loan 27\n",
      "Choose loan 28\n",
      "Choose loan 29\n",
      "Choose loan 30\n",
      "Choose loan 31\n",
      "Choose loan 32\n",
      "Choose loan 33\n",
      "Choose loan 34\n",
      "Choose loan 35\n",
      "Choose loan 36\n",
      "Choose loan 37\n",
      "Choose loan 38\n",
      "Choose loan 39\n",
      "Choose loan 40\n",
      "Choose loan 41\n",
      "Choose loan 42\n",
      "Choose loan 43\n",
      "Choose loan 44\n",
      "Choose loan 45\n",
      "Choose loan 46\n",
      "Choose loan 47\n",
      "Choose loan 48\n",
      "Choose loan 49\n",
      "Choose loan 50\n",
      "Choose loan 51\n",
      "Choose loan 52\n",
      "Choose loan 53\n",
      "Choose loan 54\n",
      "Choose loan 55\n",
      "Choose loan 56\n",
      "Choose loan 57\n",
      "Choose loan 59\n",
      "Choose loan 64\n",
      "Choose loan 66\n",
      "Choose loan 67\n",
      "Choose loan 68\n",
      "Choose loan 69\n",
      "Choose loan 70\n",
      "Choose loan 72\n",
      "Choose loan 74\n",
      "Choose loan 76\n",
      "Choose loan 77\n",
      "Choose loan 80\n",
      "Choose loan 85\n",
      "Choose loan 94\n",
      "Choose loan 105\n",
      "Choose loan 107\n",
      "Choose loan 129\n",
      "Choose loan 135\n",
      "Choose loan 149\n",
      "Choose loan 153\n",
      "Choose loan 171\n",
      "Choose loan 193\n",
      "Choose loan 284\n",
      "Choose loan 302\n",
      "Choose loan 306\n",
      "Choose loan 325\n",
      "Choose loan 356\n",
      "Choose loan 562\n",
      "Choose loan 662\n",
      "Choose loan 1234\n",
      "Choose loan 1412\n",
      "Choose loan 1437\n",
      "Choose loan 1493\n",
      "90.0\n"
     ]
    }
   ],
   "source": [
    "ret_col = 'ret_INTc'\n",
    "test_pool = two_stage[ret_col]['test data']\n",
    "num_var = test_pool.shape[0]\n",
    "num_loans = 100\n",
    "Budget = 1000000\n",
    "\n",
    "## first define cost vector\n",
    "c = np.zeros(num_var) # cost vector\n",
    "for i in range(num_var):\n",
    "    c[i] = test_pool['predicted_return_'+ret_col].iloc[i]*test_pool.funded_amnt.iloc[i]\n",
    "\n",
    "## then define vector of all ones\n",
    "u = np.zeros(num_var) # cost vector\n",
    "for i in range(num_var):\n",
    "    u[i] = 1\n",
    "    \n",
    "# please open your free trial, downlaod the license, and get the WLS parameters. \n",
    "# https://www.gurobi.com/free-trial/\n",
    "# If you are using a client license for a floating site token server, Gurobi Instant Cloud, \n",
    "# WLS (Web License Service), or a Compute Server/Cluster Manager, you may have chosen to \n",
    "# pass the credentials via parameters to the Gurobi environment such as follows\n",
    "env = gp.Env(empty=True)\n",
    "env.setParam('WLSACCESSID', '9f11ef5f-f6b2-424f-b878-41f86258c5da')\n",
    "env.setParam('WLSSECRET', 'd898d09a-1223-4a71-931b-8800234f87c1')\n",
    "env.setParam('LICENSEID', 2415696)\n",
    "env.start()\n",
    "\n",
    "with gp.Model(env=env) as model:\n",
    "\n",
    "    # Placing the variables in a pandas Series object will allow us to use the dot() function\n",
    "    x = pd.Series(model.addVars(num_var,vtype=GRB.BINARY))\n",
    "    amt = pd.Series(test_pool[0:num_var].loan_amnt)\n",
    "\n",
    "    model.setObjective(c.dot(x), GRB.MAXIMIZE)\n",
    "\n",
    "    model.addConstr(u.dot(x) <= num_loans)\n",
    "    model.addConstr(u.dot(x) >= 0.9*num_loans)\n",
    "    model.addConstr(amt.dot(x) <= Budget)\n",
    "\n",
    "    model.optimize()    \n",
    "    \n",
    "    # Extracting the optimal solution and optimal value\n",
    "    print('Optimal expected return:',model.ObjVal)\n",
    "    for i in range(num_var):\n",
    "        if x[i].X > 0: # most variables are zero, so we just print the non-zero variables\n",
    "            print('Choose loan',i+1) \n",
    "    \n",
    "    opt_sln_IP2 = np.zeros(num_var)\n",
    "    for i in range(num_var):\n",
    "        opt_sln_IP2[i] = x[i].X\n",
    "    \n",
    "    print(sum(opt_sln_IP2))"
   ]
  },
  {
   "cell_type": "markdown",
   "metadata": {},
   "source": [
    "### Sanity check\n",
    "Intuitively the optimal solution $x^*$ should sequentially choose the highest return loans. We compare $x^*$ with opt_sln below."
   ]
  },
  {
   "cell_type": "code",
   "execution_count": 39,
   "metadata": {},
   "outputs": [
    {
     "name": "stdout",
     "output_type": "stream",
     "text": [
      "number of entries that differ: 10\n"
     ]
    }
   ],
   "source": [
    "temp = np.sort(c)\n",
    "temp = temp[::-1] # in descending order\n",
    "cutoff = temp[100]\n",
    "y = np.zeros(num_var)\n",
    "for i in range(num_var):\n",
    "    if cutoff<c[i]:\n",
    "        y[i]=1\n",
    "print(\"number of entries that differ:\", int((y - opt_sln_IP2).sum()) )"
   ]
  },
  {
   "cell_type": "markdown",
   "metadata": {
    "button": false,
    "new_sheet": false,
    "run_control": {
     "read_only": false
    }
   },
   "source": [
    "### 5.3.3: Maximize profit with risk-return tradeoff"
   ]
  },
  {
   "cell_type": "code",
   "execution_count": 40,
   "metadata": {},
   "outputs": [],
   "source": [
    "## First we need to train a clustering model to estimate the variance of return\n",
    "n_clusters = 200\n",
    "train_set = data_dict['train_set']\n",
    "data_train = data.loc[train_set,:]\n",
    "\n",
    "# Create a dataframe for testing, including the score\n",
    "data_test = two_stage[ret_col]['test data']\n",
    "\n",
    "kmeans = KMeans(n_clusters=n_clusters, random_state=0).fit(data_dict['X_train'])\n",
    "data_train['clusID'] = kmeans.predict(data_dict['X_train'])\n",
    "data_test['clusID'] = kmeans.predict(data_dict['X_test'])\n",
    "data_test['volatility'] = 0\n",
    "\n",
    "for idx in range(n_clusters):\n",
    "    std_clus = np.std(data_train[ret_col][data_train.clusID == idx])\n",
    "    data_test.volatility[data_test.clusID == idx] = std_clus\n",
    "\n",
    "## Specify the parameters of the optimization model\n",
    "# beta: penalty factor on the risk\n",
    "beta = 0.9\n",
    "#Budget = 10.7*1000000"
   ]
  },
  {
   "cell_type": "code",
   "execution_count": 41,
   "metadata": {
    "scrolled": false
   },
   "outputs": [
    {
     "name": "stdout",
     "output_type": "stream",
     "text": [
      "Set parameter WLSAccessID\n",
      "Set parameter WLSSecret\n",
      "Set parameter LicenseID to value 2415696\n",
      "Academic license - for non-commercial use only - registered to xiaohanf@andrew.cmu.edu\n",
      "Gurobi Optimizer version 10.0.3 build v10.0.3rc0 (win64)\n",
      "\n",
      "CPU model: 12th Gen Intel(R) Core(TM) i7-12800H, instruction set [SSE2|AVX|AVX2]\n",
      "Thread count: 14 physical cores, 20 logical processors, using up to 20 threads\n",
      "\n",
      "Academic license - for non-commercial use only - registered to xiaohanf@andrew.cmu.edu\n",
      "Optimize a model with 3 rows, 10000 columns and 30000 nonzeros\n",
      "Model fingerprint: 0x9f2d55c1\n",
      "Variable types: 0 continuous, 10000 integer (10000 binary)\n",
      "Coefficient statistics:\n",
      "  Matrix range     [1e+00, 4e+04]\n",
      "  Objective range  [9e-03, 3e+03]\n",
      "  Bounds range     [1e+00, 1e+00]\n",
      "  RHS range        [9e+01, 1e+06]\n",
      "Presolve time: 0.01s\n",
      "Presolved: 3 rows, 10000 columns, 30000 nonzeros\n",
      "Variable types: 0 continuous, 10000 integer (10000 binary)\n",
      "Found heuristic solution: objective 26780.811189\n",
      "\n",
      "Root relaxation: objective 3.450035e+04, 5 iterations, 0.00 seconds (0.00 work units)\n",
      "\n",
      "    Nodes    |    Current Node    |     Objective Bounds      |     Work\n",
      " Expl Unexpl |  Obj  Depth IntInf | Incumbent    BestBd   Gap | It/Node Time\n",
      "\n",
      "     0     0 34500.3533    0    2 26780.8112 34500.3533  28.8%     -    0s\n",
      "H    0     0                    34398.771211 34500.3533  0.30%     -    0s\n",
      "H    0     0                    34439.399303 34500.3533  0.18%     -    0s\n",
      "H    0     0                    34490.968965 34500.3533  0.03%     -    0s\n",
      "     0     0 34496.8775    0    3 34490.9690 34496.8775  0.02%     -    0s\n",
      "     0     0 34496.8775    0    2 34490.9690 34496.8775  0.02%     -    0s\n",
      "     0     0 34496.8775    0    3 34490.9690 34496.8775  0.02%     -    0s\n",
      "     0     0 34496.0356    0    2 34490.9690 34496.0356  0.01%     -    0s\n",
      "     0     0 34494.2792    0    3 34490.9690 34494.2792  0.01%     -    0s\n",
      "\n",
      "Cutting planes:\n",
      "  Cover: 2\n",
      "  MIR: 1\n",
      "  StrongCG: 1\n",
      "\n",
      "Explored 1 nodes (21 simplex iterations) in 0.21 seconds (0.17 work units)\n",
      "Thread count was 20 (of 20 available processors)\n",
      "\n",
      "Solution count 4: 34491 34439.4 34398.8 26780.8 \n",
      "\n",
      "Optimal solution found (tolerance 1.00e-04)\n",
      "Best objective 3.449096896494e+04, best bound 3.449427923640e+04, gap 0.0096%\n",
      "Optimal expected return: 34490.96896493782\n",
      "Choose loan 6\n",
      "Choose loan 11\n",
      "Choose loan 17\n",
      "Choose loan 33\n",
      "Choose loan 37\n",
      "Choose loan 38\n",
      "Choose loan 42\n",
      "Choose loan 49\n",
      "Choose loan 52\n",
      "Choose loan 55\n",
      "Choose loan 58\n",
      "Choose loan 63\n",
      "Choose loan 64\n",
      "Choose loan 76\n",
      "Choose loan 93\n",
      "Choose loan 104\n",
      "Choose loan 119\n",
      "Choose loan 127\n",
      "Choose loan 161\n",
      "Choose loan 179\n",
      "Choose loan 193\n",
      "Choose loan 195\n",
      "Choose loan 201\n",
      "Choose loan 207\n",
      "Choose loan 221\n",
      "Choose loan 228\n",
      "Choose loan 250\n",
      "Choose loan 257\n",
      "Choose loan 269\n",
      "Choose loan 319\n",
      "Choose loan 323\n",
      "Choose loan 352\n",
      "Choose loan 359\n",
      "Choose loan 390\n",
      "Choose loan 431\n",
      "Choose loan 462\n",
      "Choose loan 464\n",
      "Choose loan 479\n",
      "Choose loan 608\n",
      "Choose loan 609\n",
      "Choose loan 617\n",
      "Choose loan 639\n",
      "Choose loan 652\n",
      "Choose loan 703\n",
      "Choose loan 739\n",
      "Choose loan 753\n",
      "Choose loan 789\n",
      "Choose loan 790\n",
      "Choose loan 791\n",
      "Choose loan 892\n",
      "Choose loan 896\n",
      "Choose loan 931\n",
      "Choose loan 980\n",
      "Choose loan 991\n",
      "Choose loan 1034\n",
      "Choose loan 1068\n",
      "Choose loan 1072\n",
      "Choose loan 1074\n",
      "Choose loan 1202\n",
      "Choose loan 1209\n",
      "Choose loan 1264\n",
      "Choose loan 1272\n",
      "Choose loan 1300\n",
      "Choose loan 1321\n",
      "Choose loan 1336\n",
      "Choose loan 1370\n",
      "Choose loan 1412\n",
      "Choose loan 1437\n",
      "Choose loan 1493\n",
      "Choose loan 1557\n",
      "Choose loan 1753\n",
      "Choose loan 1796\n",
      "Choose loan 1931\n",
      "Choose loan 2001\n",
      "Choose loan 2047\n",
      "Choose loan 2185\n",
      "Choose loan 2191\n",
      "Choose loan 2234\n",
      "Choose loan 2335\n",
      "Choose loan 2356\n",
      "Choose loan 2560\n",
      "Choose loan 2647\n",
      "Choose loan 2679\n",
      "Choose loan 2698\n",
      "Choose loan 2844\n",
      "Choose loan 3087\n",
      "Choose loan 3125\n",
      "Choose loan 3140\n",
      "Choose loan 3420\n",
      "Choose loan 5114\n",
      "90.0\n"
     ]
    }
   ],
   "source": [
    "ret_col = 'ret_INTc'\n",
    "test_pool = two_stage[ret_col]['test data']\n",
    "num_var = test_pool.shape[0]\n",
    "num_loans = 100\n",
    "Budget = 1000000\n",
    "\n",
    "## define objective\n",
    "c = np.zeros(num_var) # cost vector\n",
    "for i in range(num_var):\n",
    "    c[i] = (test_pool['predicted_return_'+  ret_col].iloc[i] -\n",
    "            beta * test_pool.volatility.iloc[i]) * test_pool.loan_amnt.iloc[i]\n",
    "    \n",
    "## then define vector of all ones\n",
    "u = np.zeros(num_var) # cost vector\n",
    "for i in range(num_var):\n",
    "    u[i] = 1\n",
    "    \n",
    "# please open your free trial, downlaod the license, and get the WLS parameters. \n",
    "# https://www.gurobi.com/free-trial/\n",
    "# If you are using a client license for a floating site token server, Gurobi Instant Cloud, \n",
    "# WLS (Web License Service), or a Compute Server/Cluster Manager, you may have chosen to \n",
    "# pass the credentials via parameters to the Gurobi environment such as follows\n",
    "env = gp.Env(empty=True)\n",
    "env.setParam('WLSACCESSID', '9f11ef5f-f6b2-424f-b878-41f86258c5da')\n",
    "env.setParam('WLSSECRET', 'd898d09a-1223-4a71-931b-8800234f87c1')\n",
    "env.setParam('LICENSEID', 2415696)\n",
    "env.start()\n",
    "\n",
    "with gp.Model(env=env) as model:\n",
    "\n",
    "    # Placing the variables in a pandas Series object will allow us to use the dot() function\n",
    "    x = pd.Series(model.addVars(num_var,vtype=GRB.BINARY))\n",
    "    amt = pd.Series(test_pool[0:num_var].loan_amnt)\n",
    "\n",
    "    model.setObjective(c.dot(x), GRB.MAXIMIZE)\n",
    "\n",
    "    model.addConstr(u.dot(x) <= num_loans)\n",
    "    model.addConstr(u.dot(x) >= 0.9*num_loans)\n",
    "    model.addConstr(amt.dot(x) <= Budget)\n",
    "\n",
    "    model.optimize()    \n",
    "    \n",
    "    # Extracting the optimal solution and optimal value\n",
    "    print('Optimal expected return:',model.ObjVal)\n",
    "    for i in range(num_var):\n",
    "        if x[i].X > 0: # most variables are zero, so we just print the non-zero variables\n",
    "            print('Choose loan',i+1)  \n",
    "    \n",
    "    opt_sln_IP3 = np.zeros(num_var)\n",
    "    for i in range(num_var):\n",
    "        opt_sln_IP3[i] = x[i].X\n",
    "    \n",
    "    print(sum(opt_sln_IP3))"
   ]
  },
  {
   "cell_type": "markdown",
   "metadata": {},
   "source": [
    "### 5.3.4 Visualization: violin plots for the expected returns of the above strategies"
   ]
  },
  {
   "cell_type": "code",
   "execution_count": 42,
   "metadata": {
    "scrolled": true
   },
   "outputs": [],
   "source": [
    "test_pool['label'] = ['test_pool']*test_pool.shape[0]\n",
    "\n",
    "# now we create a df for OPT of IP2\n",
    "test_pool['chosen_IP2'] = opt_sln_IP2\n",
    "df2 = test_pool[test_pool.chosen_IP2 == 1].copy() # df containing only rows chosen by IP2\n",
    "test_pool = test_pool.drop(columns=['chosen_IP2']) # drop this columns in order to append\n",
    "df2 = df2.drop(columns=['chosen_IP2']) # drop this columns in order to append\n",
    "df2['label'] = ['IP2']*df2.shape[0]\n",
    "\n",
    "# create a df for OPT of IP3\n",
    "test_pool['chosen_IP3'] = opt_sln_IP3\n",
    "df3 = test_pool[test_pool.chosen_IP3 == 1].copy() # df containing only rows chosen by IP3\n",
    "test_pool = test_pool.drop(columns=['chosen_IP3']) # drop this columns in order to append\n",
    "df3 = df3.drop(columns=['chosen_IP3']) # drop this columns in order to append\n",
    "df3['label'] = ['IP3']*df3.shape[0]\n",
    "\n",
    "# concatenate the dataframes\n",
    "df_big = test_pool.append([df2,df3])"
   ]
  },
  {
   "cell_type": "code",
   "execution_count": 43,
   "metadata": {},
   "outputs": [
    {
     "data": {
      "text/plain": [
       "Text(0, 0.5, 'ret_INTc')"
      ]
     },
     "execution_count": 43,
     "metadata": {},
     "output_type": "execute_result"
    },
    {
     "data": {
      "image/png": "[encoded data removed]",
      "text/plain": [
       "<Figure size 640x480 with 1 Axes>"
      ]
     },
     "metadata": {},
     "output_type": "display_data"
    }
   ],
   "source": [
    "ax = sns.violinplot(y=df_big[\"predicted_return_ret_INTc\"], x=df_big[\"label\"], \n",
    "                    data=df_big, order=['test_pool','IP2','IP3'])\n",
    "ax.set_title(\"Ditribution of expected return of the selected loans\")\n",
    "ax.set_xlabel(\"Subset of loans\")\n",
    "ax.set_ylabel(\"ret_INTc\")"
   ]
  },
  {
   "cell_type": "markdown",
   "metadata": {
    "pycharm": {
     "name": "#%% md\n"
    }
   },
   "source": [
    "## 5.4. Sensitivity analysis of the optimization solution by varying the budgets and the number of loans invested in\n",
    "Build a trade-off curve between the beta value and the optimization objective (expected return). For this we loop through various values of beta from 0.1 through some large number in steps of 0.1 say. Then we create a plot of different pairs of means and stdevns of the expected return of the portfolios as you vary beta. The two axes will then be mean (return) and stdevn (risk)."
   ]
  },
  {
   "cell_type": "code",
   "execution_count": 49,
   "metadata": {
    "scrolled": true
   },
   "outputs": [
    {
     "name": "stdout",
     "output_type": "stream",
     "text": [
      "Set parameter WLSAccessID\n",
      "Set parameter WLSSecret\n",
      "Set parameter LicenseID to value 2415696\n",
      "Academic license - for non-commercial use only - registered to xiaohanf@andrew.cmu.edu\n",
      "Gurobi Optimizer version 10.0.3 build v10.0.3rc0 (win64)\n",
      "\n",
      "CPU model: 12th Gen Intel(R) Core(TM) i7-12800H, instruction set [SSE2|AVX|AVX2]\n",
      "Thread count: 14 physical cores, 20 logical processors, using up to 20 threads\n",
      "\n",
      "Academic license - for non-commercial use only - registered to xiaohanf@andrew.cmu.edu\n",
      "Optimize a model with 3 rows, 10000 columns and 30000 nonzeros\n",
      "Model fingerprint: 0x4032a7a1\n",
      "Variable types: 0 continuous, 10000 integer (10000 binary)\n",
      "Coefficient statistics:\n",
      "  Matrix range     [1e+00, 4e+04]\n",
      "  Objective range  [5e-02, 2e+03]\n",
      "  Bounds range     [1e+00, 1e+00]\n",
      "  RHS range        [9e+01, 1e+04]\n",
      "Presolve removed 0 rows and 8671 columns\n",
      "Presolve time: 0.00s\n",
      "\n",
      "Explored 0 nodes (0 simplex iterations) in 0.01 seconds (0.01 work units)\n",
      "Thread count was 1 (of 20 available processors)\n",
      "\n",
      "Solution count 0\n",
      "No other solutions better than -1e+100\n",
      "\n",
      "Model is infeasible\n",
      "Best objective -, best bound -, gap -\n"
     ]
    },
    {
     "ename": "AttributeError",
     "evalue": "Unable to retrieve attribute 'X'",
     "output_type": "error",
     "traceback": [
      "\u001b[1;31m---------------------------------------------------------------------------\u001b[0m",
      "\u001b[1;31mAttributeError\u001b[0m                            Traceback (most recent call last)",
      "\u001b[1;32m~\\AppData\\Local\\Temp\\ipykernel_24368\\814604314.py\u001b[0m in \u001b[0;36m<module>\u001b[1;34m\u001b[0m\n\u001b[0;32m     41\u001b[0m         \u001b[0mopt\u001b[0m \u001b[1;33m=\u001b[0m \u001b[0mnp\u001b[0m\u001b[1;33m.\u001b[0m\u001b[0mzeros\u001b[0m\u001b[1;33m(\u001b[0m\u001b[0mnum_var\u001b[0m\u001b[1;33m)\u001b[0m\u001b[1;33m\u001b[0m\u001b[1;33m\u001b[0m\u001b[0m\n\u001b[0;32m     42\u001b[0m         \u001b[1;32mfor\u001b[0m \u001b[0mk\u001b[0m \u001b[1;32min\u001b[0m \u001b[0mrange\u001b[0m\u001b[1;33m(\u001b[0m\u001b[0mnum_var\u001b[0m\u001b[1;33m)\u001b[0m\u001b[1;33m:\u001b[0m\u001b[1;33m\u001b[0m\u001b[1;33m\u001b[0m\u001b[0m\n\u001b[1;32m---> 43\u001b[1;33m             \u001b[0mopt\u001b[0m\u001b[1;33m[\u001b[0m\u001b[0mk\u001b[0m\u001b[1;33m]\u001b[0m \u001b[1;33m=\u001b[0m \u001b[0mx\u001b[0m\u001b[1;33m[\u001b[0m\u001b[0mk\u001b[0m\u001b[1;33m]\u001b[0m\u001b[1;33m.\u001b[0m\u001b[0mX\u001b[0m\u001b[1;33m\u001b[0m\u001b[1;33m\u001b[0m\u001b[0m\n\u001b[0m\u001b[0;32m     44\u001b[0m         \u001b[0mtest_pool\u001b[0m\u001b[1;33m[\u001b[0m\u001b[1;34m'chosen'\u001b[0m\u001b[1;33m]\u001b[0m \u001b[1;33m=\u001b[0m \u001b[0mopt\u001b[0m\u001b[1;33m\u001b[0m\u001b[1;33m\u001b[0m\u001b[0m\n\u001b[0;32m     45\u001b[0m         \u001b[0mdf\u001b[0m \u001b[1;33m=\u001b[0m \u001b[0mtest_pool\u001b[0m\u001b[1;33m[\u001b[0m\u001b[0mtest_pool\u001b[0m\u001b[1;33m.\u001b[0m\u001b[0mchosen\u001b[0m \u001b[1;33m==\u001b[0m \u001b[1;36m1\u001b[0m\u001b[1;33m]\u001b[0m\u001b[1;33m\u001b[0m\u001b[1;33m\u001b[0m\u001b[0m\n",
      "\u001b[1;32msrc\\gurobipy\\var.pxi\u001b[0m in \u001b[0;36mgurobipy.Var.__getattr__\u001b[1;34m()\u001b[0m\n",
      "\u001b[1;32msrc\\gurobipy\\var.pxi\u001b[0m in \u001b[0;36mgurobipy.Var.getAttr\u001b[1;34m()\u001b[0m\n",
      "\u001b[1;32msrc\\gurobipy\\attrutil.pxi\u001b[0m in \u001b[0;36mgurobipy.__getattr\u001b[1;34m()\u001b[0m\n",
      "\u001b[1;31mAttributeError\u001b[0m: Unable to retrieve attribute 'X'"
     ]
    }
   ],
   "source": [
    "ret_col = 'ret_INTc'\n",
    "num_var = test_pool.shape[0]\n",
    "Budget = 100000\n",
    "beta_min = 0.1\n",
    "step = 0.15\n",
    "num_beta = 10\n",
    "u = np.zeros(num_var) # units vector\n",
    "\n",
    "for i in range(num_var):\n",
    "    u[i] = 1\n",
    "\n",
    "amt = pd.Series(test_pool[0:num_var].loan_amnt)\n",
    "\n",
    "table = np.zeros([num_beta,2]) # store the return and risk\n",
    "\n",
    "env = gp.Env(empty=True)\n",
    "env.setParam('WLSACCESSID', '9f11ef5f-f6b2-424f-b878-41f86258c5da')\n",
    "env.setParam('WLSSECRET', 'd898d09a-1223-4a71-931b-8800234f87c1')\n",
    "env.setParam('LICENSEID', 2415696)\n",
    "env.start()\n",
    "\n",
    "for j in range(num_beta):\n",
    "    beta = beta_min + j*step\n",
    "    \n",
    "    c = np.zeros(num_var) # cost vector\n",
    "    for i in range(num_var):\n",
    "        c[i] = (test_pool['predicted_return_'+  ret_col].iloc[i] - beta * test_pool.volatility.iloc[i]) * test_pool.loan_amnt.iloc[i]\n",
    "    \n",
    "    with gp.Model(env=env) as model:\n",
    "\n",
    "        x = pd.Series(model.addVars(num_var,vtype=GRB.BINARY))\n",
    "\n",
    "        model.setObjective(c.dot(x), GRB.MAXIMIZE)\n",
    "    \n",
    "        model.addConstr(u.dot(x) <= num_loans)\n",
    "        model.addConstr(u.dot(x) >= 0.9*num_loans)\n",
    "        model.addConstr(amt.dot(x) <= Budget)\n",
    "\n",
    "        model.optimize() \n",
    "    \n",
    "        opt = np.zeros(num_var)\n",
    "        for k in range(num_var):\n",
    "            opt[k] = x[k].X\n",
    "        test_pool['chosen'] = opt\n",
    "        df = test_pool[test_pool.chosen == 1]\n",
    "        table[j,0] = df['predicted_return_'+  ret_col].sum()\n",
    "        table[j,1] = df.volatility.sum()\n",
    "            # Extracting the optimal solution and optimal value\n",
    "        \n",
    "#         print('Optimal expected return:', model.ObjVal)\n",
    "#         for i in range(num_var):\n",
    "#             if x[i].X > 0:\n",
    "#                 print('Choose loan', i+1, 'with investment amount:', y[i].X)"
   ]
  },
  {
   "cell_type": "markdown",
   "metadata": {},
   "source": [
    "### Visualization: Return vs Risk curve"
   ]
  },
  {
   "cell_type": "code",
   "execution_count": 46,
   "metadata": {
    "scrolled": false
   },
   "outputs": [
    {
     "data": {
      "text/plain": [
       "Text(0, 0.5, 'risk')"
      ]
     },
     "execution_count": 46,
     "metadata": {},
     "output_type": "execute_result"
    },
    {
     "data": {
      "image/png": "[encoded data removed]",
      "text/plain": [
       "<Figure size 640x480 with 1 Axes>"
      ]
     },
     "metadata": {},
     "output_type": "display_data"
    }
   ],
   "source": [
    "plt.plot(table[:,0],table[:,1])\n",
    "plt.xlabel(\"return\")\n",
    "plt.ylabel(\"risk\")"
   ]
  },
  {
   "cell_type": "code",
   "execution_count": 48,
   "metadata": {},
   "outputs": [
    {
     "ename": "NameError",
     "evalue": "name 'no' is not defined",
     "output_type": "error",
     "traceback": [
      "\u001b[1;31m---------------------------------------------------------------------------\u001b[0m",
      "\u001b[1;31mNameError\u001b[0m                                 Traceback (most recent call last)",
      "\u001b[1;32m~\\AppData\\Local\\Temp\\ipykernel_24368\\375805100.py\u001b[0m in \u001b[0;36m<module>\u001b[1;34m\u001b[0m\n\u001b[1;32m----> 1\u001b[1;33m \u001b[0mprint\u001b[0m\u001b[1;33m(\u001b[0m\u001b[0mno\u001b[0m\u001b[1;33m)\u001b[0m\u001b[1;33m\u001b[0m\u001b[1;33m\u001b[0m\u001b[0m\n\u001b[0m",
      "\u001b[1;31mNameError\u001b[0m: name 'no' is not defined"
     ]
    }
   ],
   "source": [
    "print(no)"
   ]
  },
  {
   "cell_type": "code",
   "execution_count": 47,
   "metadata": {},
   "outputs": [
    {
     "data": {
      "text/plain": [
       "Text(0, 0.5, 'risk')"
      ]
     },
     "execution_count": 47,
     "metadata": {},
     "output_type": "execute_result"
    },
    {
     "data": {
      "image/png": "[encoded data removed]",
      "text/plain": [
       "<Figure size 640x480 with 1 Axes>"
      ]
     },
     "metadata": {},
     "output_type": "display_data"
    }
   ],
   "source": [
    "plt.plot(table[:,0],table[:,1])\n",
    "plt.xlabel(\"return\")\n",
    "plt.ylabel(\"risk\")"
   ]
  }
 ],
 "metadata": {
  "kernelspec": {
   "display_name": "Python 3 (ipykernel)",
   "language": "python",
   "name": "python3"
  },
  "language_info": {
   "codemirror_mode": {
    "name": "ipython",
    "version": 3
   },
   "file_extension": ".py",
   "mimetype": "text/x-python",
   "name": "python",
   "nbconvert_exporter": "python",
   "pygments_lexer": "ipython3",
   "version": "3.9.13"
  }
 },
 "nbformat": 4,
 "nbformat_minor": 2
}
