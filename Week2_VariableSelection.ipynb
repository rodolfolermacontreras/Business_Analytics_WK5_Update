{
 "cells": [
  {
   "cell_type": "markdown",
   "metadata": {},
   "source": [
    "# WK 2/Diagnostic and Descriptive Analysis\n",
    "## Variable Selection"
   ]
  },
  {
   "cell_type": "code",
   "execution_count": 1,
   "metadata": {
    "pycharm": {
     "name": "#%%\n"
    }
   },
   "outputs": [],
   "source": [
    "import pandas as pd\n",
    "import os\n",
    "from sys import platform\n",
    "import matplotlib.pyplot as plt\n",
    "import datetime\n",
    "import numpy as np\n",
    "import pickle\n",
    "import seaborn\n",
    "import time"
   ]
  },
  {
   "cell_type": "markdown",
   "metadata": {
    "pycharm": {
     "name": "#%% md\n"
    }
   },
   "source": [
    "## Step 1 - Read pickle file from Week 1"
   ]
  },
  {
   "cell_type": "code",
   "execution_count": 2,
   "metadata": {
    "pycharm": {
     "name": "#%%\n"
    }
   },
   "outputs": [],
   "source": [
    "### Read the data and features from the pickle\n",
    "final_data, discrete_features, continuous_features = pickle.load( open( \"C:\\\\Users\\\\ly266e\\\\Documents\\\\Training\\\\CMU\\\\Master\\\\Fall 2023 Mini 7\\\\Business_Analytics\\\\HW\\\\HW5\\\\Update\\\\PickleData\\\\clean_data_feature.pickle\", \"rb\" ) )"
   ]
  },
  {
   "cell_type": "code",
   "execution_count": 3,
   "metadata": {},
   "outputs": [
    {
     "data": {
      "text/plain": [
       "(181545, 25)"
      ]
     },
     "execution_count": 3,
     "metadata": {},
     "output_type": "execute_result"
    }
   ],
   "source": [
    "final_data.shape"
   ]
  },
  {
   "cell_type": "markdown",
   "metadata": {},
   "source": [
    "## Step 2 - Calculate returns for each loan"
   ]
  },
  {
   "cell_type": "code",
   "execution_count": 4,
   "metadata": {
    "pycharm": {
     "name": "#%%\n"
    }
   },
   "outputs": [],
   "source": [
    "### Define the names of the four returns we'll be calculating\n",
    "ret_cols = [\"ret_PESS\", \"ret_OPT\", \"ret_INTa\", \"ret_INTb\", \"ret_INTc\"]"
   ]
  },
  {
   "cell_type": "code",
   "execution_count": 5,
   "metadata": {
    "pycharm": {
     "name": "#%%\n"
    }
   },
   "outputs": [
    {
     "name": "stdout",
     "output_type": "stream",
     "text": [
      "Removed 8949 rows\n"
     ]
    }
   ],
   "source": [
    "## Remove all rows for loans that were paid back on the days they were issued\n",
    "final_data['loan_length'] = (final_data.last_pymnt_d - final_data.issue_d) / np.timedelta64(1, 'M')\n",
    "n_rows = len(final_data)\n",
    "final_data = final_data[final_data.loan_length != 0]\n",
    "print(\"Removed \" + str(n_rows - len(final_data)) + \" rows\")"
   ]
  },
  {
   "cell_type": "markdown",
   "metadata": {},
   "source": [
    "#### Return Method 2 (pessimistic)"
   ]
  },
  {
   "cell_type": "code",
   "execution_count": 6,
   "metadata": {
    "pycharm": {
     "name": "#%%\n"
    }
   },
   "outputs": [],
   "source": [
    "# Calculate the return using a simple annualized profit margin\n",
    "# Pessimistic definition (method 2)\n",
    "final_data['term_num'] = final_data.term.str.extract('(\\d+)',expand=False).astype(int)\n",
    "final_data['ret_PESS'] = ( (final_data.total_pymnt - final_data.funded_amnt)\n",
    "                                            / final_data.funded_amnt ) * (12 / final_data['term_num'])"
   ]
  },
  {
   "cell_type": "markdown",
   "metadata": {},
   "source": [
    "#### Return Method 1 (optimistic)"
   ]
  },
  {
   "cell_type": "code",
   "execution_count": 7,
   "metadata": {
    "pycharm": {
     "name": "#%%\n"
    }
   },
   "outputs": [],
   "source": [
    "# Assuming that if a loan gives a positive return, we can immediately find a similar loan to invest in; \n",
    "#if the loan takes a loss, we use method 2 to compute the return\n",
    "final_data['ret_OPT'] = ( (final_data.total_pymnt - final_data.funded_amnt)\n",
    "                                            / final_data.funded_amnt ) * (12 / final_data['loan_length'])\n",
    "final_data.loc[final_data.ret_OPT < 0,'ret_OPT'] = final_data.ret_PESS[final_data.ret_OPT < 0]"
   ]
  },
  {
   "cell_type": "markdown",
   "metadata": {},
   "source": [
    "#### Return Method 3 (re-investment)"
   ]
  },
  {
   "cell_type": "code",
   "execution_count": 8,
   "metadata": {
    "pycharm": {
     "name": "#%%\n"
    }
   },
   "outputs": [],
   "source": [
    "def ret_method_3(T, i):\n",
    "    '''\n",
    "    Given an investment time horizon (in months) and re-investment\n",
    "    interest rate, calculate the return of each loan\n",
    "    '''\n",
    "\n",
    "    # Assuming that the total amount paid back was paid at equal\n",
    "    # intervals during the duration of the loan, calculate the size of each of these installment\n",
    "    actual_installment = (final_data.total_pymnt - final_data.recoveries) / final_data['loan_length']\n",
    "\n",
    "    # Assuming the amount is immediately re-invested at the prime\n",
    "    # rate, find the total amount of money we'll have by the end of the loan\n",
    "    cash_by_end_of_loan = actual_installment * (1 - pow(1 + i, final_data.loan_length)) / ( 1 - (1 + i) )\n",
    "\n",
    "    cash_by_end_of_loan = cash_by_end_of_loan + final_data.recoveries\n",
    "\n",
    "    # Assuming that cash is then re-invested at the prime rate,\n",
    "    # with monthly re-investment, until T months from the start of the loan\n",
    "    remaining_months = T - final_data['loan_length']\n",
    "    final_return = cash_by_end_of_loan * pow(1 + i, remaining_months)\n",
    "\n",
    "    # Find the percentage return\n",
    "    return( (12/T) * ( ( final_return - final_data['funded_amnt'] ) / final_data['funded_amnt'] ) )\n",
    "\n",
    "final_data['ret_INTa'] = ret_method_3(5*12, 0.001)\n",
    "final_data['ret_INTb'] = ret_method_3(5*12, 0.0025)\n",
    "final_data['ret_INTc'] = ret_method_3(5*12, 0.005)"
   ]
  },
  {
   "cell_type": "code",
   "execution_count": 9,
   "metadata": {},
   "outputs": [
    {
     "data": {
      "text/plain": [
       "['id',\n",
       " 'loan_amnt',\n",
       " 'funded_amnt',\n",
       " 'term',\n",
       " 'int_rate',\n",
       " 'grade',\n",
       " 'emp_length',\n",
       " 'home_ownership',\n",
       " 'annual_inc',\n",
       " 'verification_status',\n",
       " 'issue_d',\n",
       " 'loan_status',\n",
       " 'purpose',\n",
       " 'dti',\n",
       " 'delinq_2yrs',\n",
       " 'open_acc',\n",
       " 'pub_rec',\n",
       " 'revol_bal',\n",
       " 'revol_util',\n",
       " 'total_pymnt',\n",
       " 'recoveries',\n",
       " 'inq_last_6mths',\n",
       " 'pct_tl_nvr_dlq',\n",
       " 'last_pymnt_d',\n",
       " 'earliest_cr_line',\n",
       " 'loan_length',\n",
       " 'term_num',\n",
       " 'ret_PESS',\n",
       " 'ret_OPT',\n",
       " 'ret_INTa',\n",
       " 'ret_INTb',\n",
       " 'ret_INTc']"
      ]
     },
     "execution_count": 9,
     "metadata": {},
     "output_type": "execute_result"
    }
   ],
   "source": [
    "final_data.columns.tolist()"
   ]
  },
  {
   "cell_type": "code",
   "execution_count": 10,
   "metadata": {
    "pycharm": {
     "name": "#%%\n"
    }
   },
   "outputs": [],
   "source": [
    "# Define the output path for the full pickle with returns info\n",
    "# full_pickle_file = \"/\".join( ['.'] + [\"PickleData\"] + [\"201213ret_data.pickle\"] )\n",
    "pickle_file = \"/\".join(['.', \"PickleData\", \"ret_data_selection.pickle\"])\n",
    "os.makedirs(os.path.dirname(pickle_file), exist_ok=True)\n",
    "full_pickle_file = \"/\".join( ['.'] + [\"PickleData\"] + [\"ret_data_selection.pickle\"] )\n",
    "\n",
    "pickle.dump( [final_data, discrete_features, continuous_features, ret_cols], open(full_pickle_file, \"wb\") )"
   ]
  }
 ],
 "metadata": {
  "kernelspec": {
   "display_name": "Python 3 (ipykernel)",
   "language": "python",
   "name": "python3"
  },
  "language_info": {
   "codemirror_mode": {
    "name": "ipython",
    "version": 3
   },
   "file_extension": ".py",
   "mimetype": "text/x-python",
   "name": "python",
   "nbconvert_exporter": "python",
   "pygments_lexer": "ipython3",
   "version": "3.9.13"
  }
 },
 "nbformat": 4,
 "nbformat_minor": 2
}
